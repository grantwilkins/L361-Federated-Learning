{
  "cells": [
    {
      "cell_type": "markdown",
      "metadata": {
        "id": "wTR0VzOm2B5d"
      },
      "source": [
        "# 0. Marking.\n",
        "\n",
        "***IMPORTANT***: Save a copy of this notebook into your Drive before you start.\n",
        "- Please attempt all the questions marked for your group (Part II ✅ | Part III/MPhil ✅).\n",
        "- Continue to part 2 after you are done with this one.\n",
        "\n",
        "Please submit a zip file, containing both parts, consiting of of:\n",
        "1. A text file with a publicly visible link to your notebooks in Google Colab or GitHub.\n",
        "2. A downloaded copy (ipynb) of your notebooks or your zipped cloned GitHub repo. You may treat these as a report: we will not be re-executing the code you used to produce the answers unless required.\n",
        "\n",
        "If you find yourself enjoying the material, feel free to attempt more! Provide your answers in a new cell below the question cell."
      ]
    },
    {
      "cell_type": "markdown",
      "metadata": {
        "id": "Y1P9epXi-IZ0"
      },
      "source": [
        "### Globals.\n"
      ]
    },
    {
      "cell_type": "code",
      "execution_count": 5,
      "metadata": {
        "colab": {
          "base_uri": "https://localhost:8080/"
        },
        "id": "fTM8comw-IZ2",
        "outputId": "a5b33fbb-984a-4fe7-aa25-b96e9e56b3c6"
      },
      "outputs": [
        {
          "output_type": "stream",
          "name": "stdout",
          "text": [
            "\u001b[2K     \u001b[90m━━━━━━━━━━━━━━━━━━━━━━━━━━━━━━━━━━━━━━━━\u001b[0m \u001b[32m2.1/2.1 MB\u001b[0m \u001b[31m9.5 MB/s\u001b[0m eta \u001b[36m0:00:00\u001b[0m\n",
            "\u001b[?25h  Installing build dependencies ... \u001b[?25l\u001b[?25hdone\n",
            "  Getting requirements to build wheel ... \u001b[?25l\u001b[?25hdone\n",
            "  Preparing metadata (pyproject.toml) ... \u001b[?25l\u001b[?25hdone\n",
            "\u001b[2K   \u001b[90m━━━━━━━━━━━━━━━━━━━━━━━━━━━━━━━━━━━━━━━━\u001b[0m \u001b[32m56.9/56.9 MB\u001b[0m \u001b[31m11.8 MB/s\u001b[0m eta \u001b[36m0:00:00\u001b[0m\n",
            "\u001b[2K   \u001b[90m━━━━━━━━━━━━━━━━━━━━━━━━━━━━━━━━━━━━━━━━\u001b[0m \u001b[32m4.4/4.4 MB\u001b[0m \u001b[31m96.1 MB/s\u001b[0m eta \u001b[36m0:00:00\u001b[0m\n",
            "\u001b[2K   \u001b[90m━━━━━━━━━━━━━━━━━━━━━━━━━━━━━━━━━━━━━━━━\u001b[0m \u001b[32m2.1/2.1 MB\u001b[0m \u001b[31m78.3 MB/s\u001b[0m eta \u001b[36m0:00:00\u001b[0m\n",
            "\u001b[?25h  Building wheel for flwr (pyproject.toml) ... \u001b[?25l\u001b[?25hdone\n",
            "\u001b[33mWARNING: Running pip as the 'root' user can result in broken permissions and conflicting behaviour with the system package manager. It is recommended to use a virtual environment instead: https://pip.pypa.io/warnings/venv\u001b[0m\u001b[33m\n",
            "\u001b[0m"
          ]
        }
      ],
      "source": [
        "# The simulation component of the flower framework uses RAY under the hood.\n",
        "# `pip` could produce some errors. Do not worry about them.\n",
        "# The execution has been verified; it's working anyway.\n",
        "! pip install --quiet --upgrade \"pip\"\n",
        "! pip install --quiet git+https://github.com/Iacob-Alexandru-Andrei/flower.git@teaching torch torchvision matplotlib gdown tqdm ray==\"2.6.3\" seaborn\n",
        "# The following is just needed to show the folder tree"
      ]
    },
    {
      "cell_type": "code",
      "execution_count": 6,
      "metadata": {
        "id": "G9YC7eFA-IZ1"
      },
      "outputs": [],
      "source": [
        "from typing import *"
      ]
    },
    {
      "cell_type": "markdown",
      "metadata": {
        "id": "_zl2hUa1-IZ2"
      },
      "source": [
        "### Imports.\n"
      ]
    },
    {
      "cell_type": "code",
      "execution_count": 7,
      "metadata": {
        "id": "Z7xM_SyD-IZ4"
      },
      "outputs": [],
      "source": [
        "## Imports\n",
        "\n",
        "import csv\n",
        "import numbers\n",
        "import os\n",
        "import random\n",
        "from collections import OrderedDict, defaultdict\n",
        "from copy import deepcopy\n",
        "from pathlib import Path\n",
        "\n",
        "import flwr as fl\n",
        "import gdown\n",
        "import matplotlib.pyplot as plt\n",
        "import numpy as np\n",
        "import seaborn as sns\n",
        "import torch\n",
        "import torch.nn as nn\n",
        "import torch.nn.functional as F\n",
        "from flwr.common import Metrics\n",
        "from flwr.common.parameter import ndarrays_to_parameters\n",
        "from flwr.common.typing import NDArrays, Parameters, Scalar\n",
        "from flwr.server import ServerConfig, History\n",
        "from flwr.client import Client\n",
        "from flwr.server.strategy import FedAvgM as FedAvg, Strategy\n",
        "from PIL import Image\n",
        "from PIL.Image import Image as ImageType\n",
        "from torch.nn import Module\n",
        "from torch.utils.data import DataLoader, Dataset\n",
        "from torchvision import transforms\n",
        "from tqdm import tqdm\n",
        "from enum import IntEnum\n",
        "from datetime import datetime\n",
        "from datetime import timezone\n",
        "import json\n",
        "from flwr.server import ServerConfig\n",
        "from typing import Optional, Union\n",
        "\n",
        "\n",
        "# Add new seeds here for easy autocomplete\n",
        "class Seeds(IntEnum):\n",
        "    DEFAULT = 1337\n",
        "\n",
        "\n",
        "np.random.seed(Seeds.DEFAULT)\n",
        "random.seed(Seeds.DEFAULT)\n",
        "torch.manual_seed(Seeds.DEFAULT)\n",
        "torch.backends.cudnn.benchmark = False  # type: ignore\n",
        "torch.backends.cudnn.deterministic = True  # type: ignore\n",
        "\n",
        "\n",
        "def convert(o):\n",
        "    if isinstance(o, np.int64) or isinstance(o, np.int32):\n",
        "        return int(o)\n",
        "    if isinstance(o, np.float32) or isinstance(o, np.float64):\n",
        "        return float(o)\n",
        "    raise TypeError\n",
        "\n",
        "\n",
        "def fit_client_seeded(client, params, conf, seed=Seeds.DEFAULT, **kwargs):\n",
        "    \"\"\"Wrapper to always seed client training.\"\"\"\n",
        "    np.random.seed(seed)\n",
        "    torch.manual_seed(seed)\n",
        "    random.seed(seed)\n",
        "    return client.fit(params, conf, **kwargs)\n",
        "\n",
        "\n",
        "PathType = Optional[Union[Path, str]]\n",
        "\n",
        "\n",
        "def get_device() -> str:\n",
        "    device = \"cpu\"\n",
        "    if torch.cuda.is_available():\n",
        "        device = \"cuda\"\n",
        "    elif torch.backends.mps.is_available() and torch.backends.mps.is_built():\n",
        "        device = \"mps\"\n",
        "    return device"
      ]
    },
    {
      "cell_type": "code",
      "execution_count": 8,
      "metadata": {
        "colab": {
          "base_uri": "https://localhost:8080/"
        },
        "id": "341p1c5o-IZ4",
        "outputId": "5a1a8d27-b441-4c53-a4e5-a1597b58aa36"
      },
      "outputs": [
        {
          "output_type": "stream",
          "name": "stderr",
          "text": [
            "Downloading...\n",
            "From: https://drive.google.com/uc?export=download&confirm=pbef&id=1-CI6-QoEmGiInV23-n_l6Yd8QGWerw8-\n",
            "To: /content/femnist.tar.gz\n",
            "100%|██████████| 223M/223M [00:03<00:00, 67.7MB/s]\n"
          ]
        },
        {
          "output_type": "stream",
          "name": "stdout",
          "text": [
            "Dataset extracted in /content/femnist\n"
          ]
        }
      ],
      "source": [
        "home_dir = content if (content := Path(\"/content\")).exists() else Path.cwd()\n",
        "dataset_dir: Path = home_dir / \"femnist\"\n",
        "data_dir: Path = dataset_dir / \"data\"\n",
        "centralized_partition: Path = dataset_dir / \"client_data_mappings\" / \"centralized\"\n",
        "centralized_mapping: Path = dataset_dir / \"client_data_mappings\" / \"centralized\" / \"0\"\n",
        "federated_partition: Path = dataset_dir / \"client_data_mappings\" / \"fed_natural\"\n",
        "\n",
        "#  Download compressed dataset\n",
        "if not (home_dir / \"femnist.tar.gz\").exists():\n",
        "    id = \"1-CI6-QoEmGiInV23-n_l6Yd8QGWerw8-\"\n",
        "    gdown.download(\n",
        "        f\"https://drive.google.com/uc?export=download&confirm=pbef&id={id}\",\n",
        "        str(home_dir / \"femnist.tar.gz\"),\n",
        "    )\n",
        "\n",
        "# Decompress dataset\n",
        "if not dataset_dir.exists():\n",
        "    !tar -xf {str(home_dir)}/femnist.tar.gz -C {str(home_dir)} 2> /dev/null\n",
        "    print(f\"Dataset extracted in {dataset_dir}\")"
      ]
    },
    {
      "cell_type": "code",
      "execution_count": 9,
      "metadata": {
        "colab": {
          "base_uri": "https://localhost:8080/"
        },
        "id": "82ktoKJ4-IZ5",
        "outputId": "c8dc334d-3058-47e6-9f16-2e16ca09b640"
      },
      "outputs": [
        {
          "output_type": "stream",
          "name": "stdout",
          "text": [
            "Cloning into 'temp_repo'...\n",
            "remote: Enumerating objects: 150, done.\u001b[K\n",
            "remote: Counting objects: 100% (49/49), done.\u001b[K\n",
            "remote: Compressing objects: 100% (42/42), done.\u001b[K\n",
            "remote: Total 150 (delta 24), reused 14 (delta 7), pack-reused 101\u001b[K\n",
            "Receiving objects: 100% (150/150), 558.58 KiB | 2.79 MiB/s, done.\n",
            "Resolving deltas: 100% (79/79), done.\n"
          ]
        },
        {
          "output_type": "execute_result",
          "data": {
            "text/plain": [
              "<_io.TextIOWrapper name='/content/__init.py' mode='a+' encoding='UTF-8'>"
            ]
          },
          "metadata": {},
          "execution_count": 9
        }
      ],
      "source": [
        "if not (home_dir / \"common\").exists():\n",
        "    ! git clone \"https://github.com/camlsys/L361-Federated-Learning.git\" temp_repo\n",
        "\n",
        "    # Copy the folder to the current directory\n",
        "    ! cp -r \"temp_repo/labs/common\" {home_dir}\n",
        "\n",
        "    # Delete the cloned repository\n",
        "    ! rm -rf temp_repo\n",
        "\n",
        "(home_dir / \"__init.py\").open(mode=\"a+\")"
      ]
    },
    {
      "cell_type": "code",
      "execution_count": 10,
      "metadata": {
        "id": "6bLMKg-y-IZ5"
      },
      "outputs": [],
      "source": [
        "from common.femnist_dataset import FEMNIST\n",
        "\n",
        "from common.client_utils import (\n",
        "    Net,\n",
        "    load_FEMNIST_dataset,\n",
        "    get_network_generator_cnn as get_network_generator,\n",
        "    train_FEMNIST,\n",
        "    test_FEMNIST,\n",
        ")"
      ]
    },
    {
      "cell_type": "markdown",
      "metadata": {
        "id": "C6Q6qaJbjac5"
      },
      "source": [
        "# 5. Building a Flower FL client."
      ]
    },
    {
      "cell_type": "markdown",
      "metadata": {
        "id": "sUEPLGXCxhDe"
      },
      "source": [
        "Our first client abstraction shall be as simple as possible and will require adjustment to match the structure that the flower framework expects. However, it shall be conceptually identical and require only light API changes."
      ]
    },
    {
      "cell_type": "markdown",
      "metadata": {
        "id": "Dh6ebOepFBUC"
      },
      "source": [
        "Moving from centralised ML to server-client FL requires us to provide a means of communication between the respective server and clients. The Flower Framework is ML-framework agnostic and allows various means of transmitting model parameters in the federated network. Since you may have limited resources in these labs, we will only tangentially follow the Flower framework while keeping the computational requirements to a minimum.\n",
        "\n",
        "The simplest and most common encoding for models is the mere transmission of model parameters as NumPy arrays instead of the stateful PyTorch models. The following functions allow for seamless conversions between the two."
      ]
    },
    {
      "cell_type": "code",
      "execution_count": 11,
      "metadata": {
        "id": "Oh2wjiNsVTZI"
      },
      "outputs": [],
      "source": [
        "def set_model_parameters(net: Module, parameters: NDArrays) -> Module:\n",
        "    \"\"\"Function to put a set of parameters into the model object.\n",
        "\n",
        "    Args:\n",
        "        net (Module): model object.\n",
        "        parameters (NDArrays): set of parameters to put into the model.\n",
        "\n",
        "    Returns:\n",
        "        Module: updated model object.\n",
        "    \"\"\"\n",
        "    weights = parameters\n",
        "    params_dict = zip(net.state_dict().keys(), weights)\n",
        "    state_dict = OrderedDict({k: torch.from_numpy(np.copy(v)) for k, v in params_dict})\n",
        "    net.load_state_dict(state_dict, strict=True)\n",
        "    return net\n",
        "\n",
        "\n",
        "def get_model_parameters(net: Module) -> NDArrays:\n",
        "    \"\"\"Function to get the current model parameters as NDArrays.\n",
        "\n",
        "    Args:\n",
        "        net (Module): current model object.\n",
        "\n",
        "    Returns:\n",
        "        NDArrays: set of parameters from the current model.\n",
        "    \"\"\"\n",
        "    return [val.cpu().numpy() for _, val in net.state_dict().items()]"
      ]
    },
    {
      "cell_type": "markdown",
      "metadata": {
        "id": "uHJGcNa7FBUD"
      },
      "source": [
        "With them in place, making the client abstraction compatible with Flower requires only a bit of boilerplate such as allowing NumPy arrays to be received and sent instead of PyTorch models. To achieve this, we provide a model generator capable of creating a network and using the received parameters.\n",
        "\n",
        "To keep client objects light in the memory when not used by the Flower FL simulator, the model generator is only called as needed for either `fit` or `evaluate`."
      ]
    },
    {
      "cell_type": "code",
      "execution_count": 12,
      "metadata": {
        "id": "SCqhfpnJobOZ"
      },
      "outputs": [],
      "source": [
        "class FlowerRayClient(fl.client.NumPyClient):\n",
        "    def __init__(\n",
        "        self,\n",
        "        cid: int,\n",
        "        partition_dir: Path,\n",
        "        model_generator: Callable[[], Module],\n",
        "    ) -> None:\n",
        "        \"\"\"Function to initialise the client with its unique id\n",
        "        and the directory from which it can load its data.\n",
        "\n",
        "        Args:\n",
        "            cid (int): Unique client id for a client used to map it to its data partition\n",
        "            partition_dir (Path): The directory containing data for each client/client id\n",
        "            model_generator (Callable[[], Module]): The model generator function\n",
        "        \"\"\"\n",
        "        self.cid = cid\n",
        "        print(\"cid: \", self.cid)\n",
        "        self.partition_dir = partition_dir\n",
        "        self.device = str(\n",
        "            torch.device(\"cuda:0\" if torch.cuda.is_available() else \"cpu\")\n",
        "        )\n",
        "        self.model_generator: Callable[[], Module] = model_generator\n",
        "        self.properties: Dict[str, Scalar] = {\"tensor_type\": \"numpy.ndarray\"}\n",
        "\n",
        "    def set_parameters(self, parameters: NDArrays) -> Module:\n",
        "        \"\"\"Loads weights inside the network.\n",
        "\n",
        "        Args:\n",
        "            parameters (NDArrays): set of weights to be loaded.\n",
        "\n",
        "        Returns:\n",
        "            [Module]: Network with new set of weights.\n",
        "        \"\"\"\n",
        "        net = self.model_generator()\n",
        "        return set_model_parameters(net, parameters)\n",
        "\n",
        "    def get_parameters(self, config: Dict[int, Scalar]) -> NDArrays:\n",
        "        \"\"\"Returns weights from a given model. If no model is passed, then a\n",
        "        local model is created. This can be used to initialise a model in the\n",
        "        server.\n",
        "        The config param is not used but is mandatory in Flower.\n",
        "\n",
        "        Args:\n",
        "            config (Dict[int, Scalar]): dictionary containing configuration info.\n",
        "\n",
        "        Returns:\n",
        "            NDArrays: weights from the model.\n",
        "        \"\"\"\n",
        "        net = self.model_generator()\n",
        "        return get_model_parameters(net)\n",
        "\n",
        "    def fit(\n",
        "        self, parameters: NDArrays, config: Dict[str, Scalar]\n",
        "    ) -> Tuple[NDArrays, int, dict]:\n",
        "        \"\"\"Function which receives and trains a model on the local client data using parameters from the config dict\n",
        "\n",
        "        Args:\n",
        "            net (NDArrays): Pytorch model parameters\n",
        "            config (Dict[str, Scalar]): Dictionary describing the training parameters\n",
        "\n",
        "        Returns:\n",
        "            Tuple[NDArrays, int, dict]: Returns the updated model, the size of the local dataset and other metrics\n",
        "        \"\"\"\n",
        "\n",
        "        # Only create model right before training/testing\n",
        "        # To lower memory usage when idle\n",
        "        net = self.set_parameters(parameters)\n",
        "        net.to(self.device)\n",
        "\n",
        "        train_loader: DataLoader = self._create_data_loader(config, name=\"train\")\n",
        "        train_loss = self._train(net, train_loader=train_loader, config=config)\n",
        "        return get_model_parameters(net), len(train_loader), {\"train_loss\": train_loss}\n",
        "\n",
        "    def evaluate(\n",
        "        self, parameters: NDArrays, config: Dict[str, Scalar]\n",
        "    ) -> Tuple[float, int, dict]:\n",
        "        \"\"\"Function which receives and tests a model on the local client data using parameters from the config dict\n",
        "\n",
        "        Args:\n",
        "            net (NDArrays): Pytorch model parameters\n",
        "            config (Dict[str, Scalar]): Dictionary describing the testing parameters\n",
        "\n",
        "        Returns:\n",
        "            Tuple[float, int, dict]: Returns the loss accumulate during testing, the size of the local dataset and other metrics such as accuracy\n",
        "        \"\"\"\n",
        "        net = self.set_parameters(parameters)\n",
        "        net.to(self.device)\n",
        "\n",
        "        test_loader: DataLoader = self._create_data_loader(config, name=\"test\")\n",
        "        loss, accuracy = self._test(net, test_loader=test_loader, config=config)\n",
        "        return loss, len(test_loader), {\"local_accuracy\": accuracy}\n",
        "\n",
        "    def _create_data_loader(self, config: Dict[str, Scalar], name: str) -> DataLoader:\n",
        "        \"\"\"Creates the data loader using the specified config parameters\n",
        "\n",
        "        Args:\n",
        "            config (Dict[str, Scalar]): Dictionary containing dataloader and dataset parameters\n",
        "            mode (str): Load the training or testing set for the client\n",
        "\n",
        "        Returns:\n",
        "            DataLoader: A pytorch dataloader iterable for training/testing\n",
        "        \"\"\"\n",
        "        batch_size = int(config[\"batch_size\"])\n",
        "        num_workers = int(config[\"num_workers\"])\n",
        "        dataset = self._load_dataset(name)\n",
        "        return DataLoader(\n",
        "            dataset=dataset,\n",
        "            batch_size=batch_size,\n",
        "            shuffle=True,\n",
        "            num_workers=num_workers,\n",
        "            drop_last=(name == \"train\"),\n",
        "        )\n",
        "\n",
        "    def _load_dataset(self, name) -> Dataset:\n",
        "        full_file: Path = self.partition_dir / str(self.cid)\n",
        "        return load_FEMNIST_dataset(\n",
        "            mapping=full_file,\n",
        "            name=name,\n",
        "            data_dir=data_dir,\n",
        "        )\n",
        "\n",
        "    def _train(\n",
        "        self, net: Module, train_loader: DataLoader, config: Dict[str, Scalar]\n",
        "    ) -> float:\n",
        "        return train_FEMNIST(\n",
        "            net=net,\n",
        "            train_loader=train_loader,\n",
        "            epochs=int(config[\"epochs\"]),\n",
        "            device=self.device,\n",
        "            optimizer=torch.optim.AdamW(\n",
        "                net.parameters(),\n",
        "                lr=float(config[\"client_learning_rate\"]),\n",
        "                weight_decay=float(config[\"weight_decay\"]),\n",
        "            ),\n",
        "            criterion=torch.nn.CrossEntropyLoss(),\n",
        "            max_batches=config[\"max_batches\"],\n",
        "        )\n",
        "\n",
        "    def _test(\n",
        "        self, net, test_loader: DataLoader, config: Dict[str, Scalar]\n",
        "    ) -> Tuple[float, float]:\n",
        "        return test_FEMNIST(\n",
        "            net=net,\n",
        "            test_loader=test_loader,\n",
        "            device=self.device,\n",
        "            criterion=torch.nn.CrossEntropyLoss(),\n",
        "            max_batches=config[\"max_batches\"],\n",
        "        )\n",
        "\n",
        "    def get_properties(self, config: Dict[str, Scalar]) -> Dict[str, Scalar]:\n",
        "        \"\"\"Returns properties for this client.\n",
        "\n",
        "        Args:\n",
        "            config (Dict[str, Scalar]): Options to be used for selecting specific\n",
        "            properties.\n",
        "\n",
        "        Returns:\n",
        "            Dict[str, Scalar]: Returned properties.\n",
        "        \"\"\"\n",
        "        # pylint: disable=unused-argument\n",
        "        return self.properties\n",
        "\n",
        "    def get_train_set_size(self) -> int:\n",
        "        \"\"\"Returns the client train set size.\n",
        "\n",
        "        Returns:\n",
        "            int: train set size of the client.\n",
        "        \"\"\"\n",
        "        return len(self._load_dataset(\"train\"))  # type: ignore\n",
        "\n",
        "    def get_test_set_size(self) -> int:\n",
        "        \"\"\"Returns the client test set size.\n",
        "\n",
        "        Returns:\n",
        "            int: test set size of the client.\n",
        "        \"\"\"\n",
        "        return len(self._load_dataset(\"test\"))  # type: ignore"
      ]
    },
    {
      "cell_type": "markdown",
      "metadata": {
        "id": "7HdLT_IBFBUD"
      },
      "source": [
        "The underlying FL simulator used by Flower is based on [Ray](https://www.ray.io/). It expects each client only to require a client ID for instantiation. Therefore, using the following generator function, we can determine the specific network used for FL together with the FEMNIST partition to which the `cid` refers.\n",
        "\n",
        "While we will not use `Ray` in this lab due to its heavyweight nature, we will keep all code API compatible with the default flower framework."
      ]
    },
    {
      "cell_type": "code",
      "execution_count": 13,
      "metadata": {
        "id": "Mwfh5JZmUcfd"
      },
      "outputs": [],
      "source": [
        "def get_flower_client_generator(\n",
        "    model_generator: Callable[[], Module],\n",
        "    partition_dir: Path,\n",
        "    mapping_fn: Optional[Callable[[int], int]] = None,\n",
        ") -> Callable[[str], FlowerRayClient]:\n",
        "    \"\"\"Wrapper function for the client instance generator.\n",
        "    This provides the client generator with a model generator function.\n",
        "    Also, the partition directory must be passed.\n",
        "    A mapping function could be used for filtering/ordering clients.\n",
        "\n",
        "    Args:\n",
        "        model_generator (Callable[[], Module]): model generator function.\n",
        "        partition_dir (Path): directory containing the partition.\n",
        "        mapping_fn (Optional[Callable[[int], int]]): function mapping sorted/filtered ids to real cid.\n",
        "\n",
        "    Returns:\n",
        "        Callable[[str], FlowerRayClient]: client instance.\n",
        "    \"\"\"\n",
        "\n",
        "    def client_fn(cid: str) -> FlowerRayClient:\n",
        "        \"\"\"Creates a single client instance given the client id `cid`.\n",
        "\n",
        "        Args:\n",
        "            cid (str): client id, Flower requires this to be of type str.\n",
        "\n",
        "        Returns:\n",
        "            FlowerRayClient: client instance.\n",
        "        \"\"\"\n",
        "        return FlowerRayClient(\n",
        "            cid=mapping_fn(int(cid)) if mapping_fn is not None else int(cid),\n",
        "            partition_dir=partition_dir,\n",
        "            model_generator=model_generator,\n",
        "        )\n",
        "\n",
        "    return client_fn"
      ]
    },
    {
      "cell_type": "markdown",
      "metadata": {
        "id": "z4rBKYJqU3bf"
      },
      "source": [
        "To ensure the Flower client behaves the same as our simple demo client, a simple test using the centralised partition we defined earlier should suffice."
      ]
    },
    {
      "cell_type": "code",
      "execution_count": 14,
      "metadata": {
        "colab": {
          "base_uri": "https://localhost:8080/"
        },
        "id": "udMWNQ0xU8VD",
        "outputId": "78154308-cdfe-469f-85bf-4f68551a278e"
      },
      "outputs": [
        {
          "output_type": "stream",
          "name": "stdout",
          "text": [
            "cid:  0\n"
          ]
        }
      ],
      "source": [
        "network_generator = get_network_generator()\n",
        "seed_net: Net = network_generator()\n",
        "seed_model_params: NDArrays = get_model_parameters(seed_net)\n",
        "\n",
        "centralized_flower_client_generator: Callable[\n",
        "    [int], FlowerRayClient\n",
        "] = get_flower_client_generator(network_generator, centralized_partition)  # type: ignore\n",
        "centralized_flower_client = centralized_flower_client_generator(0)"
      ]
    },
    {
      "cell_type": "code",
      "execution_count": 15,
      "metadata": {
        "colab": {
          "base_uri": "https://localhost:8080/"
        },
        "id": "GJima3hoFBUD",
        "outputId": "f3d2c88c-3557-4518-ca8c-8b6b6d0e4c0c"
      },
      "outputs": [
        {
          "output_type": "stream",
          "name": "stdout",
          "text": [
            "{'train_loss': 0.11729214809834958}\n"
          ]
        }
      ],
      "source": [
        "centralized_train_config: Dict[str, Any] = {\n",
        "    \"epochs\": 1,\n",
        "    \"batch_size\": 32,\n",
        "    \"client_learning_rate\": 0.01,\n",
        "    \"weight_decay\": 0.001,\n",
        "    \"num_workers\": 2,\n",
        "    \"max_batches\": 100,\n",
        "}\n",
        "\n",
        "test_config: Dict[str, Any] = {\n",
        "    \"batch_size\": 32,\n",
        "    \"num_workers\": 2,\n",
        "    \"max_batches\": 100,\n",
        "}\n",
        "\n",
        "# Train parameters on the centralised dataset\n",
        "trained_params, num_examples, train_metrics = fit_client_seeded(\n",
        "    centralized_flower_client, params=seed_model_params, conf=centralized_train_config\n",
        ")\n",
        "print(train_metrics)"
      ]
    },
    {
      "cell_type": "code",
      "execution_count": 16,
      "metadata": {
        "colab": {
          "base_uri": "https://localhost:8080/"
        },
        "id": "EdzCbOf0wOWC",
        "outputId": "073c0ae7-195a-4782-92d9-863855d6b2c5"
      },
      "outputs": [
        {
          "output_type": "stream",
          "name": "stderr",
          "text": [
            "  4%|▍         | 100/2329 [00:01<00:39, 56.69it/s]"
          ]
        },
        {
          "output_type": "stream",
          "name": "stdout",
          "text": [
            "370.11396503448486 {'local_accuracy': 0.059375}\n"
          ]
        },
        {
          "output_type": "stream",
          "name": "stderr",
          "text": [
            "\n"
          ]
        }
      ],
      "source": [
        "# Test trained parameters on the centralised dataset\n",
        "loss, num_examples, test_metrics = centralized_flower_client.evaluate(\n",
        "    parameters=trained_params, config=test_config\n",
        ")\n",
        "print(loss, test_metrics)"
      ]
    },
    {
      "cell_type": "markdown",
      "metadata": {
        "id": "IXwkNqUED40K"
      },
      "source": [
        "# 6. FL with natural partitions"
      ]
    },
    {
      "cell_type": "markdown",
      "metadata": {
        "id": "OC0MPZAIM-JC"
      },
      "source": [
        "Given its naturally-partitioned nature, we can easily construct a realistic FL experiment by mapping clients one-to-one with the writers of the original symbols.\n",
        "\n",
        "To pursue this aim, we shall use the “naturally federated” partition instead of the \"centralised” one. We are then using the entire `train.csv` and `test.csv` contained in the subfolders of `client_data_mappings/fed_natural`. Each subfolder is named after the clients' ID in the dataset, i.e., from `0` to `3229`.\n",
        "\n",
        "To guarantee that each client has sufficient training data to participate meaningfully, a common practice is to set a lower bound on the number of samples a selected client is allowed to have. Generally, this threshold should be equivalent to at least one batch. We will now implement a function to sample clients from the federation that satisfies the abovementioned filter in the train set."
      ]
    },
    {
      "cell_type": "code",
      "execution_count": 17,
      "metadata": {
        "id": "6QQv15XxXhvJ"
      },
      "outputs": [],
      "source": [
        "def sample_random_clients(\n",
        "    total_clients: int,\n",
        "    filter_less: int,\n",
        "    partition: Path,\n",
        "    seed: Optional[int] = Seeds.DEFAULT,\n",
        ") -> Sequence[int]:\n",
        "    \"\"\"Function to randomly sample clients.\n",
        "    A filter on the client train set size is performed.\n",
        "\n",
        "    Args:\n",
        "        total_clients (int): total number of clients to sample.\n",
        "        filter_less (int): max number of train samples for which the client is **discarded**.\n",
        "        partition (Path): path to the folder containing the partitioning.\n",
        "        seed (Optional[int], optional): seed for the random generator. Defaults to None.\n",
        "\n",
        "    Returns:\n",
        "        Sequence[int]: list of sample client ids as int.\n",
        "    \"\"\"\n",
        "    real_federated_cid_client_generator: Callable[\n",
        "        [int], FlowerRayClient\n",
        "    ] = get_flower_client_generator(network_generator, federated_partition)  # type: ignore\n",
        "    if seed is not None:\n",
        "        random.seed(seed)\n",
        "    list_of_ids = []\n",
        "    while len(list_of_ids) < total_clients:\n",
        "        current_id = random.randint(0, 3229)\n",
        "        if (\n",
        "            real_federated_cid_client_generator(current_id).get_train_set_size()\n",
        "            > filter_less\n",
        "        ):\n",
        "            list_of_ids.append(current_id)\n",
        "    return list_of_ids"
      ]
    },
    {
      "cell_type": "markdown",
      "metadata": {
        "id": "togXum333D1L"
      },
      "source": [
        "While FEMNIST has more than 3000 clients, our small-scale experiments will not require more than 100 at any point."
      ]
    },
    {
      "cell_type": "code",
      "execution_count": 18,
      "metadata": {
        "colab": {
          "base_uri": "https://localhost:8080/"
        },
        "id": "e-s7oVYNXkwf",
        "outputId": "388301d6-0e47-4832-d4ff-fb597432d73d"
      },
      "outputs": [
        {
          "output_type": "stream",
          "name": "stdout",
          "text": [
            "cid:  2530\n",
            "cid:  2184\n",
            "cid:  2907\n",
            "cid:  1498\n",
            "cid:  2338\n",
            "cid:  2399\n",
            "cid:  2997\n",
            "cid:  678\n",
            "cid:  3175\n",
            "cid:  1363\n",
            "cid:  1571\n",
            "cid:  2600\n",
            "cid:  1473\n",
            "cid:  1260\n",
            "cid:  1603\n",
            "cid:  2855\n",
            "cid:  839\n",
            "cid:  3119\n",
            "cid:  2688\n",
            "cid:  1494\n",
            "cid:  447\n",
            "cid:  1742\n",
            "cid:  2601\n",
            "cid:  1633\n",
            "cid:  267\n",
            "cid:  2070\n",
            "cid:  2863\n",
            "cid:  2736\n",
            "cid:  1425\n",
            "cid:  1653\n",
            "cid:  1652\n",
            "cid:  3020\n",
            "cid:  1273\n",
            "cid:  2718\n",
            "cid:  73\n",
            "cid:  1446\n",
            "cid:  2434\n",
            "cid:  485\n",
            "cid:  1887\n",
            "cid:  1009\n",
            "cid:  701\n",
            "cid:  1285\n",
            "cid:  2782\n",
            "cid:  2828\n",
            "cid:  2476\n",
            "cid:  1872\n",
            "cid:  2471\n",
            "cid:  1084\n",
            "cid:  823\n",
            "cid:  2243\n",
            "cid:  275\n",
            "cid:  2614\n",
            "cid:  2152\n",
            "cid:  2534\n",
            "cid:  2364\n",
            "cid:  3168\n",
            "cid:  179\n",
            "cid:  295\n",
            "cid:  1668\n",
            "cid:  2674\n",
            "cid:  2538\n",
            "cid:  220\n",
            "cid:  2767\n",
            "cid:  70\n",
            "cid:  2600\n",
            "cid:  806\n",
            "cid:  807\n",
            "cid:  428\n",
            "cid:  1167\n",
            "cid:  805\n",
            "cid:  1852\n",
            "cid:  3068\n",
            "cid:  2329\n",
            "cid:  1287\n",
            "cid:  51\n",
            "cid:  2501\n",
            "cid:  1366\n",
            "cid:  1770\n",
            "cid:  2343\n",
            "cid:  937\n",
            "cid:  2251\n",
            "cid:  187\n",
            "cid:  3178\n",
            "cid:  2274\n",
            "cid:  2975\n",
            "cid:  2645\n",
            "cid:  1258\n",
            "cid:  875\n",
            "cid:  2504\n",
            "cid:  740\n",
            "cid:  2167\n",
            "cid:  2157\n",
            "cid:  2164\n",
            "cid:  757\n",
            "cid:  3175\n",
            "cid:  2714\n",
            "cid:  206\n",
            "cid:  3057\n",
            "cid:  2026\n",
            "cid:  2882\n"
          ]
        }
      ],
      "source": [
        "total_clients: int = 100\n",
        "list_of_ids = sample_random_clients(\n",
        "    total_clients, centralized_train_config[\"batch_size\"], federated_partition\n",
        ")\n",
        "\n",
        "federated_client_generator: Callable[\n",
        "    [int], FlowerRayClient\n",
        "] = get_flower_client_generator(\n",
        "    network_generator, federated_partition, lambda seq_id: list_of_ids[seq_id]\n",
        ")  # type: ignore"
      ]
    },
    {
      "cell_type": "markdown",
      "metadata": {
        "id": "BUrsR0JJwZ5R"
      },
      "source": [
        "Now, to test that the newly partitioned clients can be trained."
      ]
    },
    {
      "cell_type": "code",
      "execution_count": 58,
      "metadata": {
        "id": "1HzR2ZY7nhPm"
      },
      "outputs": [],
      "source": [
        "one_epoch_config: Dict[str, Any] = {\n",
        "    \"epochs\": 5,\n",
        "    \"batch_size\": 32,\n",
        "    \"client_learning_rate\": 0.01,\n",
        "    \"weight_decay\": 0.001,\n",
        "    \"num_workers\": 2,\n",
        "    \"max_batches\": 100,\n",
        "}\n",
        "\n",
        "test_config: Dict[str, Any] = {\n",
        "    \"batch_size\": 32,\n",
        "    \"num_workers\": 2,\n",
        "    \"max_batches\": 100,\n",
        "}"
      ]
    },
    {
      "cell_type": "code",
      "execution_count": 59,
      "metadata": {
        "id": "wyoErIaM3D1L"
      },
      "outputs": [],
      "source": [
        "num_clients = 4\n",
        "clients = random.sample(list(range(0, total_clients)), num_clients)"
      ]
    },
    {
      "cell_type": "code",
      "execution_count": 60,
      "metadata": {
        "colab": {
          "base_uri": "https://localhost:8080/"
        },
        "id": "FC1QOYivn_PX",
        "outputId": "b5631a01-58b3-4d12-947d-736f33806626"
      },
      "outputs": [
        {
          "output_type": "stream",
          "name": "stdout",
          "text": [
            "cid:  937\n",
            "cid:  1167\n",
            "cid:  2167\n",
            "cid:  2471\n"
          ]
        }
      ],
      "source": [
        "trained_models = [\n",
        "    fit_client_seeded(\n",
        "        federated_client_generator(cid), seed_model_params, one_epoch_config\n",
        "    )\n",
        "    for cid in clients\n",
        "]"
      ]
    },
    {
      "cell_type": "code",
      "execution_count": 61,
      "metadata": {
        "colab": {
          "base_uri": "https://localhost:8080/"
        },
        "id": "ATLQPQ_fm9ph",
        "outputId": "0b859845-999d-447d-f266-937d06ada88a"
      },
      "outputs": [
        {
          "output_type": "stream",
          "name": "stdout",
          "text": [
            "[[8, {'train_loss': 0.11198980826884508}], [7, {'train_loss': 0.10911377838679723}], [4, {'train_loss': 0.11660375073552132}], [4, {'train_loss': 0.10609660297632217}]]\n"
          ]
        }
      ],
      "source": [
        "trained_model_parameters = [model for model, *rest in trained_models]\n",
        "trained_model_metrics = [rest for _, *rest in trained_models]\n",
        "if one_epoch_config[\"epochs\"] == 1:\n",
        "  trained_model_parameters_1_epoch = trained_model_parameters\n",
        "else:\n",
        "  trained_model_parameters_5_epoch = trained_model_parameters\n",
        "\n",
        "print(trained_model_metrics)"
      ]
    },
    {
      "cell_type": "markdown",
      "metadata": {
        "id": "qgg0G0i23D1L"
      },
      "source": [
        "**Question 5 (Part II ✅ | Part III/MPhil ✅):**\n",
        "\n",
        "(You need to provide the answer with **code** for this question. Written argumentation is **strongly** recommended.)\n",
        "\n",
        "If we index the weights of an ML model consecutively, with the assumed architecture being the same, we can visualize it as a single flattened 1-D vector. One, highly imperfect, metric for determining how similar two ML models are is cosine similarity. We can use this metric to compare the models our clients produce are.\n",
        "\n",
        "1. Write functions to:\n",
        "    - Flatten the `NDArrays` objects into a single 1-D vector.\n",
        "    - Compute the cosine similarity of two 1-D vectors based on their inner product and norms.\n",
        "2. Compute a similarity matrix between all client models and plot it.\n",
        "3. What happens to the similarity matrix if you increase the number of local epochs that clients train for to 5 from 1? Why do you think that is?\n",
        ">You may want to save the parameters calculated here separately from the deault ones as both sets will be needed in future questions."
      ]
    },
    {
      "cell_type": "code",
      "source": [
        "import numpy as np\n",
        "from numpy import dot\n",
        "from numpy.linalg import norm\n",
        "import matplotlib.pyplot as plt\n",
        "import seaborn as sns\n",
        "\n",
        "# Question 5.1\n",
        "def flatten_model_parameters(model_parameters: NDArrays) -> NDArrays:\n",
        "    '''\n",
        "    Function to flatten a list of model parameters.\n",
        "    Args:\n",
        "        model_parameters (NDArrays): list of model parameters.\n",
        "    Returns:\n",
        "        NDArrays: flattened model parameters.\n",
        "    '''\n",
        "    list_of_flattened_parameters = []\n",
        "    for model in model_parameters:\n",
        "        flattened_parameters = []\n",
        "        for param in model:\n",
        "            param = param.ravel()\n",
        "            flattened_parameters.append(param)\n",
        "        list_of_flattened_parameters.append(np.concatenate(flattened_parameters))\n",
        "    return list_of_flattened_parameters\n",
        "\n",
        "# Question 5.2\n",
        "def cosine_sim(a: np.ndarray[Any, np.dtype[Any]], b: np.ndarray[Any, np.dtype[Any]]) -> float:\n",
        "    '''\n",
        "    Function to calculate the cosine similarity between two vectors.\n",
        "    Args:\n",
        "        a (np.ndarray): first vector.\n",
        "        b (np.ndarray): second vector.\n",
        "    Returns:\n",
        "        float: cosine similarity between the two vectors.\n",
        "    '''\n",
        "    return dot(a, b) / (norm(a) * norm(b))\n",
        "\n",
        "\n",
        "# Question 5.3\n",
        "flattened_model_parameters = flatten_model_parameters(trained_model_parameters_1_epoch)\n",
        "matrix_similarity = np.zeros((num_clients, num_clients))\n",
        "for i in range(num_clients):\n",
        "    for j in range(num_clients):\n",
        "        matrix_similarity[i][j] = cosine_sim(\n",
        "            flattened_model_parameters[i], flattened_model_parameters[j]\n",
        "        )\n",
        "\n",
        "plt.figure(figsize=(10, 10))\n",
        "sns.heatmap(matrix_similarity, annot=True, cmap=\"flare\")\n",
        "plt.xlabel(\"Client ID\")\n",
        "plt.ylabel(\"Client ID\")\n",
        "plt.title(\"Cosine Similarity between Client Models 1 Epoch\")\n",
        "plt.tick_params(axis='both', which='major', labelsize=10, labelbottom = False, bottom=False, top = True, labeltop=True)\n",
        "plt.show()\n",
        "\n",
        "\n",
        "flattened_model_parameters = flatten_model_parameters(trained_model_parameters_5_epoch)\n",
        "matrix_similarity = np.zeros((num_clients, num_clients))\n",
        "for i in range(num_clients):\n",
        "    for j in range(num_clients):\n",
        "        matrix_similarity[i][j] = cosine_sim(\n",
        "            flattened_model_parameters[i], flattened_model_parameters[j]\n",
        "        )\n",
        "\n",
        "plt.figure(figsize=(10, 10))\n",
        "sns.heatmap(matrix_similarity, annot=True, cmap=\"flare\")\n",
        "plt.xlabel(\"Client ID\")\n",
        "plt.ylabel(\"Client ID\")\n",
        "plt.title(\"Cosine Similarity between Client Models 5 Epoch\")\n",
        "plt.tick_params(axis='both', which='major', labelsize=10, labelbottom = False, bottom=False, top = True, labeltop=True)\n",
        "plt.show()"
      ],
      "metadata": {
        "colab": {
          "base_uri": "https://localhost:8080/",
          "height": 1000
        },
        "id": "IYfiODD6WF0d",
        "outputId": "3634cd9a-f313-4a69-9031-700bf37e8b6a"
      },
      "execution_count": 62,
      "outputs": [
        {
          "output_type": "display_data",
          "data": {
            "text/plain": [
              "<Figure size 1000x1000 with 2 Axes>"
            ],
            "image/png": "[encoded data removed]"
          },
          "metadata": {}
        },
        {
          "output_type": "display_data",
          "data": {
            "text/plain": [
              "<Figure size 1000x1000 with 2 Axes>"
            ],
            "image/png": "[encoded data removed]"
          },
          "metadata": {}
        }
      ]
    },
    {
      "cell_type": "markdown",
      "source": [
        "We can see that when trained for 5 epochs, the similarity between models diverges because each client being more specialized in the data that it was trained on. In one epoch, models have not diverged that much yet, and are therefore much more similar."
      ],
      "metadata": {
        "id": "oXOmJWOEbZ3H"
      }
    },
    {
      "cell_type": "markdown",
      "metadata": {
        "id": "CwWkQ6iixhDh"
      },
      "source": [
        "**Question 6 (Part III/MPhil ✅):**\n",
        "\n",
        "(You need to provide the answer with **code** for this question. Written argumentation is **strongly** recommended.)\n",
        "\n",
        "One reason that cosine similarity is an imperfect metric is because it considers weights from different layers to be equally important to the model in terms of its behavior and performance. We can thus create a slightly more detailed picture by tracking the cosine similarity across layers.\n",
        "\n",
        "1. Create a function which computes the pairwise cosine similarity between flattened model layers across clients, i.e. the cosine similarity between the flattened $l_i$ in `client_x` and the flattened $l_i$ in `client_y`.\n",
        "2. Plot the similarity of the models at each layer between the most similar client pair and the most disimilar client pair (as determined by the multi-epoch experiment) using the **one-epoch models**, how do the curves you observe relate to the general cosine similarity you computed for the flattened models.\n",
        "3. What happens to the curves if you increase the number of local epochs to 5? How does this behavior relate to what you observed in the previous exercise ?\n",
        "4. **Optional**: Do you think there is any connection to the underlying architecture? Why? Repeat the above experiments using an MLP such as the one provided by the  `get_network_generator_mlp` in `client_utils` and compare results against the CNN."
      ]
    },
    {
      "cell_type": "code",
      "source": [
        "# Question 1\n",
        "def flatten_model_parameters_by_layer(model_parameters: NDArrays) -> NDArrays:\n",
        "    '''\n",
        "    Function to flatten a list of model parameters to retain layers.\n",
        "    Args:\n",
        "        model_parameters (NDArrays): list of model parameters.\n",
        "    Returns:\n",
        "        NDArrays: flattened model parameters in list of layers.\n",
        "    '''\n",
        "    list_of_flattened_parameters = []\n",
        "    for model in model_parameters:\n",
        "        flattened_params = []\n",
        "        for param in model:\n",
        "            param = param.ravel()\n",
        "            flattened_params.append(param)\n",
        "        list_of_flattened_parameters.append(flattened_params)\n",
        "    return list_of_flattened_parameters\n",
        "\n",
        "# Question 1\n",
        "def cosine_sim_by_layer(a: List[np.ndarray[Any, np.dtype[Any]]], b: List[np.ndarray[Any, np.dtype[Any]]]) -> List[float]:\n",
        "    '''\n",
        "    Function to calculate the cosine similarity between two lists of layers.\n",
        "    Args:\n",
        "        a (list[np.ndarray]): first vector.\n",
        "        b (list[np.ndarray]): second vector.\n",
        "    Returns:\n",
        "        list[float]: cosine similarity between the two lists of layers.\n",
        "    '''\n",
        "    cosine_similarities = []\n",
        "    for layer in range(len(a)):\n",
        "        cosine_similarities.append(dot(a[layer], b[layer]) / (norm(a[layer]) * norm(b[layer])))\n",
        "    return cosine_similarities\n",
        "\n",
        "\n",
        "# Question 2\n",
        "\n",
        "\n",
        "plt.figure(figsize=(10, 5))\n",
        "flattened_model_parameters_layers = flatten_model_parameters_by_layer(trained_model_parameters_1_epoch)\n",
        "least_sim = cosine_sim_by_layer(flattened_model_parameters_layers[0], flattened_model_parameters_layers[1])\n",
        "most_sim = cosine_sim_by_layer(flattened_model_parameters_layers[2], flattened_model_parameters_layers[3])\n",
        "plt.plot(range(len(most_sim)), most_sim, label=\"Most Similar\")\n",
        "plt.plot(range(len(least_sim)), least_sim, label=\"Least Similar\")\n",
        "plt.xlabel(\"Layer Number\")\n",
        "plt.ylabel(\"Cosine Similarity\")\n",
        "plt.title(\"1 Epoch of Training\")\n",
        "plt.legend()\n",
        "plt.show()\n",
        "\n",
        "plt.figure(figsize=(10, 5))\n",
        "flattened_model_parameters_layers = flatten_model_parameters_by_layer(trained_model_parameters_5_epoch)\n",
        "least_sim = cosine_sim_by_layer(flattened_model_parameters_layers[0], flattened_model_parameters_layers[1])\n",
        "most_sim = cosine_sim_by_layer(flattened_model_parameters_layers[2], flattened_model_parameters_layers[3])\n",
        "plt.plot(range(len(most_sim)), most_sim, label=\"Most Similar\")\n",
        "plt.plot(range(len(least_sim)), least_sim, label=\"Least Similar\")\n",
        "plt.xlabel(\"Layer Number\")\n",
        "plt.ylabel(\"Cosine Similarity\")\n",
        "plt.title(\"5 Epochs of Training\")\n",
        "plt.legend()\n",
        "plt.show()"
      ],
      "metadata": {
        "colab": {
          "base_uri": "https://localhost:8080/",
          "height": 957
        },
        "id": "cpkNqLNuc-0E",
        "outputId": "5095d788-06b1-4e64-a81e-f9f8c38a6758"
      },
      "execution_count": 63,
      "outputs": [
        {
          "output_type": "display_data",
          "data": {
            "text/plain": [
              "<Figure size 1000x500 with 1 Axes>"
            ],
            "image/png": "[encoded data removed]"
          },
          "metadata": {}
        },
        {
          "output_type": "display_data",
          "data": {
            "text/plain": [
              "<Figure size 1000x500 with 1 Axes>"
            ],
            "image/png": "[encoded data removed]"
          },
          "metadata": {}
        }
      ]
    },
    {
      "cell_type": "markdown",
      "source": [
        "This is a 5 layer model, but when using the state dictionary the format is alternating weights and biases. We treat these as two separate layers and as they are encoding different information, therefore this is way the number of layers is ten. We choose to include them to tell the full story of each model's divergence.\n",
        "\n",
        "We can notice that the similarity per layer in the 5-epoch case goes down quite significantly and we are left with a middle of the model that is very unlike that of the beginning and end of the model. This is likely due to this being the densest part of the network, meaning that these weights will vary heavily based on the data in the training set, especially after 5 epochs."
      ],
      "metadata": {
        "id": "dFS1oNikatjC"
      }
    },
    {
      "cell_type": "markdown",
      "metadata": {
        "id": "ifI1FmOywjqL"
      },
      "source": [
        "# 7. Federated training with Flower"
      ]
    },
    {
      "cell_type": "markdown",
      "metadata": {
        "id": "pfDcWWoc2B5q"
      },
      "source": [
        "The two basic blocks of synchronous server-client FL systems are:\n",
        "- A client with some local training method and data---i.e., SGD. This is what we have built thus far.\n",
        "- A server which coordinates training sends the federated model to clients at the start of each round and aggregates model updates at the end of each round."
      ]
    },
    {
      "cell_type": "markdown",
      "metadata": {
        "id": "Fk9W7CTgoUxS"
      },
      "source": [
        "\n",
        "![picture](https://drive.google.com/uc?id=1Db_Uys2QPFHW6cMranZ_QXo2vC0A_C-N)"
      ]
    },
    {
      "cell_type": "markdown",
      "metadata": {
        "id": "Wdcfcz_e2B5q"
      },
      "source": [
        "While the variety of client local training methods is as wide as ML, server training varies depending on which **aggregation algorithm** combines the model updates and forms the new federated model. Flower refers to the component that controls the aggregation and train/test configuration as a **strategy**. For our labs, strategy and aggregation algorithms will be used interchangeably.\n",
        "\n",
        "The strategy we shall use is [FedAvg](https://arxiv.org/abs/1602.05629):\n",
        "\n",
        "$G^{r+1} = G^{r} + \\eta \\left( \\sum_{k=1}^{m} p_k G^r_k \\right)$,\n",
        "\n",
        "where $G^{r+1}$ is the model for the next round, which is formed by applying a model update to the current round model $G^{r}$ weighted by the aggregation learning rate $\\eta$. The model update is constructed by a sum of client models $G^{r}_k$ where each client model is weighted by $p_k$. The weight factor is usually set to $p_k = \\tfrac{n_k}{N}$---the number of training examples held by said client divided by the example count of each client in the round $N = \\sum_{k=1}^{m} n_k$.\n",
        "\n"
      ]
    },
    {
      "cell_type": "markdown",
      "metadata": {
        "id": "7unJaupF-IaB"
      },
      "source": [
        "**Question 7 (Part II ✅ | Part III/MPhil ✅):**\n",
        "\n",
        "(You need to provide the answer with **code** for this question. Written argumentation is **strongly** recommended.)\n",
        "\n",
        "Averaging models is meant to provide us with a reasonable compromise between the desired models of all clients involved. Given what you already know about the similarity of client models, we can test if this is true.\n",
        "1. Write a function to compute the weighted average of two `NDArrays` objects while preserving the layer-structure. Use the FedAvg equation above with $p_k = \\tfrac{n_k}{N}$.\n",
        "2. Compute the average model of the client models above, both the one-epoch and multi-epoch ones.\n",
        "3. Add the averaged models to the cosine-similarity matrices built above, how does it relate to the client models?"
      ]
    },
    {
      "cell_type": "code",
      "source": [
        "# Question 7.1\n",
        "def weighted_average(model1: NDArrays, model2: NDArrays, weight1: float, weight2: float) -> NDArrays:\n",
        "    '''\n",
        "    Function to calculate the weighted average of two models.\n",
        "    Args:\n",
        "        model1 (NDArrays): first model.\n",
        "        model2 (NDArrays): second model.\n",
        "    Returns:\n",
        "        NDArrays: weighted average of the two models.\n",
        "    '''\n",
        "    weighted_average = []\n",
        "    for i in range(len(model1)):\n",
        "        weighted_average.append(model1[i] * weight1 + model2[i] * weight2)\n",
        "    return weighted_average\n",
        "\n",
        "\n",
        "# Question 7.2\n",
        "average_model_1_epoch = []\n",
        "for model in trained_model_parameters_1_epoch:\n",
        "    num_clients = len(trained_model_parameters)\n",
        "    for layer in range(len(model)):\n",
        "        if len(average_model_1_epoch) <= layer:\n",
        "            average_model_1_epoch.append(model[layer] * 1/num_clients)\n",
        "        else:\n",
        "            average_model_1_epoch[layer] = average_model_1_epoch[layer] + model[layer] * 1/num_clients\n",
        "\n",
        "average_model_5_epoch = []\n",
        "for model in trained_model_parameters_5_epoch:\n",
        "    num_clients = len(trained_model_parameters)\n",
        "    for layer in range(len(model)):\n",
        "        if len(average_model_5_epoch) <= layer:\n",
        "            average_model_5_epoch.append(model[layer] * 1/num_clients)\n",
        "        else:\n",
        "            average_model_5_epoch[layer] = average_model_5_epoch[layer] + model[layer] * 1/num_clients\n",
        "\n",
        "\n",
        "#trained_model_parameters_1_epoch.append(average_model_1_epoch)\n",
        "#trained_model_parameters_5_epoch.append(average_model_5_epoch)\n",
        "\n",
        "flattened_model_parameters = flatten_model_parameters(trained_model_parameters_1_epoch)\n",
        "matrix_similarity = np.zeros((num_clients, num_clients))\n",
        "for i in range(num_clients):\n",
        "    for j in range(num_clients):\n",
        "        matrix_similarity[i][j] = cosine_sim(\n",
        "            flattened_model_parameters[i], flattened_model_parameters[j]\n",
        "        )\n",
        "\n",
        "plt.figure(figsize=(10, 10))\n",
        "sns.heatmap(matrix_similarity, annot=True, cmap=\"flare\")\n",
        "plt.xlabel(\"Client ID\")\n",
        "plt.ylabel(\"Client ID\")\n",
        "plt.title(\"Cosine Similarity between Client Models 1 Epoch\")\n",
        "plt.tick_params(axis='both', which='major', labelsize=10, labelbottom = False, bottom=False, top = True, labeltop=True)\n",
        "plt.show()\n",
        "\n",
        "\n",
        "flattened_model_parameters = flatten_model_parameters(trained_model_parameters_5_epoch)\n",
        "matrix_similarity = np.zeros((num_clients, num_clients))\n",
        "for i in range(num_clients):\n",
        "    for j in range(num_clients):\n",
        "        matrix_similarity[i][j] = cosine_sim(\n",
        "            flattened_model_parameters[i], flattened_model_parameters[j]\n",
        "        )\n",
        "\n",
        "plt.figure(figsize=(10, 10))\n",
        "sns.heatmap(matrix_similarity, annot=True, cmap=\"flare\")\n",
        "plt.xlabel(\"Client ID\")\n",
        "plt.ylabel(\"Client ID\")\n",
        "plt.title(\"Cosine Similarity between Client Models 5 Epoch\")\n",
        "plt.tick_params(axis='both', which='major', labelsize=10, labelbottom = False, bottom=False, top = True, labeltop=True)\n",
        "plt.show()"
      ],
      "metadata": {
        "colab": {
          "base_uri": "https://localhost:8080/",
          "height": 1000
        },
        "id": "Y1Z7x_qtIWvd",
        "outputId": "c4c42aa3-472c-4649-9897-3af03601d968"
      },
      "execution_count": 66,
      "outputs": [
        {
          "output_type": "display_data",
          "data": {
            "text/plain": [
              "<Figure size 1000x1000 with 2 Axes>"
            ],
            "image/png": "[encoded data removed]"
          },
          "metadata": {}
        },
        {
          "output_type": "display_data",
          "data": {
            "text/plain": [
              "<Figure size 1000x1000 with 2 Axes>"
            ],
            "image/png": "[encoded data removed]"
          },
          "metadata": {}
        }
      ]
    },
    {
      "cell_type": "markdown",
      "source": [
        "Following how the question was written, we take in two NDArrays objects, iterater through them, and give them a certain weight. There was slight ambiguity in this question, as it was not clear whether the NDArrays would contain multiple models or would just be a single model.\n",
        "\n",
        "We then implement our own averaging method that would equally weight each client, considering we had the same batch size for each client and that would mean that each client would be weighted 1/(num_clients). We then appended our models to the list of models used to generate the cosine similarity matrices. We recalculated this to show how similar each model was to the averaged model.\n",
        "\n",
        "We see that they are very similar to the client models, most in a 1-epoch case where the models have not diverged."
      ],
      "metadata": {
        "id": "nPmR_4rAZiTK"
      }
    },
    {
      "cell_type": "markdown",
      "metadata": {
        "id": "RHlT2igu-IaB"
      },
      "source": [
        "**Question 8 (Part III/MPhil ✅):**\n",
        "\n",
        "(You need to provide the answer with **code** for this question. Written argumentation is **strongly** recommended.)\n",
        "\n",
        "\n",
        "1. Repeat the procedure above but for layer-wise cosine similarity and plot the cosine similarity of the two clients client most similar and most disimillar to the averaged model (as determined by the five-epoch condition) using the one-epoch models.\n",
        "2. How does the relationship change for the higher-epoch condition?"
      ]
    },
    {
      "cell_type": "code",
      "source": [
        "plt.figure(figsize=(10, 5))\n",
        "flattened_model_parameters_layers = flatten_model_parameters_by_layer(trained_model_parameters_1_epoch)\n",
        "least_sim = cosine_sim_by_layer(flattened_model_parameters_layers[0], flattened_model_parameters_layers[4])\n",
        "most_sim = cosine_sim_by_layer(flattened_model_parameters_layers[3], flattened_model_parameters_layers[4])\n",
        "plt.plot(range(len(most_sim)), most_sim, label=\"Most Similar\")\n",
        "plt.plot(range(len(least_sim)), least_sim, label=\"Least Similar\")\n",
        "plt.xlabel(\"Layer Number\")\n",
        "plt.ylabel(\"Cosine Similarity\")\n",
        "plt.title(\"1 Epoch of Training\")\n",
        "plt.legend()\n",
        "plt.show()\n",
        "\n",
        "plt.figure(figsize=(10, 5))\n",
        "flattened_model_parameters_layers = flatten_model_parameters_by_layer(trained_model_parameters_5_epoch)\n",
        "least_sim = cosine_sim_by_layer(flattened_model_parameters_layers[0], flattened_model_parameters_layers[4])\n",
        "most_sim = cosine_sim_by_layer(flattened_model_parameters_layers[3], flattened_model_parameters_layers[4])\n",
        "plt.plot(range(len(most_sim)), most_sim, label=\"Most Similar\")\n",
        "plt.plot(range(len(least_sim)), least_sim, label=\"Least Similar\")\n",
        "plt.xlabel(\"Layer Number\")\n",
        "plt.ylabel(\"Cosine Similarity\")\n",
        "plt.title(\"5 Epochs of Training\")\n",
        "plt.legend()\n",
        "plt.show()"
      ],
      "metadata": {
        "colab": {
          "base_uri": "https://localhost:8080/",
          "height": 957
        },
        "id": "xy0EE3P-NSjJ",
        "outputId": "0af82f4f-464d-4fc2-cc41-6c1bc39c5f18"
      },
      "execution_count": 67,
      "outputs": [
        {
          "output_type": "display_data",
          "data": {
            "text/plain": [
              "<Figure size 1000x500 with 1 Axes>"
            ],
            "image/png": "[encoded data removed]"
          },
          "metadata": {}
        },
        {
          "output_type": "display_data",
          "data": {
            "text/plain": [
              "<Figure size 1000x500 with 1 Axes>"
            ],
            "image/png": "[encoded data removed]"
          },
          "metadata": {}
        }
      ]
    },
    {
      "cell_type": "markdown",
      "source": [
        "Here we plot the 0th and averaged model for the least similar, and the 3rd and averaged model for the most similar. These were the highest and lowest similarity values from the plotted matrix shown above for the 5-epoch condition.\n",
        "\n",
        "We see the same story that after 5 epochs the models have still largely diverged from each other, and this is still clear in comparison to the averaged model. However, the most and least similar are following much closer trends than that of the most and least similar in the 1-epoch setting."
      ],
      "metadata": {
        "id": "jM9Nxn4hY1R5"
      }
    },
    {
      "cell_type": "markdown",
      "metadata": {
        "id": "cxsFjUN03D1M"
      },
      "source": [
        "The pieces necessary for starting an FL simulation are now in play; we need to arrange them to fit the Flower API. First, we shall require a separate federated evaluation function which can be called outside the context of a specific client. It will use the centralised test set to be as simple as possible."
      ]
    },
    {
      "cell_type": "code",
      "execution_count": 68,
      "metadata": {
        "id": "OO7CqzaE3D1M"
      },
      "outputs": [],
      "source": [
        "def get_federated_evaluation_function(\n",
        "    batch_size: int,\n",
        "    num_workers: int,\n",
        "    model_generator: Callable[[], Module],\n",
        "    criterion: Module,\n",
        "    max_batches: int,\n",
        ") -> Callable[[int, NDArrays, Dict[str, Any]], Tuple[float, Dict[str, Scalar]]]:\n",
        "    \"\"\"Wrapper function for the external federated evaluation function.\n",
        "    It provides the external federated evaluation function with some\n",
        "    parameters for the dataloader, the model generator function, and\n",
        "    the criterion used in the evaluation.\n",
        "\n",
        "    Args:\n",
        "        batch_size (int): batch size of the test set to use.\n",
        "        num_workers (int): correspond to `num_workers` param in the Dataloader object.\n",
        "        model_generator (Callable[[], Module]):  model generator function.\n",
        "        criterion (Module): PyTorch Module containing the criterion for evaluating the model.\n",
        "\n",
        "    Returns:\n",
        "        Callable[[int, NDArrays, Dict[str, Any]], Tuple[float, Dict[str, Scalar]]]: external federated evaluation function.\n",
        "    \"\"\"\n",
        "\n",
        "    def federated_evaluation_function(\n",
        "        server_round: int,\n",
        "        parameters: NDArrays,\n",
        "        fed_eval_config: Dict[\n",
        "            str, Any\n",
        "        ],  # mandatory argument, even if it's not being used\n",
        "    ) -> Tuple[float, Dict[str, Scalar]]:\n",
        "        \"\"\"Evaluation function external to the federation.\n",
        "        It uses the centralized val set for sake of simplicity.\n",
        "\n",
        "        Args:\n",
        "            server_round (int): current federated round.\n",
        "            parameters (NDArrays): current model parameters.\n",
        "            fed_eval_config (Dict[str, Any]): mandatory argument in Flower, can contain some configuration info\n",
        "\n",
        "        Returns:\n",
        "            Tuple[float, Dict[str, Scalar]]: evaluation results\n",
        "        \"\"\"\n",
        "        device: str = get_device()\n",
        "        net: Module = set_model_parameters(model_generator(), parameters)\n",
        "        net.to(device)\n",
        "\n",
        "        full_file: Path = centralized_mapping\n",
        "        dataset: Dataset = load_FEMNIST_dataset(data_dir, full_file, \"val\")\n",
        "\n",
        "        valid_loader = DataLoader(\n",
        "            dataset=dataset,\n",
        "            batch_size=batch_size,\n",
        "            shuffle=False,\n",
        "            num_workers=num_workers,\n",
        "            drop_last=False,\n",
        "        )\n",
        "\n",
        "        loss, acc = test_FEMNIST(\n",
        "            net=net,\n",
        "            test_loader=valid_loader,\n",
        "            device=device,\n",
        "            criterion=criterion,\n",
        "            max_batches=max_batches,\n",
        "        )\n",
        "        return loss, {\"accuracy\": acc}\n",
        "\n",
        "    return federated_evaluation_function\n",
        "\n",
        "\n",
        "federated_evaluation_function = get_federated_evaluation_function(\n",
        "    batch_size=test_config[\"batch_size\"],\n",
        "    num_workers=test_config[\"num_workers\"],\n",
        "    model_generator=network_generator,\n",
        "    criterion=nn.CrossEntropyLoss(),\n",
        "    max_batches=test_config[\"num_workers\"],\n",
        ")"
      ]
    },
    {
      "cell_type": "code",
      "execution_count": 69,
      "metadata": {
        "id": "7D1cEkrB2B5r"
      },
      "outputs": [],
      "source": [
        "def aggregate_weighted_average(metrics: List[Tuple[int, dict]]) -> dict:\n",
        "    \"\"\"Generic function to combine results from multiple clients\n",
        "    following training or evaluation.\n",
        "\n",
        "    Args:\n",
        "        metrics (List[Tuple[int, dict]]): collected clients metrics\n",
        "\n",
        "    Returns:\n",
        "        dict: result dictionary containing the aggregate of the metrics passed.\n",
        "    \"\"\"\n",
        "    average_dict: dict = defaultdict(list)\n",
        "    total_examples: int = 0\n",
        "    for num_examples, metrics_dict in metrics:\n",
        "        for key, val in metrics_dict.items():\n",
        "            if isinstance(val, numbers.Number):\n",
        "                average_dict[key].append((num_examples, val))  # type:ignore\n",
        "        total_examples += num_examples\n",
        "    return {\n",
        "        key: {\n",
        "            \"avg\": float(\n",
        "                sum([num_examples * metr for num_examples, metr in val])\n",
        "                / float(total_examples)\n",
        "            ),\n",
        "            \"all\": val,\n",
        "        }\n",
        "        for key, val in average_dict.items()\n",
        "    }"
      ]
    },
    {
      "cell_type": "code",
      "execution_count": 70,
      "metadata": {
        "id": "-sxyPBQ0zSoD"
      },
      "outputs": [],
      "source": [
        "# Federated configuration dictionary\n",
        "federated_train_config: Dict[str, Any] = {\n",
        "    \"epochs\": 5,\n",
        "    \"batch_size\": 32,\n",
        "    \"client_learning_rate\": 0.01,\n",
        "    \"weight_decay\": 0.001,\n",
        "    \"num_workers\": 0,\n",
        "    \"max_batches\": 100,\n",
        "}"
      ]
    },
    {
      "cell_type": "markdown",
      "metadata": {
        "id": "JNLIfqk0xhDj"
      },
      "source": [
        "The only challenge left is the FL simulation itself. In `Flower`, a `Server` object handles this for us by using `Ray` and spawning many heavyweight worker process.\n",
        "\n",
        "Given the limited-resource scenario in which we find ourselves, we provide you with a slightly modified simulation function which uses a simple thread pool. Feel free to swap it out for the original simulation or replace it with your own implementation if so inclined.\n",
        "\n",
        "> The server we use is not the default `Flower` server as it returns the model parameters from every single round in a `(round, NDArrays)` tuple."
      ]
    },
    {
      "cell_type": "code",
      "execution_count": 71,
      "metadata": {
        "id": "1Fs5gtK-3D1M"
      },
      "outputs": [],
      "source": [
        "def save_history(hist: History, name: str):\n",
        "    time = int(datetime.now(timezone.utc).timestamp())\n",
        "    path = home_dir / \"histories\"\n",
        "    path.mkdir(exist_ok=True)\n",
        "    path = path / f\"hist_{time}_{name}.json\"\n",
        "    with open(path, \"w\", encoding=\"utf-8\") as f:\n",
        "        json.dump(hist.__dict__, f, ensure_ascii=False, indent=4, default=convert)\n",
        "\n",
        "\n",
        "def start_seeded_simulation(\n",
        "    client_fn: Callable[[int], Client],\n",
        "    num_clients: int,\n",
        "    config: ServerConfig,\n",
        "    strategy: Strategy,\n",
        "    name: str,\n",
        "    return_all_parameters: bool = False,\n",
        "    seed: int = Seeds.DEFAULT,\n",
        "    iteration: int = 0,\n",
        ") -> Tuple[List[Tuple[int, NDArrays]], History]:\n",
        "    \"\"\"Wrapper to always seed client selection.\"\"\"\n",
        "    np.random.seed(seed ^ iteration)\n",
        "    torch.manual_seed(seed ^ iteration)\n",
        "    random.seed(seed ^ iteration)\n",
        "    parameter_list, hist = fl.simulation.start_simulation_no_ray(\n",
        "        client_fn=client_fn,\n",
        "        num_clients=num_clients,\n",
        "        client_resources={},\n",
        "        config=config,\n",
        "        strategy=strategy,\n",
        "    )\n",
        "    save_history(hist, name)\n",
        "    return parameter_list, hist"
      ]
    },
    {
      "cell_type": "code",
      "execution_count": 89,
      "metadata": {
        "id": "JkqplxMXLm8K"
      },
      "outputs": [],
      "source": [
        "num_rounds = 50\n",
        "\n",
        "num_total_clients = 20\n",
        "\n",
        "num_evaluate_clients = 0\n",
        "num_clients_per_round = 5\n",
        "\n",
        "\n",
        "def run_simulation(\n",
        "    # How long the FL process runs for:\n",
        "    num_rounds: int = num_rounds,\n",
        "    # Number of clients available\n",
        "    num_total_clients: int = num_total_clients,\n",
        "    # Number of clients used for train/eval\n",
        "    num_clients_per_round: int = num_clients_per_round,\n",
        "    num_evaluate_clients: int = num_evaluate_clients,\n",
        "    # If less clients are overall available stop FL\n",
        "    min_available_clients: int = num_total_clients,\n",
        "    # If less clients are available for fit/eval stop FL\n",
        "    min_fit_clients: int = num_clients_per_round,\n",
        "    min_evaluate_clients: int = num_evaluate_clients,\n",
        "    # Function to test the federated model performance\n",
        "    # external to a client instantiation\n",
        "    evaluate_fn=federated_evaluation_function,\n",
        "    # Functions to generate a config for client fit/evaluate\n",
        "    # by-default the same config is shallow-copied to all clients in Flower\n",
        "    # this version simply uses the configs defined above\n",
        "    on_fit_config_fn: Callable[\n",
        "        [int], Dict[str, Scalar]\n",
        "    ] = lambda cid: federated_train_config,\n",
        "    on_evaluate_config_fn: Callable[[int], Dict[str, Scalar]] = lambda cid: test_config,\n",
        "    # The \"Parameters\" type is merely a more packed version\n",
        "    # of numpy array lists, used internally by Flower\n",
        "    initial_parameters: Parameters = ndarrays_to_parameters(seed_model_params),\n",
        "    # If this is set to True, aggregation will work even if some clients fail\n",
        "    accept_failures: bool = False,\n",
        "    # How to combine the metrics dictionary returned by all clients for fit/eval\n",
        "    fit_metrics_aggregation_fn: Optional[Callable] = aggregate_weighted_average,\n",
        "    evaluate_metrics_aggregation_fn: Optional[Callable] = aggregate_weighted_average,\n",
        "    federated_client_generator: Callable[\n",
        "        [int], fl.client.NumPyClient\n",
        "    ] = federated_client_generator,\n",
        "    # Aggregation learning rate for FedAvg\n",
        "    server_learning_rate: float = 1.0,\n",
        "    server_momentum: float = 0.0,\n",
        ") -> Tuple[List[Tuple[int, NDArrays]], History]:\n",
        "    print(num_rounds)\n",
        "\n",
        "    # Percentage of clients used for train/eval\n",
        "    fraction_fit: float = float(num_clients_per_round) / num_total_clients\n",
        "    fraction_evaluate: float = float(num_evaluate_clients) / num_total_clients\n",
        "\n",
        "    strategy = FedAvg(\n",
        "        fraction_fit=fraction_fit,\n",
        "        fraction_evaluate=fraction_evaluate,\n",
        "        min_fit_clients=num_clients_per_round,\n",
        "        min_evaluate_clients=num_evaluate_clients,\n",
        "        min_available_clients=num_total_clients,\n",
        "        on_fit_config_fn=on_fit_config_fn,\n",
        "        on_evaluate_config_fn=on_evaluate_config_fn,\n",
        "        evaluate_fn=evaluate_fn,\n",
        "        initial_parameters=initial_parameters,\n",
        "        accept_failures=accept_failures,\n",
        "        fit_metrics_aggregation_fn=fit_metrics_aggregation_fn,\n",
        "        evaluate_metrics_aggregation_fn=evaluate_metrics_aggregation_fn,\n",
        "        server_learning_rate=server_learning_rate,\n",
        "        server_momentum=server_momentum,\n",
        "    )\n",
        "    # resetting the seed for the random selection of clients\n",
        "    # this way the list of clients trained is guaranteed to be always the same\n",
        "\n",
        "    cfg = ServerConfig(num_rounds)\n",
        "\n",
        "    simulator_client_generator = lambda cid: federated_client_generator(cid).to_client()\n",
        "\n",
        "    parameters_for_each_round, hist = start_seeded_simulation(\n",
        "        client_fn=simulator_client_generator,\n",
        "        num_clients=num_total_clients,\n",
        "        config=cfg,\n",
        "        strategy=strategy,\n",
        "        name=\"fedavg\",\n",
        "        return_all_parameters=True,\n",
        "        seed=Seeds.DEFAULT,\n",
        "    )\n",
        "    return parameters_for_each_round, hist"
      ]
    },
    {
      "cell_type": "code",
      "execution_count": 90,
      "metadata": {
        "colab": {
          "base_uri": "https://localhost:8080/"
        },
        "id": "i4HpswKXbDup",
        "outputId": "05e68065-fc50-4328-b7e0-699806dfae6e"
      },
      "outputs": [
        {
          "output_type": "stream",
          "name": "stderr",
          "text": [
            "INFO flwr 2024-02-05 21:55:07,728 | app.py:149 | Starting Flower simulation, config: ServerConfig(num_rounds=50, round_timeout=None)\n",
            "INFO:flwr:Starting Flower simulation, config: ServerConfig(num_rounds=50, round_timeout=None)\n",
            "INFO flwr 2024-02-05 21:55:07,736 | server_returns_parameters.py:81 | Initializing global parameters\n",
            "INFO:flwr:Initializing global parameters\n",
            "INFO flwr 2024-02-05 21:55:07,741 | server_returns_parameters.py:273 | Using initial parameters provided by strategy\n",
            "INFO:flwr:Using initial parameters provided by strategy\n",
            "INFO flwr 2024-02-05 21:55:07,747 | server_returns_parameters.py:84 | Evaluating initial parameters\n",
            "INFO:flwr:Evaluating initial parameters\n"
          ]
        },
        {
          "output_type": "stream",
          "name": "stdout",
          "text": [
            "50\n"
          ]
        },
        {
          "output_type": "stream",
          "name": "stderr",
          "text": [
            "  0%|          | 2/891 [00:00<01:36,  9.25it/s]\n",
            "INFO flwr 2024-02-05 21:55:08,015 | server_returns_parameters.py:87 | initial parameters (loss, other metrics): 8.255605220794678, {'accuracy': 0.0}\n",
            "INFO:flwr:initial parameters (loss, other metrics): 8.255605220794678, {'accuracy': 0.0}\n",
            "INFO flwr 2024-02-05 21:55:08,021 | server_returns_parameters.py:97 | FL starting\n",
            "INFO:flwr:FL starting\n",
            "DEBUG flwr 2024-02-05 21:55:08,026 | server_returns_parameters.py:223 | fit_round 1: strategy sampled 5 clients (out of 20)\n",
            "DEBUG:flwr:fit_round 1: strategy sampled 5 clients (out of 20)\n"
          ]
        },
        {
          "output_type": "stream",
          "name": "stdout",
          "text": [
            "cid:  1494\n",
            "cid:  3119\n",
            "cid:  2600\n",
            "cid:  2399\n",
            "cid:  1571\n"
          ]
        },
        {
          "output_type": "stream",
          "name": "stderr",
          "text": [
            "DEBUG flwr 2024-02-05 21:55:10,739 | server_returns_parameters.py:237 | fit_round 1 received 5 results and 0 failures\n",
            "DEBUG:flwr:fit_round 1 received 5 results and 0 failures\n",
            "  0%|          | 2/891 [00:00<01:28, 10.10it/s]\n",
            "INFO flwr 2024-02-05 21:55:10,998 | server_returns_parameters.py:120 | fit progress: (1, 7.25104022026062, {'accuracy': 0.15625}, 2.9733935409999503)\n",
            "INFO:flwr:fit progress: (1, 7.25104022026062, {'accuracy': 0.15625}, 2.9733935409999503)\n",
            "INFO flwr 2024-02-05 21:55:11,003 | server_returns_parameters.py:171 | evaluate_round 1: no clients selected, cancel\n",
            "INFO:flwr:evaluate_round 1: no clients selected, cancel\n",
            "DEBUG flwr 2024-02-05 21:55:11,007 | server_returns_parameters.py:223 | fit_round 2: strategy sampled 5 clients (out of 20)\n",
            "DEBUG:flwr:fit_round 2: strategy sampled 5 clients (out of 20)\n"
          ]
        },
        {
          "output_type": "stream",
          "name": "stdout",
          "text": [
            "cid:  1473\n",
            "cid:  2600\n",
            "cid:  1363cid: \n",
            " 1494\n",
            "cid:  2997\n"
          ]
        },
        {
          "output_type": "stream",
          "name": "stderr",
          "text": [
            "DEBUG flwr 2024-02-05 21:55:15,214 | server_returns_parameters.py:237 | fit_round 2 received 5 results and 0 failures\n",
            "DEBUG:flwr:fit_round 2 received 5 results and 0 failures\n",
            "  0%|          | 2/891 [00:00<03:54,  3.79it/s]\n",
            "INFO flwr 2024-02-05 21:55:15,927 | server_returns_parameters.py:120 | fit progress: (2, 6.954320430755615, {'accuracy': 0.15625}, 7.902015950000077)\n",
            "INFO:flwr:fit progress: (2, 6.954320430755615, {'accuracy': 0.15625}, 7.902015950000077)\n",
            "INFO flwr 2024-02-05 21:55:15,936 | server_returns_parameters.py:171 | evaluate_round 2: no clients selected, cancel\n",
            "INFO:flwr:evaluate_round 2: no clients selected, cancel\n",
            "DEBUG flwr 2024-02-05 21:55:15,942 | server_returns_parameters.py:223 | fit_round 3: strategy sampled 5 clients (out of 20)\n",
            "DEBUG:flwr:fit_round 3: strategy sampled 5 clients (out of 20)\n"
          ]
        },
        {
          "output_type": "stream",
          "name": "stdout",
          "text": [
            "cid:  2600\n",
            "cid:  1498\n",
            "cid:  1260\n",
            "cid: cid:  2907\n",
            " 1473\n"
          ]
        },
        {
          "output_type": "stream",
          "name": "stderr",
          "text": [
            "DEBUG flwr 2024-02-05 21:55:21,552 | server_returns_parameters.py:237 | fit_round 3 received 5 results and 0 failures\n",
            "DEBUG:flwr:fit_round 3 received 5 results and 0 failures\n",
            "  0%|          | 2/891 [00:00<01:31,  9.72it/s]\n",
            "INFO flwr 2024-02-05 21:55:21,814 | server_returns_parameters.py:120 | fit progress: (3, 7.111810207366943, {'accuracy': 0.109375}, 13.788628336999864)\n",
            "INFO:flwr:fit progress: (3, 7.111810207366943, {'accuracy': 0.109375}, 13.788628336999864)\n",
            "INFO flwr 2024-02-05 21:55:21,818 | server_returns_parameters.py:171 | evaluate_round 3: no clients selected, cancel\n",
            "INFO:flwr:evaluate_round 3: no clients selected, cancel\n",
            "DEBUG flwr 2024-02-05 21:55:21,822 | server_returns_parameters.py:223 | fit_round 4: strategy sampled 5 clients (out of 20)\n",
            "DEBUG:flwr:fit_round 4: strategy sampled 5 clients (out of 20)\n"
          ]
        },
        {
          "output_type": "stream",
          "name": "stdout",
          "text": [
            "cid:  839\n",
            "cid:  2600\n",
            "cid:  1473\n",
            "cid:  3119\n",
            "cid:  1363\n"
          ]
        },
        {
          "output_type": "stream",
          "name": "stderr",
          "text": [
            "DEBUG flwr 2024-02-05 21:55:24,477 | server_returns_parameters.py:237 | fit_round 4 received 5 results and 0 failures\n",
            "DEBUG:flwr:fit_round 4 received 5 results and 0 failures\n",
            "  0%|          | 2/891 [00:00<01:36,  9.23it/s]\n",
            "INFO flwr 2024-02-05 21:55:24,748 | server_returns_parameters.py:120 | fit progress: (4, 7.234941244125366, {'accuracy': 0.15625}, 16.722927249999884)\n",
            "INFO:flwr:fit progress: (4, 7.234941244125366, {'accuracy': 0.15625}, 16.722927249999884)\n",
            "INFO flwr 2024-02-05 21:55:24,752 | server_returns_parameters.py:171 | evaluate_round 4: no clients selected, cancel\n",
            "INFO:flwr:evaluate_round 4: no clients selected, cancel\n",
            "DEBUG flwr 2024-02-05 21:55:24,756 | server_returns_parameters.py:223 | fit_round 5: strategy sampled 5 clients (out of 20)\n",
            "DEBUG:flwr:fit_round 5: strategy sampled 5 clients (out of 20)\n"
          ]
        },
        {
          "output_type": "stream",
          "name": "stdout",
          "text": [
            "cid:  2530\n",
            "cid:  2600\n",
            "cid: cid: cid:  1498\n",
            " 1603\n",
            " 678\n"
          ]
        },
        {
          "output_type": "stream",
          "name": "stderr",
          "text": [
            "DEBUG flwr 2024-02-05 21:55:27,833 | server_returns_parameters.py:237 | fit_round 5 received 5 results and 0 failures\n",
            "DEBUG:flwr:fit_round 5 received 5 results and 0 failures\n",
            "  0%|          | 2/891 [00:00<01:27, 10.13it/s]\n",
            "INFO flwr 2024-02-05 21:55:28,089 | server_returns_parameters.py:120 | fit progress: (5, 6.879507064819336, {'accuracy': 0.25}, 20.064497231000132)\n",
            "INFO:flwr:fit progress: (5, 6.879507064819336, {'accuracy': 0.25}, 20.064497231000132)\n",
            "INFO flwr 2024-02-05 21:55:28,096 | server_returns_parameters.py:171 | evaluate_round 5: no clients selected, cancel\n",
            "INFO:flwr:evaluate_round 5: no clients selected, cancel\n",
            "DEBUG flwr 2024-02-05 21:55:28,101 | server_returns_parameters.py:223 | fit_round 6: strategy sampled 5 clients (out of 20)\n",
            "DEBUG:flwr:fit_round 6: strategy sampled 5 clients (out of 20)\n"
          ]
        },
        {
          "output_type": "stream",
          "name": "stdout",
          "text": [
            "cid: cid:  1571\n",
            "cid:  1603\n",
            " 2399\n",
            "cid:  3175\n",
            "cid:  2997\n"
          ]
        },
        {
          "output_type": "stream",
          "name": "stderr",
          "text": [
            "DEBUG flwr 2024-02-05 21:55:31,014 | server_returns_parameters.py:237 | fit_round 6 received 5 results and 0 failures\n",
            "DEBUG:flwr:fit_round 6 received 5 results and 0 failures\n",
            "  0%|          | 2/891 [00:00<02:42,  5.48it/s]\n",
            "INFO flwr 2024-02-05 21:55:31,469 | server_returns_parameters.py:120 | fit progress: (6, 5.882366895675659, {'accuracy': 0.484375}, 23.44438091300026)\n",
            "INFO:flwr:fit progress: (6, 5.882366895675659, {'accuracy': 0.484375}, 23.44438091300026)\n",
            "INFO flwr 2024-02-05 21:55:31,474 | server_returns_parameters.py:171 | evaluate_round 6: no clients selected, cancel\n",
            "INFO:flwr:evaluate_round 6: no clients selected, cancel\n",
            "DEBUG flwr 2024-02-05 21:55:31,479 | server_returns_parameters.py:223 | fit_round 7: strategy sampled 5 clients (out of 20)\n",
            "DEBUG:flwr:fit_round 7: strategy sampled 5 clients (out of 20)\n"
          ]
        },
        {
          "output_type": "stream",
          "name": "stdout",
          "text": [
            "cid:  3119\n",
            "cid:  2907\n",
            "cid:  839\n",
            "cid:  2184\n",
            "cid:  2688\n"
          ]
        },
        {
          "output_type": "stream",
          "name": "stderr",
          "text": [
            "DEBUG flwr 2024-02-05 21:55:34,611 | server_returns_parameters.py:237 | fit_round 7 received 5 results and 0 failures\n",
            "DEBUG:flwr:fit_round 7 received 5 results and 0 failures\n",
            "  0%|          | 2/891 [00:00<02:27,  6.02it/s]\n",
            "INFO flwr 2024-02-05 21:55:35,024 | server_returns_parameters.py:120 | fit progress: (7, 5.333057165145874, {'accuracy': 0.390625}, 26.99867548100019)\n",
            "INFO:flwr:fit progress: (7, 5.333057165145874, {'accuracy': 0.390625}, 26.99867548100019)\n",
            "INFO flwr 2024-02-05 21:55:35,028 | server_returns_parameters.py:171 | evaluate_round 7: no clients selected, cancel\n",
            "INFO:flwr:evaluate_round 7: no clients selected, cancel\n",
            "DEBUG flwr 2024-02-05 21:55:35,033 | server_returns_parameters.py:223 | fit_round 8: strategy sampled 5 clients (out of 20)\n",
            "DEBUG:flwr:fit_round 8: strategy sampled 5 clients (out of 20)\n"
          ]
        },
        {
          "output_type": "stream",
          "name": "stdout",
          "text": [
            "cid:  1260\n",
            "cid:  2184\n",
            "cid:  2530\n",
            "cid:  2997\n",
            "cid:  839\n"
          ]
        },
        {
          "output_type": "stream",
          "name": "stderr",
          "text": [
            "DEBUG flwr 2024-02-05 21:55:38,518 | server_returns_parameters.py:237 | fit_round 8 received 5 results and 0 failures\n",
            "DEBUG:flwr:fit_round 8 received 5 results and 0 failures\n",
            "  0%|          | 2/891 [00:00<01:31,  9.73it/s]\n",
            "INFO flwr 2024-02-05 21:55:38,782 | server_returns_parameters.py:120 | fit progress: (8, 5.5289466381073, {'accuracy': 0.34375}, 30.756568317000074)\n",
            "INFO:flwr:fit progress: (8, 5.5289466381073, {'accuracy': 0.34375}, 30.756568317000074)\n",
            "INFO flwr 2024-02-05 21:55:38,785 | server_returns_parameters.py:171 | evaluate_round 8: no clients selected, cancel\n",
            "INFO:flwr:evaluate_round 8: no clients selected, cancel\n",
            "DEBUG flwr 2024-02-05 21:55:38,789 | server_returns_parameters.py:223 | fit_round 9: strategy sampled 5 clients (out of 20)\n",
            "DEBUG:flwr:fit_round 9: strategy sampled 5 clients (out of 20)\n"
          ]
        },
        {
          "output_type": "stream",
          "name": "stdout",
          "text": [
            "cid:  1498\n",
            "cid:  1363\n",
            "cid:  2997\n",
            "cid: cid:   16031571\n",
            "\n"
          ]
        },
        {
          "output_type": "stream",
          "name": "stderr",
          "text": [
            "DEBUG flwr 2024-02-05 21:55:41,468 | server_returns_parameters.py:237 | fit_round 9 received 5 results and 0 failures\n",
            "DEBUG:flwr:fit_round 9 received 5 results and 0 failures\n",
            "  0%|          | 2/891 [00:00<01:42,  8.66it/s]\n",
            "INFO flwr 2024-02-05 21:55:41,753 | server_returns_parameters.py:120 | fit progress: (9, 4.667838454246521, {'accuracy': 0.53125}, 33.72809602799998)\n",
            "INFO:flwr:fit progress: (9, 4.667838454246521, {'accuracy': 0.53125}, 33.72809602799998)\n",
            "INFO flwr 2024-02-05 21:55:41,758 | server_returns_parameters.py:171 | evaluate_round 9: no clients selected, cancel\n",
            "INFO:flwr:evaluate_round 9: no clients selected, cancel\n",
            "DEBUG flwr 2024-02-05 21:55:41,762 | server_returns_parameters.py:223 | fit_round 10: strategy sampled 5 clients (out of 20)\n",
            "DEBUG:flwr:fit_round 10: strategy sampled 5 clients (out of 20)\n"
          ]
        },
        {
          "output_type": "stream",
          "name": "stdout",
          "text": [
            "cid:  2530\n",
            "cid:  1571\n",
            "cid:  cid:  678\n",
            "1260\n",
            "cid:  2184\n"
          ]
        },
        {
          "output_type": "stream",
          "name": "stderr",
          "text": [
            "DEBUG flwr 2024-02-05 21:55:45,336 | server_returns_parameters.py:237 | fit_round 10 received 5 results and 0 failures\n",
            "DEBUG:flwr:fit_round 10 received 5 results and 0 failures\n",
            "  0%|          | 2/891 [00:00<01:33,  9.50it/s]\n",
            "INFO flwr 2024-02-05 21:55:45,601 | server_returns_parameters.py:120 | fit progress: (10, 4.799257397651672, {'accuracy': 0.484375}, 37.57571519200019)\n",
            "INFO:flwr:fit progress: (10, 4.799257397651672, {'accuracy': 0.484375}, 37.57571519200019)\n",
            "INFO flwr 2024-02-05 21:55:45,606 | server_returns_parameters.py:171 | evaluate_round 10: no clients selected, cancel\n",
            "INFO:flwr:evaluate_round 10: no clients selected, cancel\n",
            "DEBUG flwr 2024-02-05 21:55:45,611 | server_returns_parameters.py:223 | fit_round 11: strategy sampled 5 clients (out of 20)\n",
            "DEBUG:flwr:fit_round 11: strategy sampled 5 clients (out of 20)\n"
          ]
        },
        {
          "output_type": "stream",
          "name": "stdout",
          "text": [
            "cid: cid:  1363\n",
            " 3119\n",
            "cid:  2997\n",
            "cid:  2399\n",
            "cid:  839\n"
          ]
        },
        {
          "output_type": "stream",
          "name": "stderr",
          "text": [
            "DEBUG flwr 2024-02-05 21:55:48,750 | server_returns_parameters.py:237 | fit_round 11 received 5 results and 0 failures\n",
            "DEBUG:flwr:fit_round 11 received 5 results and 0 failures\n",
            "  0%|          | 2/891 [00:00<02:51,  5.18it/s]\n",
            "INFO flwr 2024-02-05 21:55:49,234 | server_returns_parameters.py:120 | fit progress: (11, 4.518622994422913, {'accuracy': 0.5}, 41.208974648000094)\n",
            "INFO:flwr:fit progress: (11, 4.518622994422913, {'accuracy': 0.5}, 41.208974648000094)\n",
            "INFO flwr 2024-02-05 21:55:49,242 | server_returns_parameters.py:171 | evaluate_round 11: no clients selected, cancel\n",
            "INFO:flwr:evaluate_round 11: no clients selected, cancel\n",
            "DEBUG flwr 2024-02-05 21:55:49,249 | server_returns_parameters.py:223 | fit_round 12: strategy sampled 5 clients (out of 20)\n",
            "DEBUG:flwr:fit_round 12: strategy sampled 5 clients (out of 20)\n"
          ]
        },
        {
          "output_type": "stream",
          "name": "stdout",
          "text": [
            "cid:  2184\n",
            "cid:  2855\n",
            "cid:  1603\n",
            "cid: cid:   2530\n",
            "2688\n"
          ]
        },
        {
          "output_type": "stream",
          "name": "stderr",
          "text": [
            "DEBUG flwr 2024-02-05 21:55:52,588 | server_returns_parameters.py:237 | fit_round 12 received 5 results and 0 failures\n",
            "DEBUG:flwr:fit_round 12 received 5 results and 0 failures\n",
            "  0%|          | 2/891 [00:00<01:32,  9.57it/s]\n",
            "INFO flwr 2024-02-05 21:55:52,853 | server_returns_parameters.py:120 | fit progress: (12, 4.335327982902527, {'accuracy': 0.5}, 44.82830826899999)\n",
            "INFO:flwr:fit progress: (12, 4.335327982902527, {'accuracy': 0.5}, 44.82830826899999)\n",
            "INFO flwr 2024-02-05 21:55:52,858 | server_returns_parameters.py:171 | evaluate_round 12: no clients selected, cancel\n",
            "INFO:flwr:evaluate_round 12: no clients selected, cancel\n",
            "DEBUG flwr 2024-02-05 21:55:52,864 | server_returns_parameters.py:223 | fit_round 13: strategy sampled 5 clients (out of 20)\n",
            "DEBUG:flwr:fit_round 13: strategy sampled 5 clients (out of 20)\n"
          ]
        },
        {
          "output_type": "stream",
          "name": "stdout",
          "text": [
            "cid:  3119\n",
            "cid:  2600\n",
            "cid:  1494\n",
            "cid: cid:  839\n",
            " 3175\n"
          ]
        },
        {
          "output_type": "stream",
          "name": "stderr",
          "text": [
            "DEBUG flwr 2024-02-05 21:55:55,699 | server_returns_parameters.py:237 | fit_round 13 received 5 results and 0 failures\n",
            "DEBUG:flwr:fit_round 13 received 5 results and 0 failures\n",
            "  0%|          | 2/891 [00:00<01:37,  9.14it/s]\n",
            "INFO flwr 2024-02-05 21:55:55,971 | server_returns_parameters.py:120 | fit progress: (13, 3.9218478202819824, {'accuracy': 0.5625}, 47.94627377799998)\n",
            "INFO:flwr:fit progress: (13, 3.9218478202819824, {'accuracy': 0.5625}, 47.94627377799998)\n",
            "INFO flwr 2024-02-05 21:55:55,976 | server_returns_parameters.py:171 | evaluate_round 13: no clients selected, cancel\n",
            "INFO:flwr:evaluate_round 13: no clients selected, cancel\n",
            "DEBUG flwr 2024-02-05 21:55:55,980 | server_returns_parameters.py:223 | fit_round 14: strategy sampled 5 clients (out of 20)\n",
            "DEBUG:flwr:fit_round 14: strategy sampled 5 clients (out of 20)\n"
          ]
        },
        {
          "output_type": "stream",
          "name": "stdout",
          "text": [
            "cid: cid:  2338\n",
            " 2907\n",
            "cid:  2184\n",
            "cid: cid:  1571\n",
            " 2399\n"
          ]
        },
        {
          "output_type": "stream",
          "name": "stderr",
          "text": [
            "DEBUG flwr 2024-02-05 21:55:58,730 | server_returns_parameters.py:237 | fit_round 14 received 5 results and 0 failures\n",
            "DEBUG:flwr:fit_round 14 received 5 results and 0 failures\n",
            "  0%|          | 2/891 [00:00<01:37,  9.07it/s]\n",
            "INFO flwr 2024-02-05 21:55:59,008 | server_returns_parameters.py:120 | fit progress: (14, 3.9168341159820557, {'accuracy': 0.5625}, 50.98341091800012)\n",
            "INFO:flwr:fit progress: (14, 3.9168341159820557, {'accuracy': 0.5625}, 50.98341091800012)\n",
            "INFO flwr 2024-02-05 21:55:59,016 | server_returns_parameters.py:171 | evaluate_round 14: no clients selected, cancel\n",
            "INFO:flwr:evaluate_round 14: no clients selected, cancel\n",
            "DEBUG flwr 2024-02-05 21:55:59,022 | server_returns_parameters.py:223 | fit_round 15: strategy sampled 5 clients (out of 20)\n",
            "DEBUG:flwr:fit_round 15: strategy sampled 5 clients (out of 20)\n"
          ]
        },
        {
          "output_type": "stream",
          "name": "stdout",
          "text": [
            "cid:  2907\n",
            "cid:  2997\n",
            "cid:  1603cid: \n",
            "cid:  3175\n",
            " 2184\n"
          ]
        },
        {
          "output_type": "stream",
          "name": "stderr",
          "text": [
            "DEBUG flwr 2024-02-05 21:56:01,659 | server_returns_parameters.py:237 | fit_round 15 received 5 results and 0 failures\n",
            "DEBUG:flwr:fit_round 15 received 5 results and 0 failures\n",
            "  0%|          | 2/891 [00:00<01:22, 10.73it/s]\n",
            "INFO flwr 2024-02-05 21:56:01,899 | server_returns_parameters.py:120 | fit progress: (15, 3.722179651260376, {'accuracy': 0.546875}, 53.87359044599998)\n",
            "INFO:flwr:fit progress: (15, 3.722179651260376, {'accuracy': 0.546875}, 53.87359044599998)\n",
            "INFO flwr 2024-02-05 21:56:01,909 | server_returns_parameters.py:171 | evaluate_round 15: no clients selected, cancel\n",
            "INFO:flwr:evaluate_round 15: no clients selected, cancel\n",
            "DEBUG flwr 2024-02-05 21:56:01,914 | server_returns_parameters.py:223 | fit_round 16: strategy sampled 5 clients (out of 20)\n",
            "DEBUG:flwr:fit_round 16: strategy sampled 5 clients (out of 20)\n"
          ]
        },
        {
          "output_type": "stream",
          "name": "stdout",
          "text": [
            "cid: cid:  2338\n",
            "cid:  1260 3119\n",
            "\n",
            "cid: cid:  2600\n",
            " 2184\n"
          ]
        },
        {
          "output_type": "stream",
          "name": "stderr",
          "text": [
            "DEBUG flwr 2024-02-05 21:56:05,695 | server_returns_parameters.py:237 | fit_round 16 received 5 results and 0 failures\n",
            "DEBUG:flwr:fit_round 16 received 5 results and 0 failures\n",
            "  0%|          | 2/891 [00:00<02:23,  6.19it/s]\n",
            "INFO flwr 2024-02-05 21:56:06,101 | server_returns_parameters.py:120 | fit progress: (16, 3.570663332939148, {'accuracy': 0.609375}, 58.07626395199986)\n",
            "INFO:flwr:fit progress: (16, 3.570663332939148, {'accuracy': 0.609375}, 58.07626395199986)\n",
            "INFO flwr 2024-02-05 21:56:06,110 | server_returns_parameters.py:171 | evaluate_round 16: no clients selected, cancel\n",
            "INFO:flwr:evaluate_round 16: no clients selected, cancel\n",
            "DEBUG flwr 2024-02-05 21:56:06,117 | server_returns_parameters.py:223 | fit_round 17: strategy sampled 5 clients (out of 20)\n",
            "DEBUG:flwr:fit_round 17: strategy sampled 5 clients (out of 20)\n"
          ]
        },
        {
          "output_type": "stream",
          "name": "stdout",
          "text": [
            "cid:  1260\n",
            "cid:  1363\n",
            "cid:  2338\n",
            "cid:  2184\n",
            "cid:  1603\n"
          ]
        },
        {
          "output_type": "stream",
          "name": "stderr",
          "text": [
            "DEBUG flwr 2024-02-05 21:56:09,418 | server_returns_parameters.py:237 | fit_round 17 received 5 results and 0 failures\n",
            "DEBUG:flwr:fit_round 17 received 5 results and 0 failures\n",
            "  0%|          | 2/891 [00:00<01:29,  9.93it/s]\n",
            "INFO flwr 2024-02-05 21:56:09,677 | server_returns_parameters.py:120 | fit progress: (17, 4.059290766716003, {'accuracy': 0.578125}, 61.65196664599989)\n",
            "INFO:flwr:fit progress: (17, 4.059290766716003, {'accuracy': 0.578125}, 61.65196664599989)\n",
            "INFO flwr 2024-02-05 21:56:09,685 | server_returns_parameters.py:171 | evaluate_round 17: no clients selected, cancel\n",
            "INFO:flwr:evaluate_round 17: no clients selected, cancel\n",
            "DEBUG flwr 2024-02-05 21:56:09,689 | server_returns_parameters.py:223 | fit_round 18: strategy sampled 5 clients (out of 20)\n",
            "DEBUG:flwr:fit_round 18: strategy sampled 5 clients (out of 20)\n"
          ]
        },
        {
          "output_type": "stream",
          "name": "stdout",
          "text": [
            "cid:  2600\n",
            "cid:  1473cid:  2907\n",
            "\n",
            "cid:  2997\n",
            "cid:  1494\n"
          ]
        },
        {
          "output_type": "stream",
          "name": "stderr",
          "text": [
            "DEBUG flwr 2024-02-05 21:56:12,641 | server_returns_parameters.py:237 | fit_round 18 received 5 results and 0 failures\n",
            "DEBUG:flwr:fit_round 18 received 5 results and 0 failures\n",
            "  0%|          | 2/891 [00:00<01:38,  9.02it/s]\n",
            "INFO flwr 2024-02-05 21:56:12,917 | server_returns_parameters.py:120 | fit progress: (18, 3.500898241996765, {'accuracy': 0.609375}, 64.89239138599987)\n",
            "INFO:flwr:fit progress: (18, 3.500898241996765, {'accuracy': 0.609375}, 64.89239138599987)\n",
            "INFO flwr 2024-02-05 21:56:12,923 | server_returns_parameters.py:171 | evaluate_round 18: no clients selected, cancel\n",
            "INFO:flwr:evaluate_round 18: no clients selected, cancel\n",
            "DEBUG flwr 2024-02-05 21:56:12,929 | server_returns_parameters.py:223 | fit_round 19: strategy sampled 5 clients (out of 20)\n",
            "DEBUG:flwr:fit_round 19: strategy sampled 5 clients (out of 20)\n"
          ]
        },
        {
          "output_type": "stream",
          "name": "stdout",
          "text": [
            "cid:  1494\n",
            "cid:  3175\n",
            "cid:  2997\n",
            "cid:  3119\n",
            "cid:  2338\n"
          ]
        },
        {
          "output_type": "stream",
          "name": "stderr",
          "text": [
            "DEBUG flwr 2024-02-05 21:56:15,797 | server_returns_parameters.py:237 | fit_round 19 received 5 results and 0 failures\n",
            "DEBUG:flwr:fit_round 19 received 5 results and 0 failures\n",
            "  0%|          | 2/891 [00:00<01:29,  9.95it/s]\n",
            "INFO flwr 2024-02-05 21:56:16,058 | server_returns_parameters.py:120 | fit progress: (19, 3.362802505493164, {'accuracy': 0.609375}, 68.03300083100021)\n",
            "INFO:flwr:fit progress: (19, 3.362802505493164, {'accuracy': 0.609375}, 68.03300083100021)\n",
            "INFO flwr 2024-02-05 21:56:16,063 | server_returns_parameters.py:171 | evaluate_round 19: no clients selected, cancel\n",
            "INFO:flwr:evaluate_round 19: no clients selected, cancel\n",
            "DEBUG flwr 2024-02-05 21:56:16,067 | server_returns_parameters.py:223 | fit_round 20: strategy sampled 5 clients (out of 20)\n",
            "DEBUG:flwr:fit_round 20: strategy sampled 5 clients (out of 20)\n"
          ]
        },
        {
          "output_type": "stream",
          "name": "stdout",
          "text": [
            "cid:  2855\n",
            "cid:  1473\n",
            "cid:  1260\n",
            "cid:  3175\n",
            "cid:  2399\n"
          ]
        },
        {
          "output_type": "stream",
          "name": "stderr",
          "text": [
            "DEBUG flwr 2024-02-05 21:56:19,497 | server_returns_parameters.py:237 | fit_round 20 received 5 results and 0 failures\n",
            "DEBUG:flwr:fit_round 20 received 5 results and 0 failures\n",
            "  0%|          | 2/891 [00:00<02:29,  5.94it/s]\n",
            "INFO flwr 2024-02-05 21:56:19,928 | server_returns_parameters.py:120 | fit progress: (20, 3.6675695180892944, {'accuracy': 0.65625}, 71.9029020830003)\n",
            "INFO:flwr:fit progress: (20, 3.6675695180892944, {'accuracy': 0.65625}, 71.9029020830003)\n",
            "INFO flwr 2024-02-05 21:56:19,933 | server_returns_parameters.py:171 | evaluate_round 20: no clients selected, cancel\n",
            "INFO:flwr:evaluate_round 20: no clients selected, cancel\n",
            "DEBUG flwr 2024-02-05 21:56:19,938 | server_returns_parameters.py:223 | fit_round 21: strategy sampled 5 clients (out of 20)\n",
            "DEBUG:flwr:fit_round 21: strategy sampled 5 clients (out of 20)\n"
          ]
        },
        {
          "output_type": "stream",
          "name": "stdout",
          "text": [
            "cid:  678\n",
            "cid:  1571\n",
            "cid:  1473\n",
            "cid:  2997\n",
            "cid:  1260\n"
          ]
        },
        {
          "output_type": "stream",
          "name": "stderr",
          "text": [
            "DEBUG flwr 2024-02-05 21:56:23,968 | server_returns_parameters.py:237 | fit_round 21 received 5 results and 0 failures\n",
            "DEBUG:flwr:fit_round 21 received 5 results and 0 failures\n",
            "  0%|          | 2/891 [00:00<02:46,  5.34it/s]\n",
            "INFO flwr 2024-02-05 21:56:24,439 | server_returns_parameters.py:120 | fit progress: (21, 3.7401230335235596, {'accuracy': 0.5}, 76.41358871400007)\n",
            "INFO:flwr:fit progress: (21, 3.7401230335235596, {'accuracy': 0.5}, 76.41358871400007)\n",
            "INFO flwr 2024-02-05 21:56:24,444 | server_returns_parameters.py:171 | evaluate_round 21: no clients selected, cancel\n",
            "INFO:flwr:evaluate_round 21: no clients selected, cancel\n",
            "DEBUG flwr 2024-02-05 21:56:24,453 | server_returns_parameters.py:223 | fit_round 22: strategy sampled 5 clients (out of 20)\n",
            "DEBUG:flwr:fit_round 22: strategy sampled 5 clients (out of 20)\n"
          ]
        },
        {
          "output_type": "stream",
          "name": "stdout",
          "text": [
            "cid:  2399\n",
            "cid:  2855\n",
            "cid:  1571\n",
            "cid:  2184\n",
            "cid:  2530\n"
          ]
        },
        {
          "output_type": "stream",
          "name": "stderr",
          "text": [
            "DEBUG flwr 2024-02-05 21:56:27,606 | server_returns_parameters.py:237 | fit_round 22 received 5 results and 0 failures\n",
            "DEBUG:flwr:fit_round 22 received 5 results and 0 failures\n",
            "  0%|          | 2/891 [00:00<01:27, 10.14it/s]\n",
            "INFO flwr 2024-02-05 21:56:27,857 | server_returns_parameters.py:120 | fit progress: (22, 3.1131125688552856, {'accuracy': 0.671875}, 79.83207168400031)\n",
            "INFO:flwr:fit progress: (22, 3.1131125688552856, {'accuracy': 0.671875}, 79.83207168400031)\n",
            "INFO flwr 2024-02-05 21:56:27,861 | server_returns_parameters.py:171 | evaluate_round 22: no clients selected, cancel\n",
            "INFO:flwr:evaluate_round 22: no clients selected, cancel\n",
            "DEBUG flwr 2024-02-05 21:56:27,865 | server_returns_parameters.py:223 | fit_round 23: strategy sampled 5 clients (out of 20)\n",
            "DEBUG:flwr:fit_round 23: strategy sampled 5 clients (out of 20)\n"
          ]
        },
        {
          "output_type": "stream",
          "name": "stdout",
          "text": [
            "cid:  3119\n",
            "cid:  2997\n",
            "cid:  1260\n",
            "cid:  1363\n",
            "cid:  1571\n"
          ]
        },
        {
          "output_type": "stream",
          "name": "stderr",
          "text": [
            "DEBUG flwr 2024-02-05 21:56:31,163 | server_returns_parameters.py:237 | fit_round 23 received 5 results and 0 failures\n",
            "DEBUG:flwr:fit_round 23 received 5 results and 0 failures\n",
            "  0%|          | 2/891 [00:00<01:32,  9.61it/s]\n",
            "INFO flwr 2024-02-05 21:56:31,428 | server_returns_parameters.py:120 | fit progress: (23, 3.834907054901123, {'accuracy': 0.59375}, 83.40296154999987)\n",
            "INFO:flwr:fit progress: (23, 3.834907054901123, {'accuracy': 0.59375}, 83.40296154999987)\n",
            "INFO flwr 2024-02-05 21:56:31,436 | server_returns_parameters.py:171 | evaluate_round 23: no clients selected, cancel\n",
            "INFO:flwr:evaluate_round 23: no clients selected, cancel\n",
            "DEBUG flwr 2024-02-05 21:56:31,440 | server_returns_parameters.py:223 | fit_round 24: strategy sampled 5 clients (out of 20)\n",
            "DEBUG:flwr:fit_round 24: strategy sampled 5 clients (out of 20)\n"
          ]
        },
        {
          "output_type": "stream",
          "name": "stdout",
          "text": [
            "cid:  1473\n",
            "cid:  2600\n",
            "cid:  678\n",
            "cid:  1363\n",
            "cid:  1603\n"
          ]
        },
        {
          "output_type": "stream",
          "name": "stderr",
          "text": [
            "DEBUG flwr 2024-02-05 21:56:34,257 | server_returns_parameters.py:237 | fit_round 24 received 5 results and 0 failures\n",
            "DEBUG:flwr:fit_round 24 received 5 results and 0 failures\n",
            "  0%|          | 2/891 [00:00<01:34,  9.36it/s]\n",
            "INFO flwr 2024-02-05 21:56:34,531 | server_returns_parameters.py:120 | fit progress: (24, 3.3019602298736572, {'accuracy': 0.640625}, 86.50634642000023)\n",
            "INFO:flwr:fit progress: (24, 3.3019602298736572, {'accuracy': 0.640625}, 86.50634642000023)\n",
            "INFO flwr 2024-02-05 21:56:34,537 | server_returns_parameters.py:171 | evaluate_round 24: no clients selected, cancel\n",
            "INFO:flwr:evaluate_round 24: no clients selected, cancel\n",
            "DEBUG flwr 2024-02-05 21:56:34,543 | server_returns_parameters.py:223 | fit_round 25: strategy sampled 5 clients (out of 20)\n",
            "DEBUG:flwr:fit_round 25: strategy sampled 5 clients (out of 20)\n"
          ]
        },
        {
          "output_type": "stream",
          "name": "stdout",
          "text": [
            "cid:  2688\n",
            "cid:  1473\n",
            "cid:  1494\n",
            "cid:  cid: 2338\n",
            " 3175\n"
          ]
        },
        {
          "output_type": "stream",
          "name": "stderr",
          "text": [
            "DEBUG flwr 2024-02-05 21:56:37,396 | server_returns_parameters.py:237 | fit_round 25 received 5 results and 0 failures\n",
            "DEBUG:flwr:fit_round 25 received 5 results and 0 failures\n",
            "  0%|          | 2/891 [00:00<02:26,  6.09it/s]\n",
            "INFO flwr 2024-02-05 21:56:37,806 | server_returns_parameters.py:120 | fit progress: (25, 2.8994312286376953, {'accuracy': 0.640625}, 89.78125559199998)\n",
            "INFO:flwr:fit progress: (25, 2.8994312286376953, {'accuracy': 0.640625}, 89.78125559199998)\n",
            "INFO flwr 2024-02-05 21:56:37,812 | server_returns_parameters.py:171 | evaluate_round 25: no clients selected, cancel\n",
            "INFO:flwr:evaluate_round 25: no clients selected, cancel\n",
            "DEBUG flwr 2024-02-05 21:56:37,819 | server_returns_parameters.py:223 | fit_round 26: strategy sampled 5 clients (out of 20)\n",
            "DEBUG:flwr:fit_round 26: strategy sampled 5 clients (out of 20)\n"
          ]
        },
        {
          "output_type": "stream",
          "name": "stdout",
          "text": [
            "cid: cid:  1473\n",
            " 678\n",
            "cid:  2907\n",
            "cid:  1603\n",
            "cid:  2530\n"
          ]
        },
        {
          "output_type": "stream",
          "name": "stderr",
          "text": [
            "DEBUG flwr 2024-02-05 21:56:41,065 | server_returns_parameters.py:237 | fit_round 26 received 5 results and 0 failures\n",
            "DEBUG:flwr:fit_round 26 received 5 results and 0 failures\n",
            "  0%|          | 2/891 [00:00<02:21,  6.30it/s]\n",
            "INFO flwr 2024-02-05 21:56:41,475 | server_returns_parameters.py:120 | fit progress: (26, 3.1691086292266846, {'accuracy': 0.609375}, 93.44997881400013)\n",
            "INFO:flwr:fit progress: (26, 3.1691086292266846, {'accuracy': 0.609375}, 93.44997881400013)\n",
            "INFO flwr 2024-02-05 21:56:41,480 | server_returns_parameters.py:171 | evaluate_round 26: no clients selected, cancel\n",
            "INFO:flwr:evaluate_round 26: no clients selected, cancel\n",
            "DEBUG flwr 2024-02-05 21:56:41,486 | server_returns_parameters.py:223 | fit_round 27: strategy sampled 5 clients (out of 20)\n",
            "DEBUG:flwr:fit_round 27: strategy sampled 5 clients (out of 20)\n"
          ]
        },
        {
          "output_type": "stream",
          "name": "stdout",
          "text": [
            "cid:  1571\n",
            "cid:  2907\n",
            "cid:  3175\n",
            "cid:  2855\n",
            "cid:  1473\n"
          ]
        },
        {
          "output_type": "stream",
          "name": "stderr",
          "text": [
            "DEBUG flwr 2024-02-05 21:56:44,283 | server_returns_parameters.py:237 | fit_round 27 received 5 results and 0 failures\n",
            "DEBUG:flwr:fit_round 27 received 5 results and 0 failures\n",
            "  0%|          | 2/891 [00:00<01:30,  9.77it/s]\n",
            "INFO flwr 2024-02-05 21:56:44,542 | server_returns_parameters.py:120 | fit progress: (27, 3.2771522998809814, {'accuracy': 0.640625}, 96.51689685100018)\n",
            "INFO:flwr:fit progress: (27, 3.2771522998809814, {'accuracy': 0.640625}, 96.51689685100018)\n",
            "INFO flwr 2024-02-05 21:56:44,546 | server_returns_parameters.py:171 | evaluate_round 27: no clients selected, cancel\n",
            "INFO:flwr:evaluate_round 27: no clients selected, cancel\n",
            "DEBUG flwr 2024-02-05 21:56:44,551 | server_returns_parameters.py:223 | fit_round 28: strategy sampled 5 clients (out of 20)\n",
            "DEBUG:flwr:fit_round 28: strategy sampled 5 clients (out of 20)\n"
          ]
        },
        {
          "output_type": "stream",
          "name": "stdout",
          "text": [
            "cid: cid:  2184\n",
            "cid:  839\n",
            " 2338\n",
            "cid:  1473\n",
            "cid:  2997\n"
          ]
        },
        {
          "output_type": "stream",
          "name": "stderr",
          "text": [
            "DEBUG flwr 2024-02-05 21:56:47,332 | server_returns_parameters.py:237 | fit_round 28 received 5 results and 0 failures\n",
            "DEBUG:flwr:fit_round 28 received 5 results and 0 failures\n",
            "  0%|          | 2/891 [00:00<01:35,  9.30it/s]\n",
            "INFO flwr 2024-02-05 21:56:47,605 | server_returns_parameters.py:120 | fit progress: (28, 2.753054618835449, {'accuracy': 0.671875}, 99.58040711600006)\n",
            "INFO:flwr:fit progress: (28, 2.753054618835449, {'accuracy': 0.671875}, 99.58040711600006)\n",
            "INFO flwr 2024-02-05 21:56:47,611 | server_returns_parameters.py:171 | evaluate_round 28: no clients selected, cancel\n",
            "INFO:flwr:evaluate_round 28: no clients selected, cancel\n",
            "DEBUG flwr 2024-02-05 21:56:47,619 | server_returns_parameters.py:223 | fit_round 29: strategy sampled 5 clients (out of 20)\n",
            "DEBUG:flwr:fit_round 29: strategy sampled 5 clients (out of 20)\n"
          ]
        },
        {
          "output_type": "stream",
          "name": "stdout",
          "text": [
            "cid: cid:  1498\n",
            " 1603\n",
            "cid:  678\n",
            "cid: cid:   1363\n",
            "2184\n"
          ]
        },
        {
          "output_type": "stream",
          "name": "stderr",
          "text": [
            "DEBUG flwr 2024-02-05 21:56:50,465 | server_returns_parameters.py:237 | fit_round 29 received 5 results and 0 failures\n",
            "DEBUG:flwr:fit_round 29 received 5 results and 0 failures\n",
            "  0%|          | 2/891 [00:00<01:31,  9.74it/s]\n",
            "INFO flwr 2024-02-05 21:56:50,728 | server_returns_parameters.py:120 | fit progress: (29, 3.2374961376190186, {'accuracy': 0.65625}, 102.70339992900017)\n",
            "INFO:flwr:fit progress: (29, 3.2374961376190186, {'accuracy': 0.65625}, 102.70339992900017)\n",
            "INFO flwr 2024-02-05 21:56:50,734 | server_returns_parameters.py:171 | evaluate_round 29: no clients selected, cancel\n",
            "INFO:flwr:evaluate_round 29: no clients selected, cancel\n",
            "DEBUG flwr 2024-02-05 21:56:50,738 | server_returns_parameters.py:223 | fit_round 30: strategy sampled 5 clients (out of 20)\n",
            "DEBUG:flwr:fit_round 30: strategy sampled 5 clients (out of 20)\n"
          ]
        },
        {
          "output_type": "stream",
          "name": "stdout",
          "text": [
            "cid: cid:  2997\n",
            " 2855\n",
            "cid:  2600\n",
            "cid:  cid: 1571\n",
            " 3175\n"
          ]
        },
        {
          "output_type": "stream",
          "name": "stderr",
          "text": [
            "DEBUG flwr 2024-02-05 21:56:54,130 | server_returns_parameters.py:237 | fit_round 30 received 5 results and 0 failures\n",
            "DEBUG:flwr:fit_round 30 received 5 results and 0 failures\n",
            "  0%|          | 2/891 [00:00<02:37,  5.66it/s]\n",
            "INFO flwr 2024-02-05 21:56:54,581 | server_returns_parameters.py:120 | fit progress: (30, 3.013374924659729, {'accuracy': 0.640625}, 106.55555491299992)\n",
            "INFO:flwr:fit progress: (30, 3.013374924659729, {'accuracy': 0.640625}, 106.55555491299992)\n",
            "INFO flwr 2024-02-05 21:56:54,589 | server_returns_parameters.py:171 | evaluate_round 30: no clients selected, cancel\n",
            "INFO:flwr:evaluate_round 30: no clients selected, cancel\n",
            "DEBUG flwr 2024-02-05 21:56:54,593 | server_returns_parameters.py:223 | fit_round 31: strategy sampled 5 clients (out of 20)\n",
            "DEBUG:flwr:fit_round 31: strategy sampled 5 clients (out of 20)\n"
          ]
        },
        {
          "output_type": "stream",
          "name": "stdout",
          "text": [
            "cid: cid:  1498\n",
            "cid:  2688\n",
            " 2338\n",
            "cid:  839\n",
            "cid:  2184\n"
          ]
        },
        {
          "output_type": "stream",
          "name": "stderr",
          "text": [
            "DEBUG flwr 2024-02-05 21:56:57,678 | server_returns_parameters.py:237 | fit_round 31 received 5 results and 0 failures\n",
            "DEBUG:flwr:fit_round 31 received 5 results and 0 failures\n",
            "  0%|          | 2/891 [00:00<02:23,  6.19it/s]\n",
            "INFO flwr 2024-02-05 21:56:58,092 | server_returns_parameters.py:120 | fit progress: (31, 2.8336962461471558, {'accuracy': 0.65625}, 110.06687924900007)\n",
            "INFO:flwr:fit progress: (31, 2.8336962461471558, {'accuracy': 0.65625}, 110.06687924900007)\n",
            "INFO flwr 2024-02-05 21:56:58,101 | server_returns_parameters.py:171 | evaluate_round 31: no clients selected, cancel\n",
            "INFO:flwr:evaluate_round 31: no clients selected, cancel\n",
            "DEBUG flwr 2024-02-05 21:56:58,108 | server_returns_parameters.py:223 | fit_round 32: strategy sampled 5 clients (out of 20)\n",
            "DEBUG:flwr:fit_round 32: strategy sampled 5 clients (out of 20)\n"
          ]
        },
        {
          "output_type": "stream",
          "name": "stdout",
          "text": [
            "cid:  3119\n",
            "cid:  2855\n",
            "cid:  1363\n",
            "cid:  2530\n",
            "cid:  2338\n"
          ]
        },
        {
          "output_type": "stream",
          "name": "stderr",
          "text": [
            "DEBUG flwr 2024-02-05 21:57:01,219 | server_returns_parameters.py:237 | fit_round 32 received 5 results and 0 failures\n",
            "DEBUG:flwr:fit_round 32 received 5 results and 0 failures\n",
            "  0%|          | 2/891 [00:00<01:33,  9.51it/s]\n",
            "INFO flwr 2024-02-05 21:57:01,487 | server_returns_parameters.py:120 | fit progress: (32, 3.0321630239486694, {'accuracy': 0.640625}, 113.46164938900029)\n",
            "INFO:flwr:fit progress: (32, 3.0321630239486694, {'accuracy': 0.640625}, 113.46164938900029)\n",
            "INFO flwr 2024-02-05 21:57:01,493 | server_returns_parameters.py:171 | evaluate_round 32: no clients selected, cancel\n",
            "INFO:flwr:evaluate_round 32: no clients selected, cancel\n",
            "DEBUG flwr 2024-02-05 21:57:01,502 | server_returns_parameters.py:223 | fit_round 33: strategy sampled 5 clients (out of 20)\n",
            "DEBUG:flwr:fit_round 33: strategy sampled 5 clients (out of 20)\n"
          ]
        },
        {
          "output_type": "stream",
          "name": "stdout",
          "text": [
            "cid: cid:  1603\n",
            " 2338\n",
            "cid:  2907\n",
            "cid:  2855\n",
            "cid:  2688\n"
          ]
        },
        {
          "output_type": "stream",
          "name": "stderr",
          "text": [
            "DEBUG flwr 2024-02-05 21:57:04,174 | server_returns_parameters.py:237 | fit_round 33 received 5 results and 0 failures\n",
            "DEBUG:flwr:fit_round 33 received 5 results and 0 failures\n",
            "  0%|          | 2/891 [00:00<01:24, 10.58it/s]\n",
            "INFO flwr 2024-02-05 21:57:04,425 | server_returns_parameters.py:120 | fit progress: (33, 3.0548824071884155, {'accuracy': 0.65625}, 116.39992563900023)\n",
            "INFO:flwr:fit progress: (33, 3.0548824071884155, {'accuracy': 0.65625}, 116.39992563900023)\n",
            "INFO flwr 2024-02-05 21:57:04,430 | server_returns_parameters.py:171 | evaluate_round 33: no clients selected, cancel\n",
            "INFO:flwr:evaluate_round 33: no clients selected, cancel\n",
            "DEBUG flwr 2024-02-05 21:57:04,434 | server_returns_parameters.py:223 | fit_round 34: strategy sampled 5 clients (out of 20)\n",
            "DEBUG:flwr:fit_round 34: strategy sampled 5 clients (out of 20)\n"
          ]
        },
        {
          "output_type": "stream",
          "name": "stdout",
          "text": [
            "cid: cid:  2399\n",
            " 2530\n",
            "cid: cid:  2688\n",
            " 2997\n",
            "cid:  678\n"
          ]
        },
        {
          "output_type": "stream",
          "name": "stderr",
          "text": [
            "DEBUG flwr 2024-02-05 21:57:07,601 | server_returns_parameters.py:237 | fit_round 34 received 5 results and 0 failures\n",
            "DEBUG:flwr:fit_round 34 received 5 results and 0 failures\n",
            "  0%|          | 2/891 [00:00<01:33,  9.51it/s]\n",
            "INFO flwr 2024-02-05 21:57:07,865 | server_returns_parameters.py:120 | fit progress: (34, 2.6018292903900146, {'accuracy': 0.65625}, 119.84016708600029)\n",
            "INFO:flwr:fit progress: (34, 2.6018292903900146, {'accuracy': 0.65625}, 119.84016708600029)\n",
            "INFO flwr 2024-02-05 21:57:07,870 | server_returns_parameters.py:171 | evaluate_round 34: no clients selected, cancel\n",
            "INFO:flwr:evaluate_round 34: no clients selected, cancel\n",
            "DEBUG flwr 2024-02-05 21:57:07,875 | server_returns_parameters.py:223 | fit_round 35: strategy sampled 5 clients (out of 20)\n",
            "DEBUG:flwr:fit_round 35: strategy sampled 5 clients (out of 20)\n"
          ]
        },
        {
          "output_type": "stream",
          "name": "stdout",
          "text": [
            "cid:  678\n",
            "cid:  2184\n",
            "cid:  cid:  3119\n",
            "1603\n",
            "cid:  1473\n"
          ]
        },
        {
          "output_type": "stream",
          "name": "stderr",
          "text": [
            "DEBUG flwr 2024-02-05 21:57:10,869 | server_returns_parameters.py:237 | fit_round 35 received 5 results and 0 failures\n",
            "DEBUG:flwr:fit_round 35 received 5 results and 0 failures\n",
            "  0%|          | 2/891 [00:00<02:33,  5.80it/s]\n",
            "INFO flwr 2024-02-05 21:57:11,319 | server_returns_parameters.py:120 | fit progress: (35, 2.917811632156372, {'accuracy': 0.640625}, 123.29382898199992)\n",
            "INFO:flwr:fit progress: (35, 2.917811632156372, {'accuracy': 0.640625}, 123.29382898199992)\n",
            "INFO flwr 2024-02-05 21:57:11,328 | server_returns_parameters.py:171 | evaluate_round 35: no clients selected, cancel\n",
            "INFO:flwr:evaluate_round 35: no clients selected, cancel\n",
            "DEBUG flwr 2024-02-05 21:57:11,336 | server_returns_parameters.py:223 | fit_round 36: strategy sampled 5 clients (out of 20)\n",
            "DEBUG:flwr:fit_round 36: strategy sampled 5 clients (out of 20)\n"
          ]
        },
        {
          "output_type": "stream",
          "name": "stdout",
          "text": [
            "cid:  1363\n",
            "cid:  1571\n",
            "cid:  cid:  2530\n",
            "cid: 1260\n",
            " 2600\n"
          ]
        },
        {
          "output_type": "stream",
          "name": "stderr",
          "text": [
            "DEBUG flwr 2024-02-05 21:57:15,259 | server_returns_parameters.py:237 | fit_round 36 received 5 results and 0 failures\n",
            "DEBUG:flwr:fit_round 36 received 5 results and 0 failures\n",
            "  0%|          | 2/891 [00:00<01:31,  9.76it/s]\n",
            "INFO flwr 2024-02-05 21:57:15,535 | server_returns_parameters.py:120 | fit progress: (36, 3.1638402938842773, {'accuracy': 0.6875}, 127.51047773000028)\n",
            "INFO:flwr:fit progress: (36, 3.1638402938842773, {'accuracy': 0.6875}, 127.51047773000028)\n",
            "INFO flwr 2024-02-05 21:57:15,541 | server_returns_parameters.py:171 | evaluate_round 36: no clients selected, cancel\n",
            "INFO:flwr:evaluate_round 36: no clients selected, cancel\n",
            "DEBUG flwr 2024-02-05 21:57:15,545 | server_returns_parameters.py:223 | fit_round 37: strategy sampled 5 clients (out of 20)\n",
            "DEBUG:flwr:fit_round 37: strategy sampled 5 clients (out of 20)\n"
          ]
        },
        {
          "output_type": "stream",
          "name": "stdout",
          "text": [
            "cid: cid:  2399\n",
            " cid:  2907\n",
            "1498\n",
            "cid:  2530cid:  1363\n",
            "\n"
          ]
        },
        {
          "output_type": "stream",
          "name": "stderr",
          "text": [
            "DEBUG flwr 2024-02-05 21:57:18,272 | server_returns_parameters.py:237 | fit_round 37 received 5 results and 0 failures\n",
            "DEBUG:flwr:fit_round 37 received 5 results and 0 failures\n",
            "  0%|          | 2/891 [00:00<01:40,  8.86it/s]\n",
            "INFO flwr 2024-02-05 21:57:18,555 | server_returns_parameters.py:120 | fit progress: (37, 3.0678118467330933, {'accuracy': 0.625}, 130.52997202999995)\n",
            "INFO:flwr:fit progress: (37, 3.0678118467330933, {'accuracy': 0.625}, 130.52997202999995)\n",
            "INFO flwr 2024-02-05 21:57:18,562 | server_returns_parameters.py:171 | evaluate_round 37: no clients selected, cancel\n",
            "INFO:flwr:evaluate_round 37: no clients selected, cancel\n",
            "DEBUG flwr 2024-02-05 21:57:18,567 | server_returns_parameters.py:223 | fit_round 38: strategy sampled 5 clients (out of 20)\n",
            "DEBUG:flwr:fit_round 38: strategy sampled 5 clients (out of 20)\n"
          ]
        },
        {
          "output_type": "stream",
          "name": "stdout",
          "text": [
            "cid: cid:  2399\n",
            " 2997\n",
            "cid:  1494\n",
            "cid:  1498\n",
            "cid:  2907\n"
          ]
        },
        {
          "output_type": "stream",
          "name": "stderr",
          "text": [
            "DEBUG flwr 2024-02-05 21:57:21,427 | server_returns_parameters.py:237 | fit_round 38 received 5 results and 0 failures\n",
            "DEBUG:flwr:fit_round 38 received 5 results and 0 failures\n",
            "  0%|          | 2/891 [00:00<01:31,  9.76it/s]\n",
            "INFO flwr 2024-02-05 21:57:21,705 | server_returns_parameters.py:120 | fit progress: (38, 2.919882893562317, {'accuracy': 0.640625}, 133.68013366000014)\n",
            "INFO:flwr:fit progress: (38, 2.919882893562317, {'accuracy': 0.640625}, 133.68013366000014)\n",
            "INFO flwr 2024-02-05 21:57:21,710 | server_returns_parameters.py:171 | evaluate_round 38: no clients selected, cancel\n",
            "INFO:flwr:evaluate_round 38: no clients selected, cancel\n",
            "DEBUG flwr 2024-02-05 21:57:21,716 | server_returns_parameters.py:223 | fit_round 39: strategy sampled 5 clients (out of 20)\n",
            "DEBUG:flwr:fit_round 39: strategy sampled 5 clients (out of 20)\n"
          ]
        },
        {
          "output_type": "stream",
          "name": "stdout",
          "text": [
            "cid:  2399\n",
            "cid:  3119\n",
            "cid:  1473\n",
            "cid:  678\n",
            "cid:  2184\n"
          ]
        },
        {
          "output_type": "stream",
          "name": "stderr",
          "text": [
            "DEBUG flwr 2024-02-05 21:57:24,589 | server_returns_parameters.py:237 | fit_round 39 received 5 results and 0 failures\n",
            "DEBUG:flwr:fit_round 39 received 5 results and 0 failures\n",
            "  0%|          | 2/891 [00:00<01:43,  8.59it/s]\n",
            "INFO flwr 2024-02-05 21:57:24,877 | server_returns_parameters.py:120 | fit progress: (39, 2.684653878211975, {'accuracy': 0.640625}, 136.85213099500015)\n",
            "INFO:flwr:fit progress: (39, 2.684653878211975, {'accuracy': 0.640625}, 136.85213099500015)\n",
            "INFO flwr 2024-02-05 21:57:24,883 | server_returns_parameters.py:171 | evaluate_round 39: no clients selected, cancel\n",
            "INFO:flwr:evaluate_round 39: no clients selected, cancel\n",
            "DEBUG flwr 2024-02-05 21:57:24,887 | server_returns_parameters.py:223 | fit_round 40: strategy sampled 5 clients (out of 20)\n",
            "DEBUG:flwr:fit_round 40: strategy sampled 5 clients (out of 20)\n"
          ]
        },
        {
          "output_type": "stream",
          "name": "stdout",
          "text": [
            "cid:  1260\n",
            "cid:  678\n",
            "cid:  1494cid: \n",
            " 1571\n",
            "cid:  1603\n"
          ]
        },
        {
          "output_type": "stream",
          "name": "stderr",
          "text": [
            "DEBUG flwr 2024-02-05 21:57:28,683 | server_returns_parameters.py:237 | fit_round 40 received 5 results and 0 failures\n",
            "DEBUG:flwr:fit_round 40 received 5 results and 0 failures\n",
            "  0%|          | 2/891 [00:00<02:32,  5.83it/s]\n",
            "INFO flwr 2024-02-05 21:57:29,129 | server_returns_parameters.py:120 | fit progress: (40, 3.626436471939087, {'accuracy': 0.546875}, 141.10357950900016)\n",
            "INFO:flwr:fit progress: (40, 3.626436471939087, {'accuracy': 0.546875}, 141.10357950900016)\n",
            "INFO flwr 2024-02-05 21:57:29,133 | server_returns_parameters.py:171 | evaluate_round 40: no clients selected, cancel\n",
            "INFO:flwr:evaluate_round 40: no clients selected, cancel\n",
            "DEBUG flwr 2024-02-05 21:57:29,138 | server_returns_parameters.py:223 | fit_round 41: strategy sampled 5 clients (out of 20)\n",
            "DEBUG:flwr:fit_round 41: strategy sampled 5 clients (out of 20)\n"
          ]
        },
        {
          "output_type": "stream",
          "name": "stdout",
          "text": [
            "cid:  2855\n",
            "cid:  2997\n",
            "cid: cid:  3119\n",
            " 2907\n",
            "cid:  839\n"
          ]
        },
        {
          "output_type": "stream",
          "name": "stderr",
          "text": [
            "DEBUG flwr 2024-02-05 21:57:32,463 | server_returns_parameters.py:237 | fit_round 41 received 5 results and 0 failures\n",
            "DEBUG:flwr:fit_round 41 received 5 results and 0 failures\n",
            "  0%|          | 2/891 [00:00<01:33,  9.54it/s]\n",
            "INFO flwr 2024-02-05 21:57:32,731 | server_returns_parameters.py:120 | fit progress: (41, 2.8876352310180664, {'accuracy': 0.671875}, 144.70560346399998)\n",
            "INFO:flwr:fit progress: (41, 2.8876352310180664, {'accuracy': 0.671875}, 144.70560346399998)\n",
            "INFO flwr 2024-02-05 21:57:32,738 | server_returns_parameters.py:171 | evaluate_round 41: no clients selected, cancel\n",
            "INFO:flwr:evaluate_round 41: no clients selected, cancel\n",
            "DEBUG flwr 2024-02-05 21:57:32,743 | server_returns_parameters.py:223 | fit_round 42: strategy sampled 5 clients (out of 20)\n",
            "DEBUG:flwr:fit_round 42: strategy sampled 5 clients (out of 20)\n"
          ]
        },
        {
          "output_type": "stream",
          "name": "stdout",
          "text": [
            "cid:  2338\n",
            "cid:  2600\n",
            "cid:  3175\n",
            "cid:  1473\n",
            "cid:  2530\n"
          ]
        },
        {
          "output_type": "stream",
          "name": "stderr",
          "text": [
            "DEBUG flwr 2024-02-05 21:57:35,714 | server_returns_parameters.py:237 | fit_round 42 received 5 results and 0 failures\n",
            "DEBUG:flwr:fit_round 42 received 5 results and 0 failures\n",
            "  0%|          | 2/891 [00:00<01:28, 10.07it/s]\n",
            "INFO flwr 2024-02-05 21:57:35,986 | server_returns_parameters.py:120 | fit progress: (42, 2.6745259761810303, {'accuracy': 0.65625}, 147.9611703559999)\n",
            "INFO:flwr:fit progress: (42, 2.6745259761810303, {'accuracy': 0.65625}, 147.9611703559999)\n",
            "INFO flwr 2024-02-05 21:57:35,995 | server_returns_parameters.py:171 | evaluate_round 42: no clients selected, cancel\n",
            "INFO:flwr:evaluate_round 42: no clients selected, cancel\n",
            "DEBUG flwr 2024-02-05 21:57:36,002 | server_returns_parameters.py:223 | fit_round 43: strategy sampled 5 clients (out of 20)\n",
            "DEBUG:flwr:fit_round 43: strategy sampled 5 clients (out of 20)\n"
          ]
        },
        {
          "output_type": "stream",
          "name": "stdout",
          "text": [
            "cid:  2530\n",
            "cid:  678\n",
            "cid:  2184\n",
            "cid:  1498\n",
            "cid:  1473\n"
          ]
        },
        {
          "output_type": "stream",
          "name": "stderr",
          "text": [
            "DEBUG flwr 2024-02-05 21:57:39,055 | server_returns_parameters.py:237 | fit_round 43 received 5 results and 0 failures\n",
            "DEBUG:flwr:fit_round 43 received 5 results and 0 failures\n",
            "  0%|          | 2/891 [00:00<01:31,  9.67it/s]\n",
            "INFO flwr 2024-02-05 21:57:39,321 | server_returns_parameters.py:120 | fit progress: (43, 2.8224579095840454, {'accuracy': 0.671875}, 151.29575600399994)\n",
            "INFO:flwr:fit progress: (43, 2.8224579095840454, {'accuracy': 0.671875}, 151.29575600399994)\n",
            "INFO flwr 2024-02-05 21:57:39,328 | server_returns_parameters.py:171 | evaluate_round 43: no clients selected, cancel\n",
            "INFO:flwr:evaluate_round 43: no clients selected, cancel\n",
            "DEBUG flwr 2024-02-05 21:57:39,333 | server_returns_parameters.py:223 | fit_round 44: strategy sampled 5 clients (out of 20)\n",
            "DEBUG:flwr:fit_round 44: strategy sampled 5 clients (out of 20)\n"
          ]
        },
        {
          "output_type": "stream",
          "name": "stdout",
          "text": [
            "cid: cid:  839\n",
            " 3175\n",
            "cid: cid:  1363\n",
            " 3119\n",
            "cid:  2338\n"
          ]
        },
        {
          "output_type": "stream",
          "name": "stderr",
          "text": [
            "DEBUG flwr 2024-02-05 21:57:42,185 | server_returns_parameters.py:237 | fit_round 44 received 5 results and 0 failures\n",
            "DEBUG:flwr:fit_round 44 received 5 results and 0 failures\n",
            "  0%|          | 2/891 [00:00<02:27,  6.04it/s]\n",
            "INFO flwr 2024-02-05 21:57:42,606 | server_returns_parameters.py:120 | fit progress: (44, 2.9295157194137573, {'accuracy': 0.65625}, 154.58085901799996)\n",
            "INFO:flwr:fit progress: (44, 2.9295157194137573, {'accuracy': 0.65625}, 154.58085901799996)\n",
            "INFO flwr 2024-02-05 21:57:42,610 | server_returns_parameters.py:171 | evaluate_round 44: no clients selected, cancel\n",
            "INFO:flwr:evaluate_round 44: no clients selected, cancel\n",
            "DEBUG flwr 2024-02-05 21:57:42,616 | server_returns_parameters.py:223 | fit_round 45: strategy sampled 5 clients (out of 20)\n",
            "DEBUG:flwr:fit_round 45: strategy sampled 5 clients (out of 20)\n"
          ]
        },
        {
          "output_type": "stream",
          "name": "stdout",
          "text": [
            "cid:  2530\n",
            "cid:  1260\n",
            "cid:  1363\n",
            "cid:  2855\n",
            "cid:  2600\n"
          ]
        },
        {
          "output_type": "stream",
          "name": "stderr",
          "text": [
            "DEBUG flwr 2024-02-05 21:57:46,788 | server_returns_parameters.py:237 | fit_round 45 received 5 results and 0 failures\n",
            "DEBUG:flwr:fit_round 45 received 5 results and 0 failures\n",
            "  0%|          | 2/891 [00:00<02:20,  6.33it/s]\n",
            "INFO flwr 2024-02-05 21:57:47,190 | server_returns_parameters.py:120 | fit progress: (45, 3.556431293487549, {'accuracy': 0.578125}, 159.16475015600008)\n",
            "INFO:flwr:fit progress: (45, 3.556431293487549, {'accuracy': 0.578125}, 159.16475015600008)\n",
            "INFO flwr 2024-02-05 21:57:47,198 | server_returns_parameters.py:171 | evaluate_round 45: no clients selected, cancel\n",
            "INFO:flwr:evaluate_round 45: no clients selected, cancel\n",
            "DEBUG flwr 2024-02-05 21:57:47,203 | server_returns_parameters.py:223 | fit_round 46: strategy sampled 5 clients (out of 20)\n",
            "DEBUG:flwr:fit_round 46: strategy sampled 5 clients (out of 20)\n"
          ]
        },
        {
          "output_type": "stream",
          "name": "stdout",
          "text": [
            "cid:  2184\n",
            "cid:  1571\n",
            "cid:  2530\n",
            "cid:  1494\n",
            "cid:  2907\n"
          ]
        },
        {
          "output_type": "stream",
          "name": "stderr",
          "text": [
            "DEBUG flwr 2024-02-05 21:57:50,233 | server_returns_parameters.py:237 | fit_round 46 received 5 results and 0 failures\n",
            "DEBUG:flwr:fit_round 46 received 5 results and 0 failures\n",
            "  0%|          | 2/891 [00:00<01:32,  9.64it/s]\n",
            "INFO flwr 2024-02-05 21:57:50,499 | server_returns_parameters.py:120 | fit progress: (46, 2.6268516778945923, {'accuracy': 0.734375}, 162.47440181499996)\n",
            "INFO:flwr:fit progress: (46, 2.6268516778945923, {'accuracy': 0.734375}, 162.47440181499996)\n",
            "INFO flwr 2024-02-05 21:57:50,504 | server_returns_parameters.py:171 | evaluate_round 46: no clients selected, cancel\n",
            "INFO:flwr:evaluate_round 46: no clients selected, cancel\n",
            "DEBUG flwr 2024-02-05 21:57:50,512 | server_returns_parameters.py:223 | fit_round 47: strategy sampled 5 clients (out of 20)\n",
            "DEBUG:flwr:fit_round 47: strategy sampled 5 clients (out of 20)\n"
          ]
        },
        {
          "output_type": "stream",
          "name": "stdout",
          "text": [
            "cid:  cid:  2600\n",
            "2184cid:  1260\n",
            "\n",
            "cid:  3119\n",
            "cid:  1473\n"
          ]
        },
        {
          "output_type": "stream",
          "name": "stderr",
          "text": [
            "DEBUG flwr 2024-02-05 21:57:53,696 | server_returns_parameters.py:237 | fit_round 47 received 5 results and 0 failures\n",
            "DEBUG:flwr:fit_round 47 received 5 results and 0 failures\n",
            "  0%|          | 2/891 [00:00<01:15, 11.78it/s]\n",
            "INFO flwr 2024-02-05 21:57:53,927 | server_returns_parameters.py:120 | fit progress: (47, 3.779078722000122, {'accuracy': 0.640625}, 165.90164880300017)\n",
            "INFO:flwr:fit progress: (47, 3.779078722000122, {'accuracy': 0.640625}, 165.90164880300017)\n",
            "INFO flwr 2024-02-05 21:57:53,940 | server_returns_parameters.py:171 | evaluate_round 47: no clients selected, cancel\n",
            "INFO:flwr:evaluate_round 47: no clients selected, cancel\n",
            "DEBUG flwr 2024-02-05 21:57:53,951 | server_returns_parameters.py:223 | fit_round 48: strategy sampled 5 clients (out of 20)\n",
            "DEBUG:flwr:fit_round 48: strategy sampled 5 clients (out of 20)\n"
          ]
        },
        {
          "output_type": "stream",
          "name": "stdout",
          "text": [
            "cid:  2855\n",
            "cid:  2399\n",
            "cid:  2530\n",
            "cid:  1494\n",
            "cid:  2688\n"
          ]
        },
        {
          "output_type": "stream",
          "name": "stderr",
          "text": [
            "DEBUG flwr 2024-02-05 21:57:57,057 | server_returns_parameters.py:237 | fit_round 48 received 5 results and 0 failures\n",
            "DEBUG:flwr:fit_round 48 received 5 results and 0 failures\n",
            "  0%|          | 2/891 [00:00<01:38,  9.05it/s]\n",
            "INFO flwr 2024-02-05 21:57:57,339 | server_returns_parameters.py:120 | fit progress: (48, 2.7634412050247192, {'accuracy': 0.671875}, 169.3137336509999)\n",
            "INFO:flwr:fit progress: (48, 2.7634412050247192, {'accuracy': 0.671875}, 169.3137336509999)\n",
            "INFO flwr 2024-02-05 21:57:57,343 | server_returns_parameters.py:171 | evaluate_round 48: no clients selected, cancel\n",
            "INFO:flwr:evaluate_round 48: no clients selected, cancel\n",
            "DEBUG flwr 2024-02-05 21:57:57,346 | server_returns_parameters.py:223 | fit_round 49: strategy sampled 5 clients (out of 20)\n",
            "DEBUG:flwr:fit_round 49: strategy sampled 5 clients (out of 20)\n"
          ]
        },
        {
          "output_type": "stream",
          "name": "stdout",
          "text": [
            "cid:  2997\n",
            "cid: cid:  1260 \n",
            "2907\n",
            "cid:  1494\n",
            "cid:  2688\n"
          ]
        },
        {
          "output_type": "stream",
          "name": "stderr",
          "text": [
            "DEBUG flwr 2024-02-05 21:58:01,347 | server_returns_parameters.py:237 | fit_round 49 received 5 results and 0 failures\n",
            "DEBUG:flwr:fit_round 49 received 5 results and 0 failures\n",
            "  0%|          | 2/891 [00:00<02:55,  5.06it/s]\n",
            "INFO flwr 2024-02-05 21:58:01,851 | server_returns_parameters.py:120 | fit progress: (49, 3.4187581539154053, {'accuracy': 0.671875}, 173.8255083930003)\n",
            "INFO:flwr:fit progress: (49, 3.4187581539154053, {'accuracy': 0.671875}, 173.8255083930003)\n",
            "INFO flwr 2024-02-05 21:58:01,858 | server_returns_parameters.py:171 | evaluate_round 49: no clients selected, cancel\n",
            "INFO:flwr:evaluate_round 49: no clients selected, cancel\n",
            "DEBUG flwr 2024-02-05 21:58:01,862 | server_returns_parameters.py:223 | fit_round 50: strategy sampled 5 clients (out of 20)\n",
            "DEBUG:flwr:fit_round 50: strategy sampled 5 clients (out of 20)\n"
          ]
        },
        {
          "output_type": "stream",
          "name": "stdout",
          "text": [
            "cid:  3119cid: cid:  2399\n",
            " 839\n",
            "\n",
            "cid:  cid: 1260\n",
            " 678\n"
          ]
        },
        {
          "output_type": "stream",
          "name": "stderr",
          "text": [
            "DEBUG flwr 2024-02-05 21:58:06,136 | server_returns_parameters.py:237 | fit_round 50 received 5 results and 0 failures\n",
            "DEBUG:flwr:fit_round 50 received 5 results and 0 failures\n",
            "  0%|          | 2/891 [00:00<02:54,  5.08it/s]\n",
            "INFO flwr 2024-02-05 21:58:06,628 | server_returns_parameters.py:120 | fit progress: (50, 3.717604398727417, {'accuracy': 0.59375}, 178.60309577999988)\n",
            "INFO:flwr:fit progress: (50, 3.717604398727417, {'accuracy': 0.59375}, 178.60309577999988)\n",
            "INFO flwr 2024-02-05 21:58:06,637 | server_returns_parameters.py:171 | evaluate_round 50: no clients selected, cancel\n",
            "INFO:flwr:evaluate_round 50: no clients selected, cancel\n",
            "INFO flwr 2024-02-05 21:58:06,645 | server_returns_parameters.py:150 | FL finished in 178.61959482800012\n",
            "INFO:flwr:FL finished in 178.61959482800012\n",
            "INFO flwr 2024-02-05 21:58:06,648 | app.py:250 | app_fit: losses_distributed []\n",
            "INFO:flwr:app_fit: losses_distributed []\n",
            "INFO flwr 2024-02-05 21:58:06,650 | app.py:251 | app_fit: metrics_distributed_fit {'train_loss': [(1, {'avg': 0.10474226872126262, 'all': [(4, 0.11101365834474564), (4, 0.09858373366296291), (5, 0.1072576105594635), (4, 0.10465370118618011), (4, 0.10157380439341068)]}), (2, {'avg': 0.10379672192391895, 'all': [(5, 0.10372941046953202), (5, 0.1046845093369484), (4, 0.10116549767553806), (3, 0.10608416795730591), (4, 0.10368676669895649)]}), (3, {'avg': 0.10566225492705901, 'all': [(3, 0.09728517631689708), (4, 0.10028833709657192), (4, 0.10108944401144981), (5, 0.10408916026353836), (8, 0.1147602079436183)]}), (4, {'avg': 0.09790518246591091, 'all': [(4, 0.10207038931548595), (3, 0.09499197949965794), (4, 0.09234880842268467), (5, 0.1011068806052208), (4, 0.09747912921011448)]}), (5, {'avg': 0.09483111034268918, 'all': [(3, 0.09357968469460805), (4, 0.0880298838019371), (5, 0.09404924213886261), (5, 0.08673541843891144), (6, 0.10738894095023473)]}), (6, {'avg': 0.07617421504110097, 'all': [(3, 0.08016053090492885), (5, 0.07162405550479889), (4, 0.07942074164748192), (4, 0.06992024648934603), (4, 0.0818796195089817)]}), (7, {'avg': 0.07067023627460003, 'all': [(4, 0.07855534739792347), (4, 0.07647202163934708), (4, 0.061983740888535976), (4, 0.06920105218887329), (4, 0.06713901925832033)]}), (8, {'avg': 0.06872719383010498, 'all': [(8, 0.0771447466686368), (4, 0.0792753342539072), (5, 0.04959481060504913), (5, 0.06219115406274796), (4, 0.07342947646975517)]}), (9, {'avg': 0.043406161665916446, 'all': [(5, 0.038513924926519394), (4, 0.0433774022385478), (4, 0.04093141108751297), (4, 0.04473071824759245), (3, 0.05313182746370634)]}), (10, {'avg': 0.04620680799362836, 'all': [(4, 0.055780296213924885), (6, 0.054296197990576424), (5, 0.04069561064243317), (8, 0.04636283218860626), (4, 0.031076183076947927)]}), (11, {'avg': 0.037908872589468956, 'all': [(4, 0.04864836577326059), (4, 0.03195633878931403), (5, 0.031341502815485), (4, 0.0393854808062315), (4, 0.039854517206549644)]}), (12, {'avg': 0.03376493984389873, 'all': [(4, 0.036123653408139944), (3, 0.03116510125497977), (5, 0.03282848857343197), (5, 0.02775721549987793), (4, 0.04203632473945618)]}), (13, {'avg': 0.03048572964256718, 'all': [(4, 0.024918819312006235), (5, 0.029590344801545144), (4, 0.03383030230179429), (4, 0.03586741350591183), (4, 0.028445614501833916)]}), (14, {'avg': 0.027947681909427046, 'all': [(4, 0.03729622345417738), (4, 0.029220602940768003), (4, 0.021280590910464525), (4, 0.03672677418217063), (4, 0.015214218059554696)]}), (15, {'avg': 0.024023702926933767, 'all': [(4, 0.024734552251175046), (3, 0.022064267968138058), (4, 0.020405611488968134), (4, 0.03114469815045595), (5, 0.021828361414372922)]}), (16, {'avg': 0.024947889372706412, 'all': [(4, 0.02812357060611248), (4, 0.025860223919153214), (5, 0.022851616889238358), (4, 0.016620729584246874), (8, 0.028377631679177284)]}), (17, {'avg': 0.02098612220067045, 'all': [(4, 0.0212419293820858), (4, 0.023880228400230408), (8, 0.022260867059230804), (4, 0.018093761056661606), (3, 0.017243399595220883)]}), (18, {'avg': 0.020189889972763404, 'all': [(5, 0.015382068045437337), (4, 0.018269468564540148), (4, 0.02681986428797245), (5, 0.015196967497467994), (3, 0.030245060101151466)]}), (19, {'avg': 0.01504632318392396, 'all': [(5, 0.008929377980530262), (4, 0.017072916496545076), (4, 0.01272396242711693), (4, 0.018530984641984105), (4, 0.01950361067429185)]}), (20, {'avg': 0.020003905752673745, 'all': [(3, 0.02383844864865144), (4, 0.0282780765555799), (5, 0.016418959386646746), (8, 0.019178780494257808), (4, 0.01498526125214994)]}), (21, {'avg': 0.01366993822515584, 'all': [(4, 0.00894243095535785), (3, 0.015966099066038925), (5, 0.008365592919290066), (6, 0.021607781915615003), (8, 0.012534464593045413)]}), (22, {'avg': 0.016589626077223908, 'all': [(5, 0.013845795020461082), (5, 0.01692546084523201), (4, 0.02441454748623073), (4, 0.022194440709427), (4, 0.0061698853969573975)]}), (23, {'avg': 0.008847655355930328, 'all': [(4, 0.006990544497966766), (4, 0.01435730280354619), (8, 0.009874733339529485), (5, 0.007763110473752022), (4, 0.004496643901802599)]}), (24, {'avg': 0.016153440345078707, 'all': [(4, 0.010653465986251831), (6, 0.021600626409053802), (5, 0.010376053210347892), (3, 0.012935001713534197), (3, 0.02543978455166022)]}), (25, {'avg': 0.012924941550744208, 'all': [(3, 0.015586847128967444), (4, 0.012102134292945266), (4, 0.012476099887862802), (4, 0.012557779904454947), (4, 0.012567322934046388)]}), (26, {'avg': 0.011893744713493757, 'all': [(3, 0.009144610725343227), (3, 0.012293521004418531), (6, 0.013468560297042131), (4, 0.01249561202712357), (5, 0.010932086780667306)]}), (27, {'avg': 0.008525172399822622, 'all': [(4, 0.00458490545861423), (3, 0.014089946014185747), (5, 0.008396871341392397), (4, 0.008700214559212327), (4, 0.008277193293906748)]}), (28, {'avg': 0.013225496700033545, 'all': [(4, 0.014908016193658113), (4, 0.02195547940209508), (5, 0.007248697057366371), (3, 0.007655072336395581), (4, 0.014461812330409884)]}), (29, {'avg': 0.010175197873087157, 'all': [(3, 0.005125783228625854), (4, 0.006169320899061859), (4, 0.015883052023127675), (6, 0.012078116725509366), (4, 0.009405903401784599)]}), (30, {'avg': 0.006703380196679222, 'all': [(4, 0.006139536737464368), (5, 0.0036752737127244473), (5, 0.011094687599688768), (5, 0.007462894986383617), (4, 0.004613829019945115)]}), (31, {'avg': 0.012437407893594354, 'all': [(4, 0.017070042085833848), (4, 0.009681589202955365), (4, 0.007817142468411475), (4, 0.014821659540757537), (4, 0.012796606170013547)]}), (32, {'avg': 0.0075353237493387, 'all': [(5, 0.006138031999580562), (5, 0.007538405200466514), (4, 0.00931722845416516), (4, 0.009277693694457412), (4, 0.005753811972681433)]}), (33, {'avg': 0.007509267563000322, 'all': [(4, 0.005665912991389632), (3, 0.00792017625644803), (4, 0.010285930475220084), (4, 0.008201260468922555), (5, 0.005962481349706649)]}), (34, {'avg': 0.009624032041756436, 'all': [(4, 0.009552675881423056), (4, 0.020012710243463516), (5, 0.004728628392331302), (6, 0.010238039307296276), (5, 0.0055287693394348025)]}), (35, {'avg': 0.009287873364519328, 'all': [(4, 0.013929920271039009), (6, 0.006353158115719755), (3, 0.016643660453458626), (3, 0.0068796110184242325), (4, 0.005337255774065852)]}), (36, {'avg': 0.007555488362693443, 'all': [(8, 0.008723263803403825), (5, 0.01118274349719286), (5, 0.006566031696274876), (4, 0.007009502907749265), (4, 0.002468674851115793)]}), (37, {'avg': 0.00914902209548191, 'all': [(4, 0.022970213554799557), (4, 0.007952914340421557), (4, 0.005651021492667496), (4, 0.006156488409033045), (5, 0.004241382563486695)]}), (38, {'avg': 0.009740881322483932, 'all': [(5, 0.006381282326765358), (4, 0.01549999020062387), (4, 0.004182340839179233), (4, 0.005094012361951172), (4, 0.018386680632829666)]}), (39, {'avg': 0.009942355454855022, 'all': [(6, 0.009980358260994157), (4, 0.011270538903772831), (4, 0.011538797873072326), (3, 0.012499890600641569), (4, 0.0050425740191712976)]}), (40, {'avg': 0.008125283373519778, 'all': [(3, 0.007635142809400956), (6, 0.004440412779028217), (8, 0.011213118850719184), (4, 0.005424075818154961), (4, 0.010545731289312243)]}), (41, {'avg': 0.004803968876579099, 'all': [(5, 0.0024175567203201355), (4, 0.003367190627614036), (4, 0.00582095782738179), (5, 0.006583773950114846), (4, 0.005982017028145492)]}), (42, {'avg': 0.009041139833806526, 'all': [(5, 0.0051456562243402), (4, 0.014175587566569448), (5, 0.008422438427805901), (4, 0.008546746103093028), (3, 0.010378042856852213)]}), (43, {'avg': 0.008020944634071466, 'all': [(5, 0.005202082917094231), (3, 0.008187766497333845), (4, 0.007406038901535794), (6, 0.00643548765219748), (4, 0.01441249658819288)]}), (44, {'avg': 0.008352752536302433, 'all': [(4, 0.0053342306055128574), (4, 0.0038563103589694947), (4, 0.007366262259893119), (4, 0.01742079434916377), (4, 0.00778616510797292)]}), (45, {'avg': 0.0062112682887042565, 'all': [(5, 0.0032869920833036304), (8, 0.009163267444819212), (5, 0.005910473130643368), (4, 0.003822643484454602), (5, 0.006624040845781565)]}), (46, {'avg': 0.0075078789543892655, 'all': [(4, 0.006094900949392468), (5, 0.0029460161458700895), (4, 0.0048272511921823025), (4, 0.013826977461576462), (4, 0.0109847147250548)]}), (47, {'avg': 0.007647701655514538, 'all': [(3, 0.014076596902062496), (5, 0.004937301855534315), (4, 0.0037763231666758657), (4, 0.010842304560355842), (8, 0.007269253605045378)]}), (48, {'avg': 0.007980255939235742, 'all': [(4, 0.00980620042537339), (5, 0.002214242215268314), (4, 0.014946098672226071), (5, 0.006860882416367531), (4, 0.00779520277865231)]}), (49, {'avg': 0.005384953517932445, 'all': [(4, 0.005452578072436154), (4, 0.006527313031256199), (4, 0.005586930725257844), (5, 0.0018581982352770866), (8, 0.006883194932015613)]}), (50, {'avg': 0.006692176402653926, 'all': [(8, 0.004339026301749982), (6, 0.006683684109399716), (4, 0.013224448775872588), (4, 0.00551843352150172), (4, 0.006052685552276671)]})]}\n",
            "INFO:flwr:app_fit: metrics_distributed_fit {'train_loss': [(1, {'avg': 0.10474226872126262, 'all': [(4, 0.11101365834474564), (4, 0.09858373366296291), (5, 0.1072576105594635), (4, 0.10465370118618011), (4, 0.10157380439341068)]}), (2, {'avg': 0.10379672192391895, 'all': [(5, 0.10372941046953202), (5, 0.1046845093369484), (4, 0.10116549767553806), (3, 0.10608416795730591), (4, 0.10368676669895649)]}), (3, {'avg': 0.10566225492705901, 'all': [(3, 0.09728517631689708), (4, 0.10028833709657192), (4, 0.10108944401144981), (5, 0.10408916026353836), (8, 0.1147602079436183)]}), (4, {'avg': 0.09790518246591091, 'all': [(4, 0.10207038931548595), (3, 0.09499197949965794), (4, 0.09234880842268467), (5, 0.1011068806052208), (4, 0.09747912921011448)]}), (5, {'avg': 0.09483111034268918, 'all': [(3, 0.09357968469460805), (4, 0.0880298838019371), (5, 0.09404924213886261), (5, 0.08673541843891144), (6, 0.10738894095023473)]}), (6, {'avg': 0.07617421504110097, 'all': [(3, 0.08016053090492885), (5, 0.07162405550479889), (4, 0.07942074164748192), (4, 0.06992024648934603), (4, 0.0818796195089817)]}), (7, {'avg': 0.07067023627460003, 'all': [(4, 0.07855534739792347), (4, 0.07647202163934708), (4, 0.061983740888535976), (4, 0.06920105218887329), (4, 0.06713901925832033)]}), (8, {'avg': 0.06872719383010498, 'all': [(8, 0.0771447466686368), (4, 0.0792753342539072), (5, 0.04959481060504913), (5, 0.06219115406274796), (4, 0.07342947646975517)]}), (9, {'avg': 0.043406161665916446, 'all': [(5, 0.038513924926519394), (4, 0.0433774022385478), (4, 0.04093141108751297), (4, 0.04473071824759245), (3, 0.05313182746370634)]}), (10, {'avg': 0.04620680799362836, 'all': [(4, 0.055780296213924885), (6, 0.054296197990576424), (5, 0.04069561064243317), (8, 0.04636283218860626), (4, 0.031076183076947927)]}), (11, {'avg': 0.037908872589468956, 'all': [(4, 0.04864836577326059), (4, 0.03195633878931403), (5, 0.031341502815485), (4, 0.0393854808062315), (4, 0.039854517206549644)]}), (12, {'avg': 0.03376493984389873, 'all': [(4, 0.036123653408139944), (3, 0.03116510125497977), (5, 0.03282848857343197), (5, 0.02775721549987793), (4, 0.04203632473945618)]}), (13, {'avg': 0.03048572964256718, 'all': [(4, 0.024918819312006235), (5, 0.029590344801545144), (4, 0.03383030230179429), (4, 0.03586741350591183), (4, 0.028445614501833916)]}), (14, {'avg': 0.027947681909427046, 'all': [(4, 0.03729622345417738), (4, 0.029220602940768003), (4, 0.021280590910464525), (4, 0.03672677418217063), (4, 0.015214218059554696)]}), (15, {'avg': 0.024023702926933767, 'all': [(4, 0.024734552251175046), (3, 0.022064267968138058), (4, 0.020405611488968134), (4, 0.03114469815045595), (5, 0.021828361414372922)]}), (16, {'avg': 0.024947889372706412, 'all': [(4, 0.02812357060611248), (4, 0.025860223919153214), (5, 0.022851616889238358), (4, 0.016620729584246874), (8, 0.028377631679177284)]}), (17, {'avg': 0.02098612220067045, 'all': [(4, 0.0212419293820858), (4, 0.023880228400230408), (8, 0.022260867059230804), (4, 0.018093761056661606), (3, 0.017243399595220883)]}), (18, {'avg': 0.020189889972763404, 'all': [(5, 0.015382068045437337), (4, 0.018269468564540148), (4, 0.02681986428797245), (5, 0.015196967497467994), (3, 0.030245060101151466)]}), (19, {'avg': 0.01504632318392396, 'all': [(5, 0.008929377980530262), (4, 0.017072916496545076), (4, 0.01272396242711693), (4, 0.018530984641984105), (4, 0.01950361067429185)]}), (20, {'avg': 0.020003905752673745, 'all': [(3, 0.02383844864865144), (4, 0.0282780765555799), (5, 0.016418959386646746), (8, 0.019178780494257808), (4, 0.01498526125214994)]}), (21, {'avg': 0.01366993822515584, 'all': [(4, 0.00894243095535785), (3, 0.015966099066038925), (5, 0.008365592919290066), (6, 0.021607781915615003), (8, 0.012534464593045413)]}), (22, {'avg': 0.016589626077223908, 'all': [(5, 0.013845795020461082), (5, 0.01692546084523201), (4, 0.02441454748623073), (4, 0.022194440709427), (4, 0.0061698853969573975)]}), (23, {'avg': 0.008847655355930328, 'all': [(4, 0.006990544497966766), (4, 0.01435730280354619), (8, 0.009874733339529485), (5, 0.007763110473752022), (4, 0.004496643901802599)]}), (24, {'avg': 0.016153440345078707, 'all': [(4, 0.010653465986251831), (6, 0.021600626409053802), (5, 0.010376053210347892), (3, 0.012935001713534197), (3, 0.02543978455166022)]}), (25, {'avg': 0.012924941550744208, 'all': [(3, 0.015586847128967444), (4, 0.012102134292945266), (4, 0.012476099887862802), (4, 0.012557779904454947), (4, 0.012567322934046388)]}), (26, {'avg': 0.011893744713493757, 'all': [(3, 0.009144610725343227), (3, 0.012293521004418531), (6, 0.013468560297042131), (4, 0.01249561202712357), (5, 0.010932086780667306)]}), (27, {'avg': 0.008525172399822622, 'all': [(4, 0.00458490545861423), (3, 0.014089946014185747), (5, 0.008396871341392397), (4, 0.008700214559212327), (4, 0.008277193293906748)]}), (28, {'avg': 0.013225496700033545, 'all': [(4, 0.014908016193658113), (4, 0.02195547940209508), (5, 0.007248697057366371), (3, 0.007655072336395581), (4, 0.014461812330409884)]}), (29, {'avg': 0.010175197873087157, 'all': [(3, 0.005125783228625854), (4, 0.006169320899061859), (4, 0.015883052023127675), (6, 0.012078116725509366), (4, 0.009405903401784599)]}), (30, {'avg': 0.006703380196679222, 'all': [(4, 0.006139536737464368), (5, 0.0036752737127244473), (5, 0.011094687599688768), (5, 0.007462894986383617), (4, 0.004613829019945115)]}), (31, {'avg': 0.012437407893594354, 'all': [(4, 0.017070042085833848), (4, 0.009681589202955365), (4, 0.007817142468411475), (4, 0.014821659540757537), (4, 0.012796606170013547)]}), (32, {'avg': 0.0075353237493387, 'all': [(5, 0.006138031999580562), (5, 0.007538405200466514), (4, 0.00931722845416516), (4, 0.009277693694457412), (4, 0.005753811972681433)]}), (33, {'avg': 0.007509267563000322, 'all': [(4, 0.005665912991389632), (3, 0.00792017625644803), (4, 0.010285930475220084), (4, 0.008201260468922555), (5, 0.005962481349706649)]}), (34, {'avg': 0.009624032041756436, 'all': [(4, 0.009552675881423056), (4, 0.020012710243463516), (5, 0.004728628392331302), (6, 0.010238039307296276), (5, 0.0055287693394348025)]}), (35, {'avg': 0.009287873364519328, 'all': [(4, 0.013929920271039009), (6, 0.006353158115719755), (3, 0.016643660453458626), (3, 0.0068796110184242325), (4, 0.005337255774065852)]}), (36, {'avg': 0.007555488362693443, 'all': [(8, 0.008723263803403825), (5, 0.01118274349719286), (5, 0.006566031696274876), (4, 0.007009502907749265), (4, 0.002468674851115793)]}), (37, {'avg': 0.00914902209548191, 'all': [(4, 0.022970213554799557), (4, 0.007952914340421557), (4, 0.005651021492667496), (4, 0.006156488409033045), (5, 0.004241382563486695)]}), (38, {'avg': 0.009740881322483932, 'all': [(5, 0.006381282326765358), (4, 0.01549999020062387), (4, 0.004182340839179233), (4, 0.005094012361951172), (4, 0.018386680632829666)]}), (39, {'avg': 0.009942355454855022, 'all': [(6, 0.009980358260994157), (4, 0.011270538903772831), (4, 0.011538797873072326), (3, 0.012499890600641569), (4, 0.0050425740191712976)]}), (40, {'avg': 0.008125283373519778, 'all': [(3, 0.007635142809400956), (6, 0.004440412779028217), (8, 0.011213118850719184), (4, 0.005424075818154961), (4, 0.010545731289312243)]}), (41, {'avg': 0.004803968876579099, 'all': [(5, 0.0024175567203201355), (4, 0.003367190627614036), (4, 0.00582095782738179), (5, 0.006583773950114846), (4, 0.005982017028145492)]}), (42, {'avg': 0.009041139833806526, 'all': [(5, 0.0051456562243402), (4, 0.014175587566569448), (5, 0.008422438427805901), (4, 0.008546746103093028), (3, 0.010378042856852213)]}), (43, {'avg': 0.008020944634071466, 'all': [(5, 0.005202082917094231), (3, 0.008187766497333845), (4, 0.007406038901535794), (6, 0.00643548765219748), (4, 0.01441249658819288)]}), (44, {'avg': 0.008352752536302433, 'all': [(4, 0.0053342306055128574), (4, 0.0038563103589694947), (4, 0.007366262259893119), (4, 0.01742079434916377), (4, 0.00778616510797292)]}), (45, {'avg': 0.0062112682887042565, 'all': [(5, 0.0032869920833036304), (8, 0.009163267444819212), (5, 0.005910473130643368), (4, 0.003822643484454602), (5, 0.006624040845781565)]}), (46, {'avg': 0.0075078789543892655, 'all': [(4, 0.006094900949392468), (5, 0.0029460161458700895), (4, 0.0048272511921823025), (4, 0.013826977461576462), (4, 0.0109847147250548)]}), (47, {'avg': 0.007647701655514538, 'all': [(3, 0.014076596902062496), (5, 0.004937301855534315), (4, 0.0037763231666758657), (4, 0.010842304560355842), (8, 0.007269253605045378)]}), (48, {'avg': 0.007980255939235742, 'all': [(4, 0.00980620042537339), (5, 0.002214242215268314), (4, 0.014946098672226071), (5, 0.006860882416367531), (4, 0.00779520277865231)]}), (49, {'avg': 0.005384953517932445, 'all': [(4, 0.005452578072436154), (4, 0.006527313031256199), (4, 0.005586930725257844), (5, 0.0018581982352770866), (8, 0.006883194932015613)]}), (50, {'avg': 0.006692176402653926, 'all': [(8, 0.004339026301749982), (6, 0.006683684109399716), (4, 0.013224448775872588), (4, 0.00551843352150172), (4, 0.006052685552276671)]})]}\n",
            "INFO flwr 2024-02-05 21:58:06,652 | app.py:252 | app_fit: metrics_distributed {}\n",
            "INFO:flwr:app_fit: metrics_distributed {}\n",
            "INFO flwr 2024-02-05 21:58:06,657 | app.py:253 | app_fit: losses_centralized [(0, 8.255605220794678), (1, 7.25104022026062), (2, 6.954320430755615), (3, 7.111810207366943), (4, 7.234941244125366), (5, 6.879507064819336), (6, 5.882366895675659), (7, 5.333057165145874), (8, 5.5289466381073), (9, 4.667838454246521), (10, 4.799257397651672), (11, 4.518622994422913), (12, 4.335327982902527), (13, 3.9218478202819824), (14, 3.9168341159820557), (15, 3.722179651260376), (16, 3.570663332939148), (17, 4.059290766716003), (18, 3.500898241996765), (19, 3.362802505493164), (20, 3.6675695180892944), (21, 3.7401230335235596), (22, 3.1131125688552856), (23, 3.834907054901123), (24, 3.3019602298736572), (25, 2.8994312286376953), (26, 3.1691086292266846), (27, 3.2771522998809814), (28, 2.753054618835449), (29, 3.2374961376190186), (30, 3.013374924659729), (31, 2.8336962461471558), (32, 3.0321630239486694), (33, 3.0548824071884155), (34, 2.6018292903900146), (35, 2.917811632156372), (36, 3.1638402938842773), (37, 3.0678118467330933), (38, 2.919882893562317), (39, 2.684653878211975), (40, 3.626436471939087), (41, 2.8876352310180664), (42, 2.6745259761810303), (43, 2.8224579095840454), (44, 2.9295157194137573), (45, 3.556431293487549), (46, 2.6268516778945923), (47, 3.779078722000122), (48, 2.7634412050247192), (49, 3.4187581539154053), (50, 3.717604398727417)]\n",
            "INFO:flwr:app_fit: losses_centralized [(0, 8.255605220794678), (1, 7.25104022026062), (2, 6.954320430755615), (3, 7.111810207366943), (4, 7.234941244125366), (5, 6.879507064819336), (6, 5.882366895675659), (7, 5.333057165145874), (8, 5.5289466381073), (9, 4.667838454246521), (10, 4.799257397651672), (11, 4.518622994422913), (12, 4.335327982902527), (13, 3.9218478202819824), (14, 3.9168341159820557), (15, 3.722179651260376), (16, 3.570663332939148), (17, 4.059290766716003), (18, 3.500898241996765), (19, 3.362802505493164), (20, 3.6675695180892944), (21, 3.7401230335235596), (22, 3.1131125688552856), (23, 3.834907054901123), (24, 3.3019602298736572), (25, 2.8994312286376953), (26, 3.1691086292266846), (27, 3.2771522998809814), (28, 2.753054618835449), (29, 3.2374961376190186), (30, 3.013374924659729), (31, 2.8336962461471558), (32, 3.0321630239486694), (33, 3.0548824071884155), (34, 2.6018292903900146), (35, 2.917811632156372), (36, 3.1638402938842773), (37, 3.0678118467330933), (38, 2.919882893562317), (39, 2.684653878211975), (40, 3.626436471939087), (41, 2.8876352310180664), (42, 2.6745259761810303), (43, 2.8224579095840454), (44, 2.9295157194137573), (45, 3.556431293487549), (46, 2.6268516778945923), (47, 3.779078722000122), (48, 2.7634412050247192), (49, 3.4187581539154053), (50, 3.717604398727417)]\n",
            "INFO flwr 2024-02-05 21:58:06,659 | app.py:254 | app_fit: metrics_centralized {'accuracy': [(0, 0.0), (1, 0.15625), (2, 0.15625), (3, 0.109375), (4, 0.15625), (5, 0.25), (6, 0.484375), (7, 0.390625), (8, 0.34375), (9, 0.53125), (10, 0.484375), (11, 0.5), (12, 0.5), (13, 0.5625), (14, 0.5625), (15, 0.546875), (16, 0.609375), (17, 0.578125), (18, 0.609375), (19, 0.609375), (20, 0.65625), (21, 0.5), (22, 0.671875), (23, 0.59375), (24, 0.640625), (25, 0.640625), (26, 0.609375), (27, 0.640625), (28, 0.671875), (29, 0.65625), (30, 0.640625), (31, 0.65625), (32, 0.640625), (33, 0.65625), (34, 0.65625), (35, 0.640625), (36, 0.6875), (37, 0.625), (38, 0.640625), (39, 0.640625), (40, 0.546875), (41, 0.671875), (42, 0.65625), (43, 0.671875), (44, 0.65625), (45, 0.578125), (46, 0.734375), (47, 0.640625), (48, 0.671875), (49, 0.671875), (50, 0.59375)]}\n",
            "INFO:flwr:app_fit: metrics_centralized {'accuracy': [(0, 0.0), (1, 0.15625), (2, 0.15625), (3, 0.109375), (4, 0.15625), (5, 0.25), (6, 0.484375), (7, 0.390625), (8, 0.34375), (9, 0.53125), (10, 0.484375), (11, 0.5), (12, 0.5), (13, 0.5625), (14, 0.5625), (15, 0.546875), (16, 0.609375), (17, 0.578125), (18, 0.609375), (19, 0.609375), (20, 0.65625), (21, 0.5), (22, 0.671875), (23, 0.59375), (24, 0.640625), (25, 0.640625), (26, 0.609375), (27, 0.640625), (28, 0.671875), (29, 0.65625), (30, 0.640625), (31, 0.65625), (32, 0.640625), (33, 0.65625), (34, 0.65625), (35, 0.640625), (36, 0.6875), (37, 0.625), (38, 0.640625), (39, 0.640625), (40, 0.546875), (41, 0.671875), (42, 0.65625), (43, 0.671875), (44, 0.65625), (45, 0.578125), (46, 0.734375), (47, 0.640625), (48, 0.671875), (49, 0.671875), (50, 0.59375)]}\n"
          ]
        }
      ],
      "source": [
        "parameters_for_each_round, hist = run_simulation()"
      ]
    },
    {
      "cell_type": "code",
      "execution_count": 74,
      "metadata": {
        "colab": {
          "base_uri": "https://localhost:8080/"
        },
        "id": "1CMXI3Uz3D1M",
        "outputId": "1570b1c0-2d07-4f95-a362-49771c0dcd98"
      },
      "outputs": [
        {
          "output_type": "stream",
          "name": "stdout",
          "text": [
            "11\n"
          ]
        }
      ],
      "source": [
        "print(len(parameters_for_each_round))"
      ]
    },
    {
      "cell_type": "markdown",
      "metadata": {
        "id": "mriFJbgc-IaC"
      },
      "source": []
    },
    {
      "cell_type": "markdown",
      "metadata": {
        "id": "pY9ELp7NuXEE"
      },
      "source": [
        "**Question 9 (Part II ✅ | Part III/MPhil ✅):**\n",
        "\n",
        "(You must provide the answer with **code** and **plots** for this question. A short written argumentation is recommended.)\n",
        "\n",
        "Now that an entire FL experiment can be trained, it is worth considering the relationship between the FL model across rounds. If we consider the final model $\\theta^N$ obtained after $N$ rounds to be the optimal model $\\theta^*$, we can ask how optimization step contributed to reaching $\\theta^*$.\n",
        "\n",
        "1. Run an FL simulation for at-least 50 rounds.\n",
        "2. Build a function which reconstitutes the update that must have been applied to model $\\theta^t$ in order to obtain $\\theta^{t+1}$, assume the `server_learning_rate` was 1.0. We shall call this update $g_t$ and treat it as a pseudo-gradient.\n",
        "3. For each round plot the cosine similarity between $g_t$ and the direction of improvement towards $\\theta^{*}$ calculated as $\\theta^{*} - \\theta_t$.\n",
        "4. What do you observe from the plots? Does every update point in the direction of the final model? If not, why do you think that is?\n"
      ]
    },
    {
      "cell_type": "code",
      "source": [
        "def direction_improvement(parameters_for_each_round):\n",
        "    flat_params = []\n",
        "    for param in parameters_for_each_round:\n",
        "        params = np.array([])\n",
        "        for layer in param[1]:\n",
        "            params = np.concatenate((params, layer.ravel()))\n",
        "        flat_params.append(params)\n",
        "    final_params = flat_params[-1]\n",
        "    cosine_similarities = []\n",
        "    for i in range(1, len(flat_params)):\n",
        "        g_t = flat_params[i] - flat_params[i - 1]\n",
        "        d_t = final_params - flat_params[i - 1]\n",
        "        cosine_similarities.append(cosine_sim(g_t, d_t))\n",
        "    return cosine_similarities\n",
        "\n",
        "cosine_similarities = direction_improvement(parameters_for_each_round)\n",
        "plt.plot(range(len(cosine_similarities)), cosine_similarities)\n",
        "plt.xlabel(\"Round\")\n",
        "plt.ylabel(\"Cosine Similarity\")\n",
        "plt.title(\"Cosine Similarity between the direction of improvement and final model\")\n",
        "plt.show()"
      ],
      "metadata": {
        "colab": {
          "base_uri": "https://localhost:8080/",
          "height": 472
        },
        "id": "FOsfRlxtOwIY",
        "outputId": "7c05fee2-575d-4567-b180-24b35489e944"
      },
      "execution_count": 112,
      "outputs": [
        {
          "output_type": "display_data",
          "data": {
            "text/plain": [
              "<Figure size 640x480 with 1 Axes>"
            ],
            "image/png": "[encoded data removed]"
          },
          "metadata": {}
        }
      ]
    },
    {
      "cell_type": "markdown",
      "source": [
        "Here, we use the parameters from each round and flatten them all into a list indexed by the round number. Then, we find the cosine similarity between the final set of parameters minus the i-th parameter set and the i+1-th parameter set minus the i-th parameter set. We then plot these in the figure shown.\n",
        "\n",
        "We observe that this plot is fairly monotonic, however, not strictly. Every point is not an improvement, which is an interesting take away. There is a large lull of no progress towards the final weights, but a large change at the end."
      ],
      "metadata": {
        "id": "G7CJsFNZYMGN"
      }
    },
    {
      "cell_type": "markdown",
      "metadata": {
        "id": "l6ofvhZqDSnA"
      },
      "source": [
        "**Question 10 (Part III/MPhil ✅):**\n",
        "\n",
        "(You must provide the answer with **code** and **plots** for this question. A short written argumentation is recommended.)\n",
        "\n",
        " and then for\n",
        "\n",
        "1.   Read about server momentum in FL [here](https://arxiv.org/abs/2003.00295) and repeat the previous experiments using `server_learning_rate=1.0` and `server_momentum=0.9`. Discuss how the momentum impacts the direction of optimization.\n",
        "\n",
        "\n"
      ]
    },
    {
      "cell_type": "code",
      "source": [
        "num_rounds = 50\n",
        "\n",
        "num_total_clients = 20\n",
        "\n",
        "num_evaluate_clients = 0\n",
        "num_clients_per_round = 5\n",
        "\n",
        "\n",
        "def run_simulation(\n",
        "    # How long the FL process runs for:\n",
        "    num_rounds: int = num_rounds,\n",
        "    # Number of clients available\n",
        "    num_total_clients: int = num_total_clients,\n",
        "    # Number of clients used for train/eval\n",
        "    num_clients_per_round: int = num_clients_per_round,\n",
        "    num_evaluate_clients: int = num_evaluate_clients,\n",
        "    # If less clients are overall available stop FL\n",
        "    min_available_clients: int = num_total_clients,\n",
        "    # If less clients are available for fit/eval stop FL\n",
        "    min_fit_clients: int = num_clients_per_round,\n",
        "    min_evaluate_clients: int = num_evaluate_clients,\n",
        "    # Function to test the federated model performance\n",
        "    # external to a client instantiation\n",
        "    evaluate_fn=federated_evaluation_function,\n",
        "    # Functions to generate a config for client fit/evaluate\n",
        "    # by-default the same config is shallow-copied to all clients in Flower\n",
        "    # this version simply uses the configs defined above\n",
        "    on_fit_config_fn: Callable[\n",
        "        [int], Dict[str, Scalar]\n",
        "    ] = lambda cid: federated_train_config,\n",
        "    on_evaluate_config_fn: Callable[[int], Dict[str, Scalar]] = lambda cid: test_config,\n",
        "    # The \"Parameters\" type is merely a more packed version\n",
        "    # of numpy array lists, used internally by Flower\n",
        "    initial_parameters: Parameters = ndarrays_to_parameters(seed_model_params),\n",
        "    # If this is set to True, aggregation will work even if some clients fail\n",
        "    accept_failures: bool = False,\n",
        "    # How to combine the metrics dictionary returned by all clients for fit/eval\n",
        "    fit_metrics_aggregation_fn: Optional[Callable] = aggregate_weighted_average,\n",
        "    evaluate_metrics_aggregation_fn: Optional[Callable] = aggregate_weighted_average,\n",
        "    federated_client_generator: Callable[\n",
        "        [int], fl.client.NumPyClient\n",
        "    ] = federated_client_generator,\n",
        "    # Aggregation learning rate for FedAvg\n",
        "    server_learning_rate: float = 1.0,\n",
        "    server_momentum: float = 0.9,\n",
        ") -> Tuple[List[Tuple[int, NDArrays]], History]:\n",
        "    print(num_rounds)\n",
        "\n",
        "    # Percentage of clients used for train/eval\n",
        "    fraction_fit: float = float(num_clients_per_round) / num_total_clients\n",
        "    fraction_evaluate: float = float(num_evaluate_clients) / num_total_clients\n",
        "\n",
        "    strategy = FedAvg(\n",
        "        fraction_fit=fraction_fit,\n",
        "        fraction_evaluate=fraction_evaluate,\n",
        "        min_fit_clients=num_clients_per_round,\n",
        "        min_evaluate_clients=num_evaluate_clients,\n",
        "        min_available_clients=num_total_clients,\n",
        "        on_fit_config_fn=on_fit_config_fn,\n",
        "        on_evaluate_config_fn=on_evaluate_config_fn,\n",
        "        evaluate_fn=evaluate_fn,\n",
        "        initial_parameters=initial_parameters,\n",
        "        accept_failures=accept_failures,\n",
        "        fit_metrics_aggregation_fn=fit_metrics_aggregation_fn,\n",
        "        evaluate_metrics_aggregation_fn=evaluate_metrics_aggregation_fn,\n",
        "        server_learning_rate=server_learning_rate,\n",
        "        server_momentum=server_momentum,\n",
        "    )\n",
        "    # resetting the seed for the random selection of clients\n",
        "    # this way the list of clients trained is guaranteed to be always the same\n",
        "\n",
        "    cfg = ServerConfig(num_rounds)\n",
        "\n",
        "    simulator_client_generator = lambda cid: federated_client_generator(cid).to_client()\n",
        "\n",
        "    parameters_for_each_round, hist = start_seeded_simulation(\n",
        "        client_fn=simulator_client_generator,\n",
        "        num_clients=num_total_clients,\n",
        "        config=cfg,\n",
        "        strategy=strategy,\n",
        "        name=\"fedavg\",\n",
        "        return_all_parameters=True,\n",
        "        seed=Seeds.DEFAULT,\n",
        "    )\n",
        "    return parameters_for_each_round, hist\n",
        "\n",
        "parameters_for_each_round, hist = run_simulation()\n",
        "\n",
        "cosine_similarities = direction_improvement(parameters_for_each_round)\n",
        "plt.plot(range(len(cosine_similarities)), cosine_similarities)\n",
        "plt.xlabel(\"Round\")\n",
        "plt.ylabel(\"Cosine Similarity\")\n",
        "plt.title(\"Cosine Similarity for Server Momentum\")\n",
        "plt.show()"
      ],
      "metadata": {
        "colab": {
          "base_uri": "https://localhost:8080/",
          "height": 1000
        },
        "id": "3RElF7WeWDLh",
        "outputId": "9baca1f5-5f47-4a19-93fc-3c05a738a5fd"
      },
      "execution_count": 113,
      "outputs": [
        {
          "output_type": "stream",
          "name": "stderr",
          "text": [
            "INFO flwr 2024-02-05 22:17:58,411 | app.py:149 | Starting Flower simulation, config: ServerConfig(num_rounds=50, round_timeout=None)\n",
            "INFO:flwr:Starting Flower simulation, config: ServerConfig(num_rounds=50, round_timeout=None)\n",
            "INFO flwr 2024-02-05 22:17:58,419 | server_returns_parameters.py:81 | Initializing global parameters\n",
            "INFO:flwr:Initializing global parameters\n",
            "INFO flwr 2024-02-05 22:17:58,429 | server_returns_parameters.py:273 | Using initial parameters provided by strategy\n",
            "INFO:flwr:Using initial parameters provided by strategy\n",
            "INFO flwr 2024-02-05 22:17:58,438 | server_returns_parameters.py:84 | Evaluating initial parameters\n",
            "INFO:flwr:Evaluating initial parameters\n"
          ]
        },
        {
          "output_type": "stream",
          "name": "stdout",
          "text": [
            "50\n"
          ]
        },
        {
          "output_type": "stream",
          "name": "stderr",
          "text": [
            "  0%|          | 2/891 [00:00<03:57,  3.74it/s]\n",
            "INFO flwr 2024-02-05 22:17:59,088 | server_returns_parameters.py:87 | initial parameters (loss, other metrics): 8.255605220794678, {'accuracy': 0.0}\n",
            "INFO:flwr:initial parameters (loss, other metrics): 8.255605220794678, {'accuracy': 0.0}\n",
            "INFO flwr 2024-02-05 22:17:59,093 | server_returns_parameters.py:97 | FL starting\n",
            "INFO:flwr:FL starting\n",
            "DEBUG flwr 2024-02-05 22:17:59,098 | server_returns_parameters.py:223 | fit_round 1: strategy sampled 5 clients (out of 20)\n",
            "DEBUG:flwr:fit_round 1: strategy sampled 5 clients (out of 20)\n"
          ]
        },
        {
          "output_type": "stream",
          "name": "stdout",
          "text": [
            "cid:  1494\n",
            "cid:  3119\n",
            "cid:  2600\n",
            "cid:  2399\n",
            "cid:  1571\n"
          ]
        },
        {
          "output_type": "stream",
          "name": "stderr",
          "text": [
            "DEBUG flwr 2024-02-05 22:18:02,366 | server_returns_parameters.py:237 | fit_round 1 received 5 results and 0 failures\n",
            "DEBUG:flwr:fit_round 1 received 5 results and 0 failures\n",
            "  0%|          | 2/891 [00:00<01:33,  9.51it/s]\n",
            "INFO flwr 2024-02-05 22:18:02,635 | server_returns_parameters.py:120 | fit progress: (1, 7.236951589584351, {'accuracy': 0.078125}, 3.53729301400017)\n",
            "INFO:flwr:fit progress: (1, 7.236951589584351, {'accuracy': 0.078125}, 3.53729301400017)\n",
            "INFO flwr 2024-02-05 22:18:02,640 | server_returns_parameters.py:171 | evaluate_round 1: no clients selected, cancel\n",
            "INFO:flwr:evaluate_round 1: no clients selected, cancel\n",
            "DEBUG flwr 2024-02-05 22:18:02,646 | server_returns_parameters.py:223 | fit_round 2: strategy sampled 5 clients (out of 20)\n",
            "DEBUG:flwr:fit_round 2: strategy sampled 5 clients (out of 20)\n"
          ]
        },
        {
          "output_type": "stream",
          "name": "stdout",
          "text": [
            "cid:  1473\n",
            "cid:  2600\n",
            "cid:  1363\n",
            "cid:  1494\n",
            "cid:  2997\n"
          ]
        },
        {
          "output_type": "stream",
          "name": "stderr",
          "text": [
            "DEBUG flwr 2024-02-05 22:18:05,476 | server_returns_parameters.py:237 | fit_round 2 received 5 results and 0 failures\n",
            "DEBUG:flwr:fit_round 2 received 5 results and 0 failures\n",
            "  0%|          | 2/891 [00:00<01:35,  9.36it/s]\n",
            "INFO flwr 2024-02-05 22:18:05,751 | server_returns_parameters.py:120 | fit progress: (2, 10.775766372680664, {'accuracy': 0.15625}, 6.653503864999948)\n",
            "INFO:flwr:fit progress: (2, 10.775766372680664, {'accuracy': 0.15625}, 6.653503864999948)\n",
            "INFO flwr 2024-02-05 22:18:05,756 | server_returns_parameters.py:171 | evaluate_round 2: no clients selected, cancel\n",
            "INFO:flwr:evaluate_round 2: no clients selected, cancel\n",
            "DEBUG flwr 2024-02-05 22:18:05,761 | server_returns_parameters.py:223 | fit_round 3: strategy sampled 5 clients (out of 20)\n",
            "DEBUG:flwr:fit_round 3: strategy sampled 5 clients (out of 20)\n"
          ]
        },
        {
          "output_type": "stream",
          "name": "stdout",
          "text": [
            "cid: cid:  1498\n",
            " cid:  1260cid: \n",
            "2600\n",
            "cid:  2907 1473\n",
            "\n"
          ]
        },
        {
          "output_type": "stream",
          "name": "stderr",
          "text": [
            "DEBUG flwr 2024-02-05 22:18:08,901 | server_returns_parameters.py:237 | fit_round 3 received 5 results and 0 failures\n",
            "DEBUG:flwr:fit_round 3 received 5 results and 0 failures\n",
            "  0%|          | 2/891 [00:00<02:35,  5.71it/s]\n",
            "INFO flwr 2024-02-05 22:18:09,342 | server_returns_parameters.py:120 | fit progress: (3, 7.589574813842773, {'accuracy': 0.109375}, 10.244515854999918)\n",
            "INFO:flwr:fit progress: (3, 7.589574813842773, {'accuracy': 0.109375}, 10.244515854999918)\n",
            "INFO flwr 2024-02-05 22:18:09,348 | server_returns_parameters.py:171 | evaluate_round 3: no clients selected, cancel\n",
            "INFO:flwr:evaluate_round 3: no clients selected, cancel\n",
            "DEBUG flwr 2024-02-05 22:18:09,354 | server_returns_parameters.py:223 | fit_round 4: strategy sampled 5 clients (out of 20)\n",
            "DEBUG:flwr:fit_round 4: strategy sampled 5 clients (out of 20)\n"
          ]
        },
        {
          "output_type": "stream",
          "name": "stdout",
          "text": [
            "cid:  839\n",
            "cid:  2600\n",
            "cid:  1473\n",
            "cid:  3119\n",
            "cid:  1363\n"
          ]
        },
        {
          "output_type": "stream",
          "name": "stderr",
          "text": [
            "DEBUG flwr 2024-02-05 22:18:12,481 | server_returns_parameters.py:237 | fit_round 4 received 5 results and 0 failures\n",
            "DEBUG:flwr:fit_round 4 received 5 results and 0 failures\n",
            "  0%|          | 2/891 [00:00<02:50,  5.23it/s]\n",
            "INFO flwr 2024-02-05 22:18:12,956 | server_returns_parameters.py:120 | fit progress: (4, 7.729309558868408, {'accuracy': 0.109375}, 13.85818518799988)\n",
            "INFO:flwr:fit progress: (4, 7.729309558868408, {'accuracy': 0.109375}, 13.85818518799988)\n",
            "INFO flwr 2024-02-05 22:18:12,970 | server_returns_parameters.py:171 | evaluate_round 4: no clients selected, cancel\n",
            "INFO:flwr:evaluate_round 4: no clients selected, cancel\n",
            "DEBUG flwr 2024-02-05 22:18:12,977 | server_returns_parameters.py:223 | fit_round 5: strategy sampled 5 clients (out of 20)\n",
            "DEBUG:flwr:fit_round 5: strategy sampled 5 clients (out of 20)\n"
          ]
        },
        {
          "output_type": "stream",
          "name": "stdout",
          "text": [
            "cid:  2530\n",
            "cid:  2600\n",
            "cid:  1498\n",
            "cid:  cid: 1603\n",
            " 678\n"
          ]
        },
        {
          "output_type": "stream",
          "name": "stderr",
          "text": [
            "DEBUG flwr 2024-02-05 22:18:16,338 | server_returns_parameters.py:237 | fit_round 5 received 5 results and 0 failures\n",
            "DEBUG:flwr:fit_round 5 received 5 results and 0 failures\n",
            "  0%|          | 2/891 [00:00<01:35,  9.29it/s]\n",
            "INFO flwr 2024-02-05 22:18:16,618 | server_returns_parameters.py:120 | fit progress: (5, 7.0978004932403564, {'accuracy': 0.109375}, 17.51987367000038)\n",
            "INFO:flwr:fit progress: (5, 7.0978004932403564, {'accuracy': 0.109375}, 17.51987367000038)\n",
            "INFO flwr 2024-02-05 22:18:16,623 | server_returns_parameters.py:171 | evaluate_round 5: no clients selected, cancel\n",
            "INFO:flwr:evaluate_round 5: no clients selected, cancel\n",
            "DEBUG flwr 2024-02-05 22:18:16,629 | server_returns_parameters.py:223 | fit_round 6: strategy sampled 5 clients (out of 20)\n",
            "DEBUG:flwr:fit_round 6: strategy sampled 5 clients (out of 20)\n"
          ]
        },
        {
          "output_type": "stream",
          "name": "stdout",
          "text": [
            "cid:  2399\n",
            "cid:  1571\n",
            "cid:  1603\n",
            "cid:  3175\n",
            "cid:  2997\n"
          ]
        },
        {
          "output_type": "stream",
          "name": "stderr",
          "text": [
            "DEBUG flwr 2024-02-05 22:18:19,230 | server_returns_parameters.py:237 | fit_round 6 received 5 results and 0 failures\n",
            "DEBUG:flwr:fit_round 6 received 5 results and 0 failures\n",
            "  0%|          | 2/891 [00:00<01:38,  9.03it/s]\n",
            "INFO flwr 2024-02-05 22:18:19,515 | server_returns_parameters.py:120 | fit progress: (6, 7.450541257858276, {'accuracy': 0.15625}, 20.416830328999822)\n",
            "INFO:flwr:fit progress: (6, 7.450541257858276, {'accuracy': 0.15625}, 20.416830328999822)\n",
            "INFO flwr 2024-02-05 22:18:19,519 | server_returns_parameters.py:171 | evaluate_round 6: no clients selected, cancel\n",
            "INFO:flwr:evaluate_round 6: no clients selected, cancel\n",
            "DEBUG flwr 2024-02-05 22:18:19,525 | server_returns_parameters.py:223 | fit_round 7: strategy sampled 5 clients (out of 20)\n",
            "DEBUG:flwr:fit_round 7: strategy sampled 5 clients (out of 20)\n"
          ]
        },
        {
          "output_type": "stream",
          "name": "stdout",
          "text": [
            "cid:  3119\n",
            "cid:  2907\n",
            "cid:  839cid:  2184\n",
            "cid:  2688\n",
            "\n"
          ]
        },
        {
          "output_type": "stream",
          "name": "stderr",
          "text": [
            "DEBUG flwr 2024-02-05 22:18:22,210 | server_returns_parameters.py:237 | fit_round 7 received 5 results and 0 failures\n",
            "DEBUG:flwr:fit_round 7 received 5 results and 0 failures\n",
            "  0%|          | 2/891 [00:00<01:40,  8.87it/s]\n",
            "INFO flwr 2024-02-05 22:18:22,497 | server_returns_parameters.py:120 | fit progress: (7, 8.997098445892334, {'accuracy': 0.15625}, 23.399260109999886)\n",
            "INFO:flwr:fit progress: (7, 8.997098445892334, {'accuracy': 0.15625}, 23.399260109999886)\n",
            "INFO flwr 2024-02-05 22:18:22,502 | server_returns_parameters.py:171 | evaluate_round 7: no clients selected, cancel\n",
            "INFO:flwr:evaluate_round 7: no clients selected, cancel\n",
            "DEBUG flwr 2024-02-05 22:18:22,507 | server_returns_parameters.py:223 | fit_round 8: strategy sampled 5 clients (out of 20)\n",
            "DEBUG:flwr:fit_round 8: strategy sampled 5 clients (out of 20)\n"
          ]
        },
        {
          "output_type": "stream",
          "name": "stdout",
          "text": [
            "cid:  cid:  2184\n",
            "1260cid:  2530\n",
            "\n",
            "cid: cid:  2997\n",
            " 839\n"
          ]
        },
        {
          "output_type": "stream",
          "name": "stderr",
          "text": [
            "DEBUG flwr 2024-02-05 22:18:26,106 | server_returns_parameters.py:237 | fit_round 8 received 5 results and 0 failures\n",
            "DEBUG:flwr:fit_round 8 received 5 results and 0 failures\n",
            "  0%|          | 2/891 [00:00<02:11,  6.75it/s]\n",
            "INFO flwr 2024-02-05 22:18:26,498 | server_returns_parameters.py:120 | fit progress: (8, 6.9901604652404785, {'accuracy': 0.109375}, 27.400178218000292)\n",
            "INFO:flwr:fit progress: (8, 6.9901604652404785, {'accuracy': 0.109375}, 27.400178218000292)\n",
            "INFO flwr 2024-02-05 22:18:26,505 | server_returns_parameters.py:171 | evaluate_round 8: no clients selected, cancel\n",
            "INFO:flwr:evaluate_round 8: no clients selected, cancel\n",
            "DEBUG flwr 2024-02-05 22:18:26,508 | server_returns_parameters.py:223 | fit_round 9: strategy sampled 5 clients (out of 20)\n",
            "DEBUG:flwr:fit_round 9: strategy sampled 5 clients (out of 20)\n"
          ]
        },
        {
          "output_type": "stream",
          "name": "stdout",
          "text": [
            "cid:  1498\n",
            "cid:  1363\n",
            "cid:  2997\n",
            "cid:  1603\n",
            "cid:  1571\n"
          ]
        },
        {
          "output_type": "stream",
          "name": "stderr",
          "text": [
            "DEBUG flwr 2024-02-05 22:18:29,633 | server_returns_parameters.py:237 | fit_round 9 received 5 results and 0 failures\n",
            "DEBUG:flwr:fit_round 9 received 5 results and 0 failures\n",
            "  0%|          | 2/891 [00:00<02:45,  5.38it/s]\n",
            "INFO flwr 2024-02-05 22:18:30,102 | server_returns_parameters.py:120 | fit progress: (9, 6.976465940475464, {'accuracy': 0.15625}, 31.004088646999662)\n",
            "INFO:flwr:fit progress: (9, 6.976465940475464, {'accuracy': 0.15625}, 31.004088646999662)\n",
            "INFO flwr 2024-02-05 22:18:30,114 | server_returns_parameters.py:171 | evaluate_round 9: no clients selected, cancel\n",
            "INFO:flwr:evaluate_round 9: no clients selected, cancel\n",
            "DEBUG flwr 2024-02-05 22:18:30,118 | server_returns_parameters.py:223 | fit_round 10: strategy sampled 5 clients (out of 20)\n",
            "DEBUG:flwr:fit_round 10: strategy sampled 5 clients (out of 20)\n"
          ]
        },
        {
          "output_type": "stream",
          "name": "stdout",
          "text": [
            "cid:  2530\n",
            "cid:  1571\n",
            "cid:  1260\n",
            "cid:  678\n",
            "cid:  2184\n"
          ]
        },
        {
          "output_type": "stream",
          "name": "stderr",
          "text": [
            "DEBUG flwr 2024-02-05 22:18:33,992 | server_returns_parameters.py:237 | fit_round 10 received 5 results and 0 failures\n",
            "DEBUG:flwr:fit_round 10 received 5 results and 0 failures\n",
            "  0%|          | 2/891 [00:00<01:32,  9.65it/s]\n",
            "INFO flwr 2024-02-05 22:18:34,261 | server_returns_parameters.py:120 | fit progress: (10, 7.044086933135986, {'accuracy': 0.125}, 35.16329541400046)\n",
            "INFO:flwr:fit progress: (10, 7.044086933135986, {'accuracy': 0.125}, 35.16329541400046)\n",
            "INFO flwr 2024-02-05 22:18:34,266 | server_returns_parameters.py:171 | evaluate_round 10: no clients selected, cancel\n",
            "INFO:flwr:evaluate_round 10: no clients selected, cancel\n",
            "DEBUG flwr 2024-02-05 22:18:34,272 | server_returns_parameters.py:223 | fit_round 11: strategy sampled 5 clients (out of 20)\n",
            "DEBUG:flwr:fit_round 11: strategy sampled 5 clients (out of 20)\n"
          ]
        },
        {
          "output_type": "stream",
          "name": "stdout",
          "text": [
            "cid:  3119\n",
            "cid:  1363\n",
            "cid:  2997cid:  2399\n",
            "\n",
            "cid:  839\n"
          ]
        },
        {
          "output_type": "stream",
          "name": "stderr",
          "text": [
            "DEBUG flwr 2024-02-05 22:18:37,166 | server_returns_parameters.py:237 | fit_round 11 received 5 results and 0 failures\n",
            "DEBUG:flwr:fit_round 11 received 5 results and 0 failures\n",
            "  0%|          | 2/891 [00:00<01:38,  9.02it/s]\n",
            "INFO flwr 2024-02-05 22:18:37,448 | server_returns_parameters.py:120 | fit progress: (11, 7.062397241592407, {'accuracy': 0.15625}, 38.350159593999706)\n",
            "INFO:flwr:fit progress: (11, 7.062397241592407, {'accuracy': 0.15625}, 38.350159593999706)\n",
            "INFO flwr 2024-02-05 22:18:37,453 | server_returns_parameters.py:171 | evaluate_round 11: no clients selected, cancel\n",
            "INFO:flwr:evaluate_round 11: no clients selected, cancel\n",
            "DEBUG flwr 2024-02-05 22:18:37,457 | server_returns_parameters.py:223 | fit_round 12: strategy sampled 5 clients (out of 20)\n",
            "DEBUG:flwr:fit_round 12: strategy sampled 5 clients (out of 20)\n"
          ]
        },
        {
          "output_type": "stream",
          "name": "stdout",
          "text": [
            "cid: cid:  2855\n",
            " cid: 2184cid:  2530\n",
            " 1603\n",
            "cid:  2688\n",
            "\n"
          ]
        },
        {
          "output_type": "stream",
          "name": "stderr",
          "text": [
            "DEBUG flwr 2024-02-05 22:18:40,348 | server_returns_parameters.py:237 | fit_round 12 received 5 results and 0 failures\n",
            "DEBUG:flwr:fit_round 12 received 5 results and 0 failures\n",
            "  0%|          | 2/891 [00:00<01:38,  9.05it/s]\n",
            "INFO flwr 2024-02-05 22:18:40,651 | server_returns_parameters.py:120 | fit progress: (12, 7.056177377700806, {'accuracy': 0.15625}, 41.553498186999605)\n",
            "INFO:flwr:fit progress: (12, 7.056177377700806, {'accuracy': 0.15625}, 41.553498186999605)\n",
            "INFO flwr 2024-02-05 22:18:40,656 | server_returns_parameters.py:171 | evaluate_round 12: no clients selected, cancel\n",
            "INFO:flwr:evaluate_round 12: no clients selected, cancel\n",
            "DEBUG flwr 2024-02-05 22:18:40,660 | server_returns_parameters.py:223 | fit_round 13: strategy sampled 5 clients (out of 20)\n",
            "DEBUG:flwr:fit_round 13: strategy sampled 5 clients (out of 20)\n"
          ]
        },
        {
          "output_type": "stream",
          "name": "stdout",
          "text": [
            "cid:  3119\n",
            "cid:  2600\n",
            "cid:  1494cid:  3175\n",
            "\n",
            "cid:  839\n"
          ]
        },
        {
          "output_type": "stream",
          "name": "stderr",
          "text": [
            "DEBUG flwr 2024-02-05 22:18:43,832 | server_returns_parameters.py:237 | fit_round 13 received 5 results and 0 failures\n",
            "DEBUG:flwr:fit_round 13 received 5 results and 0 failures\n",
            "  0%|          | 2/891 [00:00<02:52,  5.14it/s]\n",
            "INFO flwr 2024-02-05 22:18:44,327 | server_returns_parameters.py:120 | fit progress: (13, 7.055317401885986, {'accuracy': 0.15625}, 45.22895854000035)\n",
            "INFO:flwr:fit progress: (13, 7.055317401885986, {'accuracy': 0.15625}, 45.22895854000035)\n",
            "INFO flwr 2024-02-05 22:18:44,334 | server_returns_parameters.py:171 | evaluate_round 13: no clients selected, cancel\n",
            "INFO:flwr:evaluate_round 13: no clients selected, cancel\n",
            "DEBUG flwr 2024-02-05 22:18:44,338 | server_returns_parameters.py:223 | fit_round 14: strategy sampled 5 clients (out of 20)\n",
            "DEBUG:flwr:fit_round 14: strategy sampled 5 clients (out of 20)\n"
          ]
        },
        {
          "output_type": "stream",
          "name": "stdout",
          "text": [
            "cid:  2907\n",
            "cid:  2338\n",
            "cid:  2184\n",
            "cid:  2399\n",
            "cid:  1571\n"
          ]
        },
        {
          "output_type": "stream",
          "name": "stderr",
          "text": [
            "DEBUG flwr 2024-02-05 22:18:47,485 | server_returns_parameters.py:237 | fit_round 14 received 5 results and 0 failures\n",
            "DEBUG:flwr:fit_round 14 received 5 results and 0 failures\n",
            "  0%|          | 2/891 [00:00<02:31,  5.85it/s]\n",
            "INFO flwr 2024-02-05 22:18:47,928 | server_returns_parameters.py:120 | fit progress: (14, 7.054625988006592, {'accuracy': 0.15625}, 48.830083595999895)\n",
            "INFO:flwr:fit progress: (14, 7.054625988006592, {'accuracy': 0.15625}, 48.830083595999895)\n",
            "INFO flwr 2024-02-05 22:18:47,933 | server_returns_parameters.py:171 | evaluate_round 14: no clients selected, cancel\n",
            "INFO:flwr:evaluate_round 14: no clients selected, cancel\n",
            "DEBUG flwr 2024-02-05 22:18:47,936 | server_returns_parameters.py:223 | fit_round 15: strategy sampled 5 clients (out of 20)\n",
            "DEBUG:flwr:fit_round 15: strategy sampled 5 clients (out of 20)\n"
          ]
        },
        {
          "output_type": "stream",
          "name": "stdout",
          "text": [
            "cid:  2907\n",
            "cid:  2997\n",
            "cid:  1603\n",
            "cid:  3175\n",
            "cid:  2184\n"
          ]
        },
        {
          "output_type": "stream",
          "name": "stderr",
          "text": [
            "DEBUG flwr 2024-02-05 22:18:50,722 | server_returns_parameters.py:237 | fit_round 15 received 5 results and 0 failures\n",
            "DEBUG:flwr:fit_round 15 received 5 results and 0 failures\n",
            "  0%|          | 2/891 [00:00<01:44,  8.52it/s]\n",
            "INFO flwr 2024-02-05 22:18:51,020 | server_returns_parameters.py:120 | fit progress: (15, 7.064279079437256, {'accuracy': 0.15625}, 51.92180896300033)\n",
            "INFO:flwr:fit progress: (15, 7.064279079437256, {'accuracy': 0.15625}, 51.92180896300033)\n",
            "INFO flwr 2024-02-05 22:18:51,025 | server_returns_parameters.py:171 | evaluate_round 15: no clients selected, cancel\n",
            "INFO:flwr:evaluate_round 15: no clients selected, cancel\n",
            "DEBUG flwr 2024-02-05 22:18:51,030 | server_returns_parameters.py:223 | fit_round 16: strategy sampled 5 clients (out of 20)\n",
            "DEBUG:flwr:fit_round 16: strategy sampled 5 clients (out of 20)\n"
          ]
        },
        {
          "output_type": "stream",
          "name": "stdout",
          "text": [
            "cid: cid:  2338\n",
            " 3119\n",
            "cid:  1260\n",
            "cid:  2600\n",
            "cid:  2184\n"
          ]
        },
        {
          "output_type": "stream",
          "name": "stderr",
          "text": [
            "DEBUG flwr 2024-02-05 22:18:54,289 | server_returns_parameters.py:237 | fit_round 16 received 5 results and 0 failures\n",
            "DEBUG:flwr:fit_round 16 received 5 results and 0 failures\n",
            "  0%|          | 2/891 [00:00<01:35,  9.26it/s]\n",
            "INFO flwr 2024-02-05 22:18:54,567 | server_returns_parameters.py:120 | fit progress: (16, 7.07485556602478, {'accuracy': 0.15625}, 55.46947611900032)\n",
            "INFO:flwr:fit progress: (16, 7.07485556602478, {'accuracy': 0.15625}, 55.46947611900032)\n",
            "INFO flwr 2024-02-05 22:18:54,575 | server_returns_parameters.py:171 | evaluate_round 16: no clients selected, cancel\n",
            "INFO:flwr:evaluate_round 16: no clients selected, cancel\n",
            "DEBUG flwr 2024-02-05 22:18:54,579 | server_returns_parameters.py:223 | fit_round 17: strategy sampled 5 clients (out of 20)\n",
            "DEBUG:flwr:fit_round 17: strategy sampled 5 clients (out of 20)\n"
          ]
        },
        {
          "output_type": "stream",
          "name": "stdout",
          "text": [
            "cid:  1260\n",
            "cid:  1363\n",
            "cid:  2338\n",
            "cid: cid:  1603 2184\n",
            "\n"
          ]
        },
        {
          "output_type": "stream",
          "name": "stderr",
          "text": [
            "DEBUG flwr 2024-02-05 22:18:57,594 | server_returns_parameters.py:237 | fit_round 17 received 5 results and 0 failures\n",
            "DEBUG:flwr:fit_round 17 received 5 results and 0 failures\n",
            "  0%|          | 2/891 [00:00<01:33,  9.49it/s]\n",
            "INFO flwr 2024-02-05 22:18:57,867 | server_returns_parameters.py:120 | fit progress: (17, 7.084195137023926, {'accuracy': 0.15625}, 58.76867702199979)\n",
            "INFO:flwr:fit progress: (17, 7.084195137023926, {'accuracy': 0.15625}, 58.76867702199979)\n",
            "INFO flwr 2024-02-05 22:18:57,871 | server_returns_parameters.py:171 | evaluate_round 17: no clients selected, cancel\n",
            "INFO:flwr:evaluate_round 17: no clients selected, cancel\n",
            "DEBUG flwr 2024-02-05 22:18:57,875 | server_returns_parameters.py:223 | fit_round 18: strategy sampled 5 clients (out of 20)\n",
            "DEBUG:flwr:fit_round 18: strategy sampled 5 clients (out of 20)\n"
          ]
        },
        {
          "output_type": "stream",
          "name": "stdout",
          "text": [
            "cid:  2600\n",
            "cid:  1473\n",
            "cid:  2907\n",
            "cid:  cid:  2997\n",
            "1494\n"
          ]
        },
        {
          "output_type": "stream",
          "name": "stderr",
          "text": [
            "DEBUG flwr 2024-02-05 22:19:01,033 | server_returns_parameters.py:237 | fit_round 18 received 5 results and 0 failures\n",
            "DEBUG:flwr:fit_round 18 received 5 results and 0 failures\n",
            "  0%|          | 2/891 [00:00<02:38,  5.60it/s]\n",
            "INFO flwr 2024-02-05 22:19:01,495 | server_returns_parameters.py:120 | fit progress: (18, 7.124906063079834, {'accuracy': 0.15625}, 62.39744268499999)\n",
            "INFO:flwr:fit progress: (18, 7.124906063079834, {'accuracy': 0.15625}, 62.39744268499999)\n",
            "INFO flwr 2024-02-05 22:19:01,499 | server_returns_parameters.py:171 | evaluate_round 18: no clients selected, cancel\n",
            "INFO:flwr:evaluate_round 18: no clients selected, cancel\n",
            "DEBUG flwr 2024-02-05 22:19:01,505 | server_returns_parameters.py:223 | fit_round 19: strategy sampled 5 clients (out of 20)\n",
            "DEBUG:flwr:fit_round 19: strategy sampled 5 clients (out of 20)\n"
          ]
        },
        {
          "output_type": "stream",
          "name": "stdout",
          "text": [
            "cid:  1494\n",
            "cid:  3175\n",
            "cid:  2997\n",
            "cid:  3119\n",
            "cid:  2338\n"
          ]
        },
        {
          "output_type": "stream",
          "name": "stderr",
          "text": [
            "DEBUG flwr 2024-02-05 22:19:04,762 | server_returns_parameters.py:237 | fit_round 19 received 5 results and 0 failures\n",
            "DEBUG:flwr:fit_round 19 received 5 results and 0 failures\n",
            "  0%|          | 2/891 [00:00<02:16,  6.51it/s]\n",
            "INFO flwr 2024-02-05 22:19:05,162 | server_returns_parameters.py:120 | fit progress: (19, 7.184474945068359, {'accuracy': 0.15625}, 66.06381664000037)\n",
            "INFO:flwr:fit progress: (19, 7.184474945068359, {'accuracy': 0.15625}, 66.06381664000037)\n",
            "INFO flwr 2024-02-05 22:19:05,168 | server_returns_parameters.py:171 | evaluate_round 19: no clients selected, cancel\n",
            "INFO:flwr:evaluate_round 19: no clients selected, cancel\n",
            "DEBUG flwr 2024-02-05 22:19:05,175 | server_returns_parameters.py:223 | fit_round 20: strategy sampled 5 clients (out of 20)\n",
            "DEBUG:flwr:fit_round 20: strategy sampled 5 clients (out of 20)\n"
          ]
        },
        {
          "output_type": "stream",
          "name": "stdout",
          "text": [
            "cid: cid:  1473\n",
            " 2855\n",
            "cid: cid:  3175\n",
            " 1260\n",
            "cid:  2399\n"
          ]
        },
        {
          "output_type": "stream",
          "name": "stderr",
          "text": [
            "DEBUG flwr 2024-02-05 22:19:08,270 | server_returns_parameters.py:237 | fit_round 20 received 5 results and 0 failures\n",
            "DEBUG:flwr:fit_round 20 received 5 results and 0 failures\n",
            "  0%|          | 2/891 [00:00<01:34,  9.40it/s]\n",
            "INFO flwr 2024-02-05 22:19:08,548 | server_returns_parameters.py:120 | fit progress: (20, 7.2647364139556885, {'accuracy': 0.15625}, 69.44984380000005)\n",
            "INFO:flwr:fit progress: (20, 7.2647364139556885, {'accuracy': 0.15625}, 69.44984380000005)\n",
            "INFO flwr 2024-02-05 22:19:08,554 | server_returns_parameters.py:171 | evaluate_round 20: no clients selected, cancel\n",
            "INFO:flwr:evaluate_round 20: no clients selected, cancel\n",
            "DEBUG flwr 2024-02-05 22:19:08,558 | server_returns_parameters.py:223 | fit_round 21: strategy sampled 5 clients (out of 20)\n",
            "DEBUG:flwr:fit_round 21: strategy sampled 5 clients (out of 20)\n"
          ]
        },
        {
          "output_type": "stream",
          "name": "stdout",
          "text": [
            "cid:  678\n",
            "cid:  1571\n",
            "cid:  1473\n",
            "cid:  2997\n",
            "cid:  1260\n"
          ]
        },
        {
          "output_type": "stream",
          "name": "stderr",
          "text": [
            "DEBUG flwr 2024-02-05 22:19:12,034 | server_returns_parameters.py:237 | fit_round 21 received 5 results and 0 failures\n",
            "DEBUG:flwr:fit_round 21 received 5 results and 0 failures\n",
            "  0%|          | 2/891 [00:00<01:36,  9.17it/s]\n",
            "INFO flwr 2024-02-05 22:19:12,313 | server_returns_parameters.py:120 | fit progress: (21, 7.378005743026733, {'accuracy': 0.15625}, 73.21511965700029)\n",
            "INFO:flwr:fit progress: (21, 7.378005743026733, {'accuracy': 0.15625}, 73.21511965700029)\n",
            "INFO flwr 2024-02-05 22:19:12,317 | server_returns_parameters.py:171 | evaluate_round 21: no clients selected, cancel\n",
            "INFO:flwr:evaluate_round 21: no clients selected, cancel\n",
            "DEBUG flwr 2024-02-05 22:19:12,324 | server_returns_parameters.py:223 | fit_round 22: strategy sampled 5 clients (out of 20)\n",
            "DEBUG:flwr:fit_round 22: strategy sampled 5 clients (out of 20)\n"
          ]
        },
        {
          "output_type": "stream",
          "name": "stdout",
          "text": [
            "cid: cid:  2855\n",
            " 2399\n",
            "cid:  1571\n",
            "cid:  2184\n",
            "cid:  2530\n"
          ]
        },
        {
          "output_type": "stream",
          "name": "stderr",
          "text": [
            "DEBUG flwr 2024-02-05 22:19:15,319 | server_returns_parameters.py:237 | fit_round 22 received 5 results and 0 failures\n",
            "DEBUG:flwr:fit_round 22 received 5 results and 0 failures\n",
            "  0%|          | 2/891 [00:00<02:19,  6.37it/s]\n",
            "INFO flwr 2024-02-05 22:19:15,725 | server_returns_parameters.py:120 | fit progress: (22, 7.447445869445801, {'accuracy': 0.15625}, 76.62717875599992)\n",
            "INFO:flwr:fit progress: (22, 7.447445869445801, {'accuracy': 0.15625}, 76.62717875599992)\n",
            "INFO flwr 2024-02-05 22:19:15,738 | server_returns_parameters.py:171 | evaluate_round 22: no clients selected, cancel\n",
            "INFO:flwr:evaluate_round 22: no clients selected, cancel\n",
            "DEBUG flwr 2024-02-05 22:19:15,742 | server_returns_parameters.py:223 | fit_round 23: strategy sampled 5 clients (out of 20)\n",
            "DEBUG:flwr:fit_round 23: strategy sampled 5 clients (out of 20)\n"
          ]
        },
        {
          "output_type": "stream",
          "name": "stdout",
          "text": [
            "cid:  3119\n",
            "cid:  2997\n",
            "cid:  1260\n",
            "cid:  1363\n",
            "cid:  1571\n"
          ]
        },
        {
          "output_type": "stream",
          "name": "stderr",
          "text": [
            "DEBUG flwr 2024-02-05 22:19:19,622 | server_returns_parameters.py:237 | fit_round 23 received 5 results and 0 failures\n",
            "DEBUG:flwr:fit_round 23 received 5 results and 0 failures\n",
            "  0%|          | 2/891 [00:00<03:12,  4.63it/s]\n",
            "INFO flwr 2024-02-05 22:19:20,154 | server_returns_parameters.py:120 | fit progress: (23, 7.522339344024658, {'accuracy': 0.15625}, 81.05641042200023)\n",
            "INFO:flwr:fit progress: (23, 7.522339344024658, {'accuracy': 0.15625}, 81.05641042200023)\n",
            "INFO flwr 2024-02-05 22:19:20,163 | server_returns_parameters.py:171 | evaluate_round 23: no clients selected, cancel\n",
            "INFO:flwr:evaluate_round 23: no clients selected, cancel\n",
            "DEBUG flwr 2024-02-05 22:19:20,166 | server_returns_parameters.py:223 | fit_round 24: strategy sampled 5 clients (out of 20)\n",
            "DEBUG:flwr:fit_round 24: strategy sampled 5 clients (out of 20)\n"
          ]
        },
        {
          "output_type": "stream",
          "name": "stdout",
          "text": [
            "cid:  1473\n",
            "cid:  2600\n",
            "cid:  678\n",
            "cid:  1363\n",
            "cid:  1603\n"
          ]
        },
        {
          "output_type": "stream",
          "name": "stderr",
          "text": [
            "DEBUG flwr 2024-02-05 22:19:23,126 | server_returns_parameters.py:237 | fit_round 24 received 5 results and 0 failures\n",
            "DEBUG:flwr:fit_round 24 received 5 results and 0 failures\n",
            "  0%|          | 2/891 [00:00<01:43,  8.62it/s]\n",
            "INFO flwr 2024-02-05 22:19:23,422 | server_returns_parameters.py:120 | fit progress: (24, 7.519196271896362, {'accuracy': 0.15625}, 84.32437077699979)\n",
            "INFO:flwr:fit progress: (24, 7.519196271896362, {'accuracy': 0.15625}, 84.32437077699979)\n",
            "INFO flwr 2024-02-05 22:19:23,427 | server_returns_parameters.py:171 | evaluate_round 24: no clients selected, cancel\n",
            "INFO:flwr:evaluate_round 24: no clients selected, cancel\n",
            "DEBUG flwr 2024-02-05 22:19:23,431 | server_returns_parameters.py:223 | fit_round 25: strategy sampled 5 clients (out of 20)\n",
            "DEBUG:flwr:fit_round 25: strategy sampled 5 clients (out of 20)\n"
          ]
        },
        {
          "output_type": "stream",
          "name": "stdout",
          "text": [
            "cid:  2688\n",
            "cid:  1473\n",
            "cid:  1494\n",
            "cid:  2338\n",
            "cid:  3175\n"
          ]
        },
        {
          "output_type": "stream",
          "name": "stderr",
          "text": [
            "DEBUG flwr 2024-02-05 22:19:25,956 | server_returns_parameters.py:237 | fit_round 25 received 5 results and 0 failures\n",
            "DEBUG:flwr:fit_round 25 received 5 results and 0 failures\n",
            "  0%|          | 2/891 [00:00<01:29,  9.93it/s]\n",
            "INFO flwr 2024-02-05 22:19:26,218 | server_returns_parameters.py:120 | fit progress: (25, 7.449842929840088, {'accuracy': 0.140625}, 87.11989896999967)\n",
            "INFO:flwr:fit progress: (25, 7.449842929840088, {'accuracy': 0.140625}, 87.11989896999967)\n",
            "INFO flwr 2024-02-05 22:19:26,223 | server_returns_parameters.py:171 | evaluate_round 25: no clients selected, cancel\n",
            "INFO:flwr:evaluate_round 25: no clients selected, cancel\n",
            "DEBUG flwr 2024-02-05 22:19:26,227 | server_returns_parameters.py:223 | fit_round 26: strategy sampled 5 clients (out of 20)\n",
            "DEBUG:flwr:fit_round 26: strategy sampled 5 clients (out of 20)\n"
          ]
        },
        {
          "output_type": "stream",
          "name": "stdout",
          "text": [
            "cid:  678\n",
            "cid:  1473\n",
            "cid: cid:  cid:  2530\n",
            " 1603\n",
            "2907\n"
          ]
        },
        {
          "output_type": "stream",
          "name": "stderr",
          "text": [
            "DEBUG flwr 2024-02-05 22:19:29,354 | server_returns_parameters.py:237 | fit_round 26 received 5 results and 0 failures\n",
            "DEBUG:flwr:fit_round 26 received 5 results and 0 failures\n",
            "  0%|          | 2/891 [00:00<01:42,  8.71it/s]\n",
            "INFO flwr 2024-02-05 22:19:29,657 | server_returns_parameters.py:120 | fit progress: (26, 7.369282484054565, {'accuracy': 0.125}, 90.55948627399994)\n",
            "INFO:flwr:fit progress: (26, 7.369282484054565, {'accuracy': 0.125}, 90.55948627399994)\n",
            "INFO flwr 2024-02-05 22:19:29,664 | server_returns_parameters.py:171 | evaluate_round 26: no clients selected, cancel\n",
            "INFO:flwr:evaluate_round 26: no clients selected, cancel\n",
            "DEBUG flwr 2024-02-05 22:19:29,668 | server_returns_parameters.py:223 | fit_round 27: strategy sampled 5 clients (out of 20)\n",
            "DEBUG:flwr:fit_round 27: strategy sampled 5 clients (out of 20)\n"
          ]
        },
        {
          "output_type": "stream",
          "name": "stdout",
          "text": [
            "cid:  1571\n",
            "cid:  2907\n",
            "cid:  3175\n",
            "cid:  2855\n",
            "cid:  1473\n"
          ]
        },
        {
          "output_type": "stream",
          "name": "stderr",
          "text": [
            "DEBUG flwr 2024-02-05 22:19:32,405 | server_returns_parameters.py:237 | fit_round 27 received 5 results and 0 failures\n",
            "DEBUG:flwr:fit_round 27 received 5 results and 0 failures\n",
            "  0%|          | 2/891 [00:00<02:34,  5.75it/s]\n",
            "INFO flwr 2024-02-05 22:19:32,855 | server_returns_parameters.py:120 | fit progress: (27, 7.31310248374939, {'accuracy': 0.125}, 93.75741873199968)\n",
            "INFO:flwr:fit progress: (27, 7.31310248374939, {'accuracy': 0.125}, 93.75741873199968)\n",
            "INFO flwr 2024-02-05 22:19:32,859 | server_returns_parameters.py:171 | evaluate_round 27: no clients selected, cancel\n",
            "INFO:flwr:evaluate_round 27: no clients selected, cancel\n",
            "DEBUG flwr 2024-02-05 22:19:32,864 | server_returns_parameters.py:223 | fit_round 28: strategy sampled 5 clients (out of 20)\n",
            "DEBUG:flwr:fit_round 28: strategy sampled 5 clients (out of 20)\n"
          ]
        },
        {
          "output_type": "stream",
          "name": "stdout",
          "text": [
            "cid:  2338\n",
            "cid:  2184\n",
            "cid:  839\n",
            "cid:  1473\n",
            "cid:  2997\n"
          ]
        },
        {
          "output_type": "stream",
          "name": "stderr",
          "text": [
            "DEBUG flwr 2024-02-05 22:19:35,988 | server_returns_parameters.py:237 | fit_round 28 received 5 results and 0 failures\n",
            "DEBUG:flwr:fit_round 28 received 5 results and 0 failures\n",
            "  0%|          | 2/891 [00:00<02:46,  5.32it/s]\n",
            "INFO flwr 2024-02-05 22:19:36,460 | server_returns_parameters.py:120 | fit progress: (28, 7.300127267837524, {'accuracy': 0.125}, 97.36181946000033)\n",
            "INFO:flwr:fit progress: (28, 7.300127267837524, {'accuracy': 0.125}, 97.36181946000033)\n",
            "INFO flwr 2024-02-05 22:19:36,468 | server_returns_parameters.py:171 | evaluate_round 28: no clients selected, cancel\n",
            "INFO:flwr:evaluate_round 28: no clients selected, cancel\n",
            "DEBUG flwr 2024-02-05 22:19:36,475 | server_returns_parameters.py:223 | fit_round 29: strategy sampled 5 clients (out of 20)\n",
            "DEBUG:flwr:fit_round 29: strategy sampled 5 clients (out of 20)\n"
          ]
        },
        {
          "output_type": "stream",
          "name": "stdout",
          "text": [
            "cid:  1603\n",
            "cid:  1498\n",
            "cid:  678\n",
            "cid:  1363cid:  2184\n",
            "\n"
          ]
        },
        {
          "output_type": "stream",
          "name": "stderr",
          "text": [
            "DEBUG flwr 2024-02-05 22:19:39,584 | server_returns_parameters.py:237 | fit_round 29 received 5 results and 0 failures\n",
            "DEBUG:flwr:fit_round 29 received 5 results and 0 failures\n",
            "  0%|          | 2/891 [00:00<01:40,  8.88it/s]\n",
            "INFO flwr 2024-02-05 22:19:39,879 | server_returns_parameters.py:120 | fit progress: (29, 7.304819822311401, {'accuracy': 0.109375}, 100.78123172699998)\n",
            "INFO:flwr:fit progress: (29, 7.304819822311401, {'accuracy': 0.109375}, 100.78123172699998)\n",
            "INFO flwr 2024-02-05 22:19:39,886 | server_returns_parameters.py:171 | evaluate_round 29: no clients selected, cancel\n",
            "INFO:flwr:evaluate_round 29: no clients selected, cancel\n",
            "DEBUG flwr 2024-02-05 22:19:39,894 | server_returns_parameters.py:223 | fit_round 30: strategy sampled 5 clients (out of 20)\n",
            "DEBUG:flwr:fit_round 30: strategy sampled 5 clients (out of 20)\n"
          ]
        },
        {
          "output_type": "stream",
          "name": "stdout",
          "text": [
            "cid: cid:  2997\n",
            "cid: cid:   2855\n",
            " 2600\n",
            "1571\n",
            "cid:  3175\n"
          ]
        },
        {
          "output_type": "stream",
          "name": "stderr",
          "text": [
            "DEBUG flwr 2024-02-05 22:19:43,032 | server_returns_parameters.py:237 | fit_round 30 received 5 results and 0 failures\n",
            "DEBUG:flwr:fit_round 30 received 5 results and 0 failures\n",
            "  0%|          | 2/891 [00:00<01:37,  9.12it/s]\n",
            "INFO flwr 2024-02-05 22:19:43,316 | server_returns_parameters.py:120 | fit progress: (30, 7.351237773895264, {'accuracy': 0.109375}, 104.2178949019999)\n",
            "INFO:flwr:fit progress: (30, 7.351237773895264, {'accuracy': 0.109375}, 104.2178949019999)\n",
            "INFO flwr 2024-02-05 22:19:43,321 | server_returns_parameters.py:171 | evaluate_round 30: no clients selected, cancel\n",
            "INFO:flwr:evaluate_round 30: no clients selected, cancel\n",
            "DEBUG flwr 2024-02-05 22:19:43,326 | server_returns_parameters.py:223 | fit_round 31: strategy sampled 5 clients (out of 20)\n",
            "DEBUG:flwr:fit_round 31: strategy sampled 5 clients (out of 20)\n"
          ]
        },
        {
          "output_type": "stream",
          "name": "stdout",
          "text": [
            "cid: cid:  1498\n",
            " 2688\n",
            "cid:  2338\n",
            "cid:  839\n",
            "cid:  2184\n"
          ]
        },
        {
          "output_type": "stream",
          "name": "stderr",
          "text": [
            "DEBUG flwr 2024-02-05 22:19:46,105 | server_returns_parameters.py:237 | fit_round 31 received 5 results and 0 failures\n",
            "DEBUG:flwr:fit_round 31 received 5 results and 0 failures\n",
            "  0%|          | 2/891 [00:00<01:39,  8.98it/s]\n",
            "INFO flwr 2024-02-05 22:19:46,390 | server_returns_parameters.py:120 | fit progress: (31, 7.405157089233398, {'accuracy': 0.15625}, 107.29166389300008)\n",
            "INFO:flwr:fit progress: (31, 7.405157089233398, {'accuracy': 0.15625}, 107.29166389300008)\n",
            "INFO flwr 2024-02-05 22:19:46,394 | server_returns_parameters.py:171 | evaluate_round 31: no clients selected, cancel\n",
            "INFO:flwr:evaluate_round 31: no clients selected, cancel\n",
            "DEBUG flwr 2024-02-05 22:19:46,399 | server_returns_parameters.py:223 | fit_round 32: strategy sampled 5 clients (out of 20)\n",
            "DEBUG:flwr:fit_round 32: strategy sampled 5 clients (out of 20)\n"
          ]
        },
        {
          "output_type": "stream",
          "name": "stdout",
          "text": [
            "cid:  3119\n",
            "cid:  2855\n",
            "cid:  1363\n",
            "cid:  2530\n",
            "cid:  2338\n"
          ]
        },
        {
          "output_type": "stream",
          "name": "stderr",
          "text": [
            "DEBUG flwr 2024-02-05 22:19:49,511 | server_returns_parameters.py:237 | fit_round 32 received 5 results and 0 failures\n",
            "DEBUG:flwr:fit_round 32 received 5 results and 0 failures\n",
            "  0%|          | 2/891 [00:00<02:28,  5.97it/s]\n",
            "INFO flwr 2024-02-05 22:19:49,960 | server_returns_parameters.py:120 | fit progress: (32, 7.461976051330566, {'accuracy': 0.03125}, 110.86224007199962)\n",
            "INFO:flwr:fit progress: (32, 7.461976051330566, {'accuracy': 0.03125}, 110.86224007199962)\n",
            "INFO flwr 2024-02-05 22:19:49,964 | server_returns_parameters.py:171 | evaluate_round 32: no clients selected, cancel\n",
            "INFO:flwr:evaluate_round 32: no clients selected, cancel\n",
            "DEBUG flwr 2024-02-05 22:19:49,968 | server_returns_parameters.py:223 | fit_round 33: strategy sampled 5 clients (out of 20)\n",
            "DEBUG:flwr:fit_round 33: strategy sampled 5 clients (out of 20)\n"
          ]
        },
        {
          "output_type": "stream",
          "name": "stdout",
          "text": [
            "cid: cid:  1603\n",
            "cid:  2907\n",
            " 2338\n",
            "cid:  2855\n",
            "cid:  2688\n"
          ]
        },
        {
          "output_type": "stream",
          "name": "stderr",
          "text": [
            "DEBUG flwr 2024-02-05 22:19:53,091 | server_returns_parameters.py:237 | fit_round 33 received 5 results and 0 failures\n",
            "DEBUG:flwr:fit_round 33 received 5 results and 0 failures\n",
            "  0%|          | 2/891 [00:00<02:38,  5.62it/s]\n",
            "INFO flwr 2024-02-05 22:19:53,544 | server_returns_parameters.py:120 | fit progress: (33, 7.497720003128052, {'accuracy': 0.03125}, 114.44655619399964)\n",
            "INFO:flwr:fit progress: (33, 7.497720003128052, {'accuracy': 0.03125}, 114.44655619399964)\n",
            "INFO flwr 2024-02-05 22:19:53,553 | server_returns_parameters.py:171 | evaluate_round 33: no clients selected, cancel\n",
            "INFO:flwr:evaluate_round 33: no clients selected, cancel\n",
            "DEBUG flwr 2024-02-05 22:19:53,559 | server_returns_parameters.py:223 | fit_round 34: strategy sampled 5 clients (out of 20)\n",
            "DEBUG:flwr:fit_round 34: strategy sampled 5 clients (out of 20)\n"
          ]
        },
        {
          "output_type": "stream",
          "name": "stdout",
          "text": [
            "cid: cid:  2399\n",
            " 2530\n",
            "cid:  2997\n",
            "cid:  2688\n",
            "cid:  678\n"
          ]
        },
        {
          "output_type": "stream",
          "name": "stderr",
          "text": [
            "DEBUG flwr 2024-02-05 22:19:56,965 | server_returns_parameters.py:237 | fit_round 34 received 5 results and 0 failures\n",
            "DEBUG:flwr:fit_round 34 received 5 results and 0 failures\n",
            "  0%|          | 2/891 [00:00<01:31,  9.74it/s]\n",
            "INFO flwr 2024-02-05 22:19:57,232 | server_returns_parameters.py:120 | fit progress: (34, 7.485979318618774, {'accuracy': 0.15625}, 118.13362426000003)\n",
            "INFO:flwr:fit progress: (34, 7.485979318618774, {'accuracy': 0.15625}, 118.13362426000003)\n",
            "INFO flwr 2024-02-05 22:19:57,235 | server_returns_parameters.py:171 | evaluate_round 34: no clients selected, cancel\n",
            "INFO:flwr:evaluate_round 34: no clients selected, cancel\n",
            "DEBUG flwr 2024-02-05 22:19:57,240 | server_returns_parameters.py:223 | fit_round 35: strategy sampled 5 clients (out of 20)\n",
            "DEBUG:flwr:fit_round 35: strategy sampled 5 clients (out of 20)\n"
          ]
        },
        {
          "output_type": "stream",
          "name": "stdout",
          "text": [
            "cid:  678\n",
            "cid:  2184\n",
            "cid:  1603cid:  3119\n",
            "\n",
            "cid:  1473\n"
          ]
        },
        {
          "output_type": "stream",
          "name": "stderr",
          "text": [
            "DEBUG flwr 2024-02-05 22:19:59,832 | server_returns_parameters.py:237 | fit_round 35 received 5 results and 0 failures\n",
            "DEBUG:flwr:fit_round 35 received 5 results and 0 failures\n",
            "  0%|          | 2/891 [00:00<01:33,  9.46it/s]\n",
            "INFO flwr 2024-02-05 22:20:00,106 | server_returns_parameters.py:120 | fit progress: (35, 7.4138219356536865, {'accuracy': 0.15625}, 121.00809592299993)\n",
            "INFO:flwr:fit progress: (35, 7.4138219356536865, {'accuracy': 0.15625}, 121.00809592299993)\n",
            "INFO flwr 2024-02-05 22:20:00,111 | server_returns_parameters.py:171 | evaluate_round 35: no clients selected, cancel\n",
            "INFO:flwr:evaluate_round 35: no clients selected, cancel\n",
            "DEBUG flwr 2024-02-05 22:20:00,115 | server_returns_parameters.py:223 | fit_round 36: strategy sampled 5 clients (out of 20)\n",
            "DEBUG:flwr:fit_round 36: strategy sampled 5 clients (out of 20)\n"
          ]
        },
        {
          "output_type": "stream",
          "name": "stdout",
          "text": [
            "cid: cid:  1571 1363\n",
            "cid:  2530\n",
            "\n",
            "cid:  1260\n",
            "cid:  2600\n"
          ]
        },
        {
          "output_type": "stream",
          "name": "stderr",
          "text": [
            "DEBUG flwr 2024-02-05 22:20:03,472 | server_returns_parameters.py:237 | fit_round 36 received 5 results and 0 failures\n",
            "DEBUG:flwr:fit_round 36 received 5 results and 0 failures\n",
            "  0%|          | 2/891 [00:00<01:42,  8.70it/s]\n",
            "INFO flwr 2024-02-05 22:20:03,764 | server_returns_parameters.py:120 | fit progress: (36, 7.357208013534546, {'accuracy': 0.15625}, 124.66633664399978)\n",
            "INFO:flwr:fit progress: (36, 7.357208013534546, {'accuracy': 0.15625}, 124.66633664399978)\n",
            "INFO flwr 2024-02-05 22:20:03,768 | server_returns_parameters.py:171 | evaluate_round 36: no clients selected, cancel\n",
            "INFO:flwr:evaluate_round 36: no clients selected, cancel\n",
            "DEBUG flwr 2024-02-05 22:20:03,774 | server_returns_parameters.py:223 | fit_round 37: strategy sampled 5 clients (out of 20)\n",
            "DEBUG:flwr:fit_round 37: strategy sampled 5 clients (out of 20)\n"
          ]
        },
        {
          "output_type": "stream",
          "name": "stdout",
          "text": [
            "cid:  1498\n",
            "cid:  2399\n",
            "cid:  2907\n",
            "cid:  cid:  1363\n",
            "2530\n"
          ]
        },
        {
          "output_type": "stream",
          "name": "stderr",
          "text": [
            "DEBUG flwr 2024-02-05 22:20:06,843 | server_returns_parameters.py:237 | fit_round 37 received 5 results and 0 failures\n",
            "DEBUG:flwr:fit_round 37 received 5 results and 0 failures\n",
            "  0%|          | 2/891 [00:00<02:41,  5.51it/s]\n",
            "INFO flwr 2024-02-05 22:20:07,310 | server_returns_parameters.py:120 | fit progress: (37, 7.330561637878418, {'accuracy': 0.15625}, 128.21237122799994)\n",
            "INFO:flwr:fit progress: (37, 7.330561637878418, {'accuracy': 0.15625}, 128.21237122799994)\n",
            "INFO flwr 2024-02-05 22:20:07,318 | server_returns_parameters.py:171 | evaluate_round 37: no clients selected, cancel\n",
            "INFO:flwr:evaluate_round 37: no clients selected, cancel\n",
            "DEBUG flwr 2024-02-05 22:20:07,324 | server_returns_parameters.py:223 | fit_round 38: strategy sampled 5 clients (out of 20)\n",
            "DEBUG:flwr:fit_round 38: strategy sampled 5 clients (out of 20)\n"
          ]
        },
        {
          "output_type": "stream",
          "name": "stdout",
          "text": [
            "cid: cid:  2399\n",
            "cid:  1494\n",
            " 2997\n",
            "cid:  1498\n",
            "cid:  2907\n"
          ]
        },
        {
          "output_type": "stream",
          "name": "stderr",
          "text": [
            "DEBUG flwr 2024-02-05 22:20:10,546 | server_returns_parameters.py:237 | fit_round 38 received 5 results and 0 failures\n",
            "DEBUG:flwr:fit_round 38 received 5 results and 0 failures\n",
            "  0%|          | 2/891 [00:00<02:50,  5.23it/s]\n",
            "INFO flwr 2024-02-05 22:20:11,027 | server_returns_parameters.py:120 | fit progress: (38, 7.3145012855529785, {'accuracy': 0.15625}, 131.9287915040004)\n",
            "INFO:flwr:fit progress: (38, 7.3145012855529785, {'accuracy': 0.15625}, 131.9287915040004)\n",
            "INFO flwr 2024-02-05 22:20:11,036 | server_returns_parameters.py:171 | evaluate_round 38: no clients selected, cancel\n",
            "INFO:flwr:evaluate_round 38: no clients selected, cancel\n",
            "DEBUG flwr 2024-02-05 22:20:11,043 | server_returns_parameters.py:223 | fit_round 39: strategy sampled 5 clients (out of 20)\n",
            "DEBUG:flwr:fit_round 39: strategy sampled 5 clients (out of 20)\n"
          ]
        },
        {
          "output_type": "stream",
          "name": "stdout",
          "text": [
            "cid:  2399\n",
            "cid:  3119\n",
            "cid:  1473cid:  678\n",
            "\n",
            "cid:  2184\n"
          ]
        },
        {
          "output_type": "stream",
          "name": "stderr",
          "text": [
            "DEBUG flwr 2024-02-05 22:20:13,888 | server_returns_parameters.py:237 | fit_round 39 received 5 results and 0 failures\n",
            "DEBUG:flwr:fit_round 39 received 5 results and 0 failures\n",
            "  0%|          | 2/891 [00:00<01:37,  9.16it/s]\n",
            "INFO flwr 2024-02-05 22:20:14,167 | server_returns_parameters.py:120 | fit progress: (39, 7.300514221191406, {'accuracy': 0.109375}, 135.06891871300013)\n",
            "INFO:flwr:fit progress: (39, 7.300514221191406, {'accuracy': 0.109375}, 135.06891871300013)\n",
            "INFO flwr 2024-02-05 22:20:14,170 | server_returns_parameters.py:171 | evaluate_round 39: no clients selected, cancel\n",
            "INFO:flwr:evaluate_round 39: no clients selected, cancel\n",
            "DEBUG flwr 2024-02-05 22:20:14,181 | server_returns_parameters.py:223 | fit_round 40: strategy sampled 5 clients (out of 20)\n",
            "DEBUG:flwr:fit_round 40: strategy sampled 5 clients (out of 20)\n"
          ]
        },
        {
          "output_type": "stream",
          "name": "stdout",
          "text": [
            "cid:  1260\n",
            "cid:  678\n",
            "cid:  1494\n",
            "cid:  1571\n",
            "cid:  1603\n"
          ]
        },
        {
          "output_type": "stream",
          "name": "stderr",
          "text": [
            "DEBUG flwr 2024-02-05 22:20:17,443 | server_returns_parameters.py:237 | fit_round 40 received 5 results and 0 failures\n",
            "DEBUG:flwr:fit_round 40 received 5 results and 0 failures\n",
            "  0%|          | 2/891 [00:00<01:27, 10.17it/s]\n",
            "INFO flwr 2024-02-05 22:20:17,701 | server_returns_parameters.py:120 | fit progress: (40, 7.321386337280273, {'accuracy': 0.109375}, 138.60305231799975)\n",
            "INFO:flwr:fit progress: (40, 7.321386337280273, {'accuracy': 0.109375}, 138.60305231799975)\n",
            "INFO flwr 2024-02-05 22:20:17,708 | server_returns_parameters.py:171 | evaluate_round 40: no clients selected, cancel\n",
            "INFO:flwr:evaluate_round 40: no clients selected, cancel\n",
            "DEBUG flwr 2024-02-05 22:20:17,712 | server_returns_parameters.py:223 | fit_round 41: strategy sampled 5 clients (out of 20)\n",
            "DEBUG:flwr:fit_round 41: strategy sampled 5 clients (out of 20)\n"
          ]
        },
        {
          "output_type": "stream",
          "name": "stdout",
          "text": [
            "cid: cid:  2997\n",
            "cid:  2907\n",
            " 2855\n",
            "cid:  3119\n",
            "cid:  839\n"
          ]
        },
        {
          "output_type": "stream",
          "name": "stderr",
          "text": [
            "DEBUG flwr 2024-02-05 22:20:20,621 | server_returns_parameters.py:237 | fit_round 41 received 5 results and 0 failures\n",
            "DEBUG:flwr:fit_round 41 received 5 results and 0 failures\n",
            "  0%|          | 2/891 [00:00<01:37,  9.14it/s]\n",
            "INFO flwr 2024-02-05 22:20:20,902 | server_returns_parameters.py:120 | fit progress: (41, 7.354931354522705, {'accuracy': 0.109375}, 141.8043033670001)\n",
            "INFO:flwr:fit progress: (41, 7.354931354522705, {'accuracy': 0.109375}, 141.8043033670001)\n",
            "INFO flwr 2024-02-05 22:20:20,907 | server_returns_parameters.py:171 | evaluate_round 41: no clients selected, cancel\n",
            "INFO:flwr:evaluate_round 41: no clients selected, cancel\n",
            "DEBUG flwr 2024-02-05 22:20:20,911 | server_returns_parameters.py:223 | fit_round 42: strategy sampled 5 clients (out of 20)\n",
            "DEBUG:flwr:fit_round 42: strategy sampled 5 clients (out of 20)\n"
          ]
        },
        {
          "output_type": "stream",
          "name": "stdout",
          "text": [
            "cid:  2338\n",
            "cid:  2600\n",
            "cid:  3175\n",
            "cid:  cid: 1473\n",
            " 2530\n"
          ]
        },
        {
          "output_type": "stream",
          "name": "stderr",
          "text": [
            "DEBUG flwr 2024-02-05 22:20:24,026 | server_returns_parameters.py:237 | fit_round 42 received 5 results and 0 failures\n",
            "DEBUG:flwr:fit_round 42 received 5 results and 0 failures\n",
            "  0%|          | 2/891 [00:00<02:55,  5.07it/s]\n",
            "INFO flwr 2024-02-05 22:20:24,518 | server_returns_parameters.py:120 | fit progress: (42, 7.359016180038452, {'accuracy': 0.15625}, 145.42055024399997)\n",
            "INFO:flwr:fit progress: (42, 7.359016180038452, {'accuracy': 0.15625}, 145.42055024399997)\n",
            "INFO flwr 2024-02-05 22:20:24,523 | server_returns_parameters.py:171 | evaluate_round 42: no clients selected, cancel\n",
            "INFO:flwr:evaluate_round 42: no clients selected, cancel\n",
            "DEBUG flwr 2024-02-05 22:20:24,527 | server_returns_parameters.py:223 | fit_round 43: strategy sampled 5 clients (out of 20)\n",
            "DEBUG:flwr:fit_round 43: strategy sampled 5 clients (out of 20)\n"
          ]
        },
        {
          "output_type": "stream",
          "name": "stdout",
          "text": [
            "cid: cid:  678\n",
            " 2530\n",
            "cid:  2184\n",
            "cid:  1498\n",
            "cid:  1473\n"
          ]
        },
        {
          "output_type": "stream",
          "name": "stderr",
          "text": [
            "DEBUG flwr 2024-02-05 22:20:27,951 | server_returns_parameters.py:237 | fit_round 43 received 5 results and 0 failures\n",
            "DEBUG:flwr:fit_round 43 received 5 results and 0 failures\n",
            "  0%|          | 2/891 [00:00<01:41,  8.74it/s]\n",
            "INFO flwr 2024-02-05 22:20:28,242 | server_returns_parameters.py:120 | fit progress: (43, 7.3571343421936035, {'accuracy': 0.15625}, 149.14370740400045)\n",
            "INFO:flwr:fit progress: (43, 7.3571343421936035, {'accuracy': 0.15625}, 149.14370740400045)\n",
            "INFO flwr 2024-02-05 22:20:28,246 | server_returns_parameters.py:171 | evaluate_round 43: no clients selected, cancel\n",
            "INFO:flwr:evaluate_round 43: no clients selected, cancel\n",
            "DEBUG flwr 2024-02-05 22:20:28,250 | server_returns_parameters.py:223 | fit_round 44: strategy sampled 5 clients (out of 20)\n",
            "DEBUG:flwr:fit_round 44: strategy sampled 5 clients (out of 20)\n"
          ]
        },
        {
          "output_type": "stream",
          "name": "stdout",
          "text": [
            "cid: cid:  839\n",
            "cid:  3119\n",
            " 3175\n",
            "cid:  1363\n",
            "cid:  2338\n"
          ]
        },
        {
          "output_type": "stream",
          "name": "stderr",
          "text": [
            "DEBUG flwr 2024-02-05 22:20:30,986 | server_returns_parameters.py:237 | fit_round 44 received 5 results and 0 failures\n",
            "DEBUG:flwr:fit_round 44 received 5 results and 0 failures\n",
            "  0%|          | 2/891 [00:00<01:33,  9.54it/s]\n",
            "INFO flwr 2024-02-05 22:20:31,255 | server_returns_parameters.py:120 | fit progress: (44, 7.359975576400757, {'accuracy': 0.15625}, 152.15749808799956)\n",
            "INFO:flwr:fit progress: (44, 7.359975576400757, {'accuracy': 0.15625}, 152.15749808799956)\n",
            "INFO flwr 2024-02-05 22:20:31,259 | server_returns_parameters.py:171 | evaluate_round 44: no clients selected, cancel\n",
            "INFO:flwr:evaluate_round 44: no clients selected, cancel\n",
            "DEBUG flwr 2024-02-05 22:20:31,263 | server_returns_parameters.py:223 | fit_round 45: strategy sampled 5 clients (out of 20)\n",
            "DEBUG:flwr:fit_round 45: strategy sampled 5 clients (out of 20)\n"
          ]
        },
        {
          "output_type": "stream",
          "name": "stdout",
          "text": [
            "cid:  2530\n",
            "cid:  1260\n",
            "cid:  1363\n",
            "cid:  2855\n",
            "cid:  2600\n"
          ]
        },
        {
          "output_type": "stream",
          "name": "stderr",
          "text": [
            "DEBUG flwr 2024-02-05 22:20:34,771 | server_returns_parameters.py:237 | fit_round 45 received 5 results and 0 failures\n",
            "DEBUG:flwr:fit_round 45 received 5 results and 0 failures\n",
            "  0%|          | 2/891 [00:00<01:42,  8.69it/s]\n",
            "INFO flwr 2024-02-05 22:20:35,065 | server_returns_parameters.py:120 | fit progress: (45, 7.401403188705444, {'accuracy': 0.0}, 155.9672402059996)\n",
            "INFO:flwr:fit progress: (45, 7.401403188705444, {'accuracy': 0.0}, 155.9672402059996)\n",
            "INFO flwr 2024-02-05 22:20:35,070 | server_returns_parameters.py:171 | evaluate_round 45: no clients selected, cancel\n",
            "INFO:flwr:evaluate_round 45: no clients selected, cancel\n",
            "DEBUG flwr 2024-02-05 22:20:35,075 | server_returns_parameters.py:223 | fit_round 46: strategy sampled 5 clients (out of 20)\n",
            "DEBUG:flwr:fit_round 46: strategy sampled 5 clients (out of 20)\n"
          ]
        },
        {
          "output_type": "stream",
          "name": "stdout",
          "text": [
            "cid: cid:  1571\n",
            "cid:  2530\n",
            " 2184\n",
            "cid:  1494\n",
            "cid:  2907\n"
          ]
        },
        {
          "output_type": "stream",
          "name": "stderr",
          "text": [
            "DEBUG flwr 2024-02-05 22:20:37,893 | server_returns_parameters.py:237 | fit_round 46 received 5 results and 0 failures\n",
            "DEBUG:flwr:fit_round 46 received 5 results and 0 failures\n",
            "  0%|          | 2/891 [00:00<02:34,  5.76it/s]\n",
            "INFO flwr 2024-02-05 22:20:38,341 | server_returns_parameters.py:120 | fit progress: (46, 7.422321557998657, {'accuracy': 0.0}, 159.24288972700015)\n",
            "INFO:flwr:fit progress: (46, 7.422321557998657, {'accuracy': 0.0}, 159.24288972700015)\n",
            "INFO flwr 2024-02-05 22:20:38,347 | server_returns_parameters.py:171 | evaluate_round 46: no clients selected, cancel\n",
            "INFO:flwr:evaluate_round 46: no clients selected, cancel\n",
            "DEBUG flwr 2024-02-05 22:20:38,352 | server_returns_parameters.py:223 | fit_round 47: strategy sampled 5 clients (out of 20)\n",
            "DEBUG:flwr:fit_round 47: strategy sampled 5 clients (out of 20)\n"
          ]
        },
        {
          "output_type": "stream",
          "name": "stdout",
          "text": [
            "cid:  2184\n",
            "cid:  2600\n",
            "cid:  1260cid:  3119\n",
            "\n",
            "cid:  1473\n"
          ]
        },
        {
          "output_type": "stream",
          "name": "stderr",
          "text": [
            "DEBUG flwr 2024-02-05 22:20:42,038 | server_returns_parameters.py:237 | fit_round 47 received 5 results and 0 failures\n",
            "DEBUG:flwr:fit_round 47 received 5 results and 0 failures\n",
            "  0%|          | 2/891 [00:00<02:35,  5.73it/s]\n",
            "INFO flwr 2024-02-05 22:20:42,487 | server_returns_parameters.py:120 | fit progress: (47, 7.440547943115234, {'accuracy': 0.0}, 163.38933567799995)\n",
            "INFO:flwr:fit progress: (47, 7.440547943115234, {'accuracy': 0.0}, 163.38933567799995)\n",
            "INFO flwr 2024-02-05 22:20:42,492 | server_returns_parameters.py:171 | evaluate_round 47: no clients selected, cancel\n",
            "INFO:flwr:evaluate_round 47: no clients selected, cancel\n",
            "DEBUG flwr 2024-02-05 22:20:42,496 | server_returns_parameters.py:223 | fit_round 48: strategy sampled 5 clients (out of 20)\n",
            "DEBUG:flwr:fit_round 48: strategy sampled 5 clients (out of 20)\n"
          ]
        },
        {
          "output_type": "stream",
          "name": "stdout",
          "text": [
            "cid: cid:  2855\n",
            "cid:  2530\n",
            "cid:  2399\n",
            " 1494\n",
            "cid:  2688\n"
          ]
        },
        {
          "output_type": "stream",
          "name": "stderr",
          "text": [
            "DEBUG flwr 2024-02-05 22:20:45,725 | server_returns_parameters.py:237 | fit_round 48 received 5 results and 0 failures\n",
            "DEBUG:flwr:fit_round 48 received 5 results and 0 failures\n",
            "  0%|          | 2/891 [00:00<01:40,  8.86it/s]\n",
            "INFO flwr 2024-02-05 22:20:46,012 | server_returns_parameters.py:120 | fit progress: (48, 7.4406726360321045, {'accuracy': 0.15625}, 166.91384489499978)\n",
            "INFO:flwr:fit progress: (48, 7.4406726360321045, {'accuracy': 0.15625}, 166.91384489499978)\n",
            "INFO flwr 2024-02-05 22:20:46,016 | server_returns_parameters.py:171 | evaluate_round 48: no clients selected, cancel\n",
            "INFO:flwr:evaluate_round 48: no clients selected, cancel\n",
            "DEBUG flwr 2024-02-05 22:20:46,020 | server_returns_parameters.py:223 | fit_round 49: strategy sampled 5 clients (out of 20)\n",
            "DEBUG:flwr:fit_round 49: strategy sampled 5 clients (out of 20)\n"
          ]
        },
        {
          "output_type": "stream",
          "name": "stdout",
          "text": [
            "cid:  2997\n",
            "cid:  2907cid:  1260\n",
            "\n",
            "cid: cid:  1494\n",
            " 2688\n"
          ]
        },
        {
          "output_type": "stream",
          "name": "stderr",
          "text": [
            "DEBUG flwr 2024-02-05 22:20:49,176 | server_returns_parameters.py:237 | fit_round 49 received 5 results and 0 failures\n",
            "DEBUG:flwr:fit_round 49 received 5 results and 0 failures\n",
            "  0%|          | 2/891 [00:00<01:40,  8.86it/s]\n",
            "INFO flwr 2024-02-05 22:20:49,465 | server_returns_parameters.py:120 | fit progress: (49, 7.450540542602539, {'accuracy': 0.15625}, 170.36743644499984)\n",
            "INFO:flwr:fit progress: (49, 7.450540542602539, {'accuracy': 0.15625}, 170.36743644499984)\n",
            "INFO flwr 2024-02-05 22:20:49,470 | server_returns_parameters.py:171 | evaluate_round 49: no clients selected, cancel\n",
            "INFO:flwr:evaluate_round 49: no clients selected, cancel\n",
            "DEBUG flwr 2024-02-05 22:20:49,474 | server_returns_parameters.py:223 | fit_round 50: strategy sampled 5 clients (out of 20)\n",
            "DEBUG:flwr:fit_round 50: strategy sampled 5 clients (out of 20)\n"
          ]
        },
        {
          "output_type": "stream",
          "name": "stdout",
          "text": [
            "cid: cid:  839\n",
            " 3119\n",
            "cid:  2399\n",
            "cid:  1260\n",
            "cid:  678\n"
          ]
        },
        {
          "output_type": "stream",
          "name": "stderr",
          "text": [
            "DEBUG flwr 2024-02-05 22:20:52,732 | server_returns_parameters.py:237 | fit_round 50 received 5 results and 0 failures\n",
            "DEBUG:flwr:fit_round 50 received 5 results and 0 failures\n",
            "  0%|          | 2/891 [00:00<01:35,  9.35it/s]\n",
            "INFO flwr 2024-02-05 22:20:53,008 | server_returns_parameters.py:120 | fit progress: (50, 7.46614408493042, {'accuracy': 0.15625}, 173.9103461779996)\n",
            "INFO:flwr:fit progress: (50, 7.46614408493042, {'accuracy': 0.15625}, 173.9103461779996)\n",
            "INFO flwr 2024-02-05 22:20:53,014 | server_returns_parameters.py:171 | evaluate_round 50: no clients selected, cancel\n",
            "INFO:flwr:evaluate_round 50: no clients selected, cancel\n",
            "INFO flwr 2024-02-05 22:20:53,018 | server_returns_parameters.py:150 | FL finished in 173.91994404700017\n",
            "INFO:flwr:FL finished in 173.91994404700017\n",
            "INFO flwr 2024-02-05 22:20:53,020 | app.py:250 | app_fit: losses_distributed []\n",
            "INFO:flwr:app_fit: losses_distributed []\n",
            "INFO flwr 2024-02-05 22:20:53,023 | app.py:251 | app_fit: metrics_distributed_fit {'train_loss': [(1, {'avg': 0.10544694711764653, 'all': [(4, 0.10789515823125839), (4, 0.1050900686532259), (5, 0.10772394686937332), (4, 0.10289588198065758), (4, 0.10306042991578579)]}), (2, {'avg': 0.10426413835514159, 'all': [(4, 0.1013964544981718), (3, 0.10836636523405711), (5, 0.10575585663318635), (4, 0.10327124781906605), (5, 0.10339954346418381)]}), (3, {'avg': 0.1065377105648319, 'all': [(8, 0.11476288642734289), (4, 0.10439904034137726), (3, 0.10462748507658641), (4, 0.09644160233438015), (5, 0.10431138724088669)]}), (4, {'avg': 0.10527147389948369, 'all': [(5, 0.10453135520219803), (3, 0.10567420721054077), (4, 0.10495198890566826), (4, 0.10953500680625439), (4, 0.10195052437484264)]}), (5, {'avg': 0.10754542797803879, 'all': [(4, 0.1021820679306984), (5, 0.10450197607278824), (3, 0.10561733941237132), (5, 0.10778336971998215), (6, 0.11442297076185544)]}), (6, {'avg': 0.10335385240614414, 'all': [(4, 0.10456014052033424), (5, 0.10388617515563965), (4, 0.1009362991899252), (4, 0.1039072535932064), (3, 0.10334379971027374)]}), (7, {'avg': 0.10527972914278508, 'all': [(4, 0.10565575957298279), (4, 0.10900168865919113), (4, 0.10418851673603058), (4, 0.10553349554538727), (4, 0.1020191852003336)]}), (8, {'avg': 0.10939189132589561, 'all': [(8, 0.11599655821919441), (5, 0.10376270562410354), (4, 0.10491625592112541), (4, 0.10896167531609535), (5, 0.10837829113006592)]}), (9, {'avg': 0.10353629402816296, 'all': [(4, 0.10309058427810669), (3, 0.10404839863379796), (4, 0.10303807631134987), (5, 0.10411319881677628), (4, 0.1033750120550394)]}), (10, {'avg': 0.11010499933251629, 'all': [(6, 0.11492264767487843), (4, 0.10495247505605221), (4, 0.1003951895982027), (8, 0.11557347048074007), (5, 0.10746413469314575)]}), (11, {'avg': 0.10536460259131022, 'all': [(4, 0.10481610707938671), (4, 0.10476908273994923), (4, 0.10919794254004955), (5, 0.10422996729612351), (4, 0.10409357212483883)]}), (12, {'avg': 0.10747614396469933, 'all': [(5, 0.10722045302391052), (5, 0.10851164013147355), (4, 0.10748824663460255), (4, 0.10812416858971119), (3, 0.1052962988615036)]}), (13, {'avg': 0.10659977580819811, 'all': [(4, 0.10441873781383038), (4, 0.1095894630998373), (5, 0.10663397312164306), (4, 0.10729373246431351), (4, 0.10505442321300507)]}), (14, {'avg': 0.10679520592093468, 'all': [(4, 0.10656878724694252), (4, 0.10455567948520184), (4, 0.1102436613291502), (4, 0.10537967272102833), (4, 0.1072282288223505)]}), (15, {'avg': 0.10539738833904266, 'all': [(4, 0.10726605355739594), (5, 0.10441612303256989), (4, 0.10744096338748932), (3, 0.10599788775046666), (4, 0.10226135514676571)]}), (16, {'avg': 0.11316211402416229, 'all': [(4, 0.10475560836493969), (4, 0.10675349831581116), (8, 0.12852792907506227), (5, 0.10724380761384963), (4, 0.10464348830282688)]}), (17, {'avg': 0.11322162721468054, 'all': [(8, 0.12858643382787704), (3, 0.10800646245479584), (4, 0.10623797960579395), (4, 0.10111245326697826), (4, 0.10549620911478996)]}), (18, {'avg': 0.10814066976308823, 'all': [(3, 0.1123357539375623), (4, 0.10830849036574364), (4, 0.10751715302467346), (5, 0.10825625509023666), (5, 0.10587259083986282)]}), (19, {'avg': 0.10676903206677664, 'all': [(4, 0.10702221095561981), (4, 0.10640500299632549), (5, 0.10541210323572159), (4, 0.10611467994749546), (4, 0.1092303954064846)]}), (20, {'avg': 0.1138090705499053, 'all': [(4, 0.106519078835845), (3, 0.11087761571009953), (8, 0.12560471426695585), (5, 0.1101672261953354), (4, 0.10425867140293121)]}), (21, {'avg': 0.11670582082409126, 'all': [(3, 0.11294938872257869), (6, 0.12390200917919476), (4, 0.10619667358696461), (8, 0.12438393663614988), (5, 0.10644658654928207)]}), (22, {'avg': 0.10967756164344875, 'all': [(5, 0.11134485900402069), (4, 0.10814605094492435), (4, 0.10677827894687653), (4, 0.1079585887491703), (5, 0.11293007731437683)]}), (23, {'avg': 0.11142008602619172, 'all': [(4, 0.10352680273354053), (4, 0.10830209590494633), (5, 0.10786741077899933), (8, 0.12021146900951862), (4, 0.10928943753242493)]}), (24, {'avg': 0.11429899966432935, 'all': [(4, 0.10971553064882755), (3, 0.11220153172810872), (3, 0.11037739117940266), (6, 0.12352559467156728), (5, 0.11050530672073364)]}), (25, {'avg': 0.11188962820329164, 'all': [(4, 0.11789287813007832), (4, 0.11154107376933098), (4, 0.11140474118292332), (3, 0.11329786479473114), (4, 0.10566364228725433)]}), (26, {'avg': 0.11509850905055091, 'all': [(3, 0.11081381638844807), (5, 0.114631986618042), (3, 0.11205293238162994), (4, 0.11175869777798653), (6, 0.12137895325819652)]}), (27, {'avg': 0.11097855828702449, 'all': [(3, 0.11320003867149353), (4, 0.11110650189220905), (5, 0.11259103566408157), (4, 0.10962883569300175), (4, 0.10851863026618958)]}), (28, {'avg': 0.10995611622929573, 'all': [(4, 0.10992452315986156), (4, 0.11142516136169434), (4, 0.11111703515052795), (3, 0.10946263372898102), (5, 0.10817350894212723)]}), (29, {'avg': 0.11209382861852646, 'all': [(4, 0.10826058872044086), (4, 0.10452659241855145), (4, 0.1059505082666874), (3, 0.11082112540801366), (6, 0.12442604452371597)]}), (30, {'avg': 0.1094043031334877, 'all': [(5, 0.11246217638254166), (4, 0.10714064724743366), (5, 0.10795034617185592), (4, 0.10710090585052967), (5, 0.11145402938127517)]}), (31, {'avg': 0.10971013233065605, 'all': [(4, 0.10590250417590141), (4, 0.10626912862062454), (4, 0.10856992565095425), (4, 0.11568086594343185), (4, 0.1121282372623682)]}), (32, {'avg': 0.11023906923153183, 'all': [(4, 0.10436103492975235), (5, 0.11604155898094178), (5, 0.11275923103094102), (4, 0.10896663926541805), (4, 0.10698621906340122)]}), (33, {'avg': 0.11177316531538964, 'all': [(3, 0.11168389767408371), (4, 0.1111829075962305), (4, 0.10958188958466053), (4, 0.11335264518857002), (5, 0.11278836876153946)]}), (34, {'avg': 0.11731808787832658, 'all': [(5, 0.10760495364665985), (4, 0.11673901602625847), (4, 0.11148609593510628), (6, 0.13119257986545563), (5, 0.11551068276166916)]}), (35, {'avg': 0.11671520061790944, 'all': [(4, 0.10929214954376221), (6, 0.13107435529430708), (3, 0.11325931300719579), (3, 0.11118591328461964), (4, 0.10933840088546276)]}), (36, {'avg': 0.11758293383396588, 'all': [(4, 0.10596751794219017), (5, 0.11109532415866852), (4, 0.10762969404459), (5, 0.11452579945325851), (8, 0.13433272670954466)]}), (37, {'avg': 0.10823217247213636, 'all': [(4, 0.10619607008993626), (4, 0.10553169995546341), (5, 0.11244131475687028), (4, 0.10572096332907677), (4, 0.11021852865815163)]}), (38, {'avg': 0.10787416817176909, 'all': [(4, 0.10755657590925694), (5, 0.10746773779392242), (4, 0.10892934910953045), (4, 0.10947575606405735), (4, 0.10604302957654)]}), (39, {'avg': 0.11457372031041554, 'all': [(4, 0.10974015481770039), (6, 0.126116202523311), (3, 0.11522941042979558), (4, 0.1076554674655199), (4, 0.10852004773914814)]}), (40, {'avg': 0.11902753680944443, 'all': [(3, 0.10910851260026296), (6, 0.12585142875711122), (8, 0.12778820283710957), (4, 0.11060292646288872), (4, 0.10713424533605576)]}), (41, {'avg': 0.1106072345917875, 'all': [(5, 0.108578859269619), (5, 0.11258945167064667), (4, 0.10930248349905014), (4, 0.10840430669486523), (4, 0.11417261138558388)]}), (42, {'avg': 0.11223041514555614, 'all': [(5, 0.11196179687976837), (3, 0.11368899295727412), (5, 0.11451269686222076), (4, 0.1107326801866293), (4, 0.11011713743209839)]}), (43, {'avg': 0.11345447633754123, 'all': [(4, 0.10710025019943714), (6, 0.12024747456113498), (5, 0.11441904902458191), (3, 0.11490111301342647), (4, 0.10732851177453995)]}), (44, {'avg': 0.11080885156989098, 'all': [(4, 0.10869232937693596), (4, 0.10959280095994473), (4, 0.11287390068173409), (4, 0.11459163017570972), (4, 0.10829359665513039)]}), (45, {'avg': 0.11483425784994054, 'all': [(4, 0.1074246447533369), (8, 0.12368703633546829), (5, 0.11411028802394867), (5, 0.11043609976768494), (5, 0.11171963065862656)]}), (46, {'avg': 0.1095697432756424, 'all': [(4, 0.10748543590307236), (4, 0.1076714526861906), (4, 0.1108111422508955), (4, 0.1067847665399313), (5, 0.11399068385362625)]}), (47, {'avg': 0.11331662132094304, 'all': [(8, 0.12325221672654152), (3, 0.10811734199523926), (4, 0.10821997001767159), (5, 0.11073886454105378), (4, 0.10566373728215694)]}), (48, {'avg': 0.11199876564470204, 'all': [(5, 0.11344533562660217), (5, 0.11168768405914306), (4, 0.11577020026743412), (4, 0.10890328884124756), (4, 0.10990344732999802)]}), (49, {'avg': 0.11535628646612167, 'all': [(5, 0.10828034430742264), (4, 0.11052610166370869), (4, 0.10836205258965492), (4, 0.11457863636314869), (8, 0.12607978470623493)]}), (50, {'avg': 0.11870695994450496, 'all': [(6, 0.12773500755429268), (4, 0.1081268060952425), (8, 0.12427166476845741), (4, 0.11488974094390869), (4, 0.10843285173177719)]})]}\n",
            "INFO:flwr:app_fit: metrics_distributed_fit {'train_loss': [(1, {'avg': 0.10544694711764653, 'all': [(4, 0.10789515823125839), (4, 0.1050900686532259), (5, 0.10772394686937332), (4, 0.10289588198065758), (4, 0.10306042991578579)]}), (2, {'avg': 0.10426413835514159, 'all': [(4, 0.1013964544981718), (3, 0.10836636523405711), (5, 0.10575585663318635), (4, 0.10327124781906605), (5, 0.10339954346418381)]}), (3, {'avg': 0.1065377105648319, 'all': [(8, 0.11476288642734289), (4, 0.10439904034137726), (3, 0.10462748507658641), (4, 0.09644160233438015), (5, 0.10431138724088669)]}), (4, {'avg': 0.10527147389948369, 'all': [(5, 0.10453135520219803), (3, 0.10567420721054077), (4, 0.10495198890566826), (4, 0.10953500680625439), (4, 0.10195052437484264)]}), (5, {'avg': 0.10754542797803879, 'all': [(4, 0.1021820679306984), (5, 0.10450197607278824), (3, 0.10561733941237132), (5, 0.10778336971998215), (6, 0.11442297076185544)]}), (6, {'avg': 0.10335385240614414, 'all': [(4, 0.10456014052033424), (5, 0.10388617515563965), (4, 0.1009362991899252), (4, 0.1039072535932064), (3, 0.10334379971027374)]}), (7, {'avg': 0.10527972914278508, 'all': [(4, 0.10565575957298279), (4, 0.10900168865919113), (4, 0.10418851673603058), (4, 0.10553349554538727), (4, 0.1020191852003336)]}), (8, {'avg': 0.10939189132589561, 'all': [(8, 0.11599655821919441), (5, 0.10376270562410354), (4, 0.10491625592112541), (4, 0.10896167531609535), (5, 0.10837829113006592)]}), (9, {'avg': 0.10353629402816296, 'all': [(4, 0.10309058427810669), (3, 0.10404839863379796), (4, 0.10303807631134987), (5, 0.10411319881677628), (4, 0.1033750120550394)]}), (10, {'avg': 0.11010499933251629, 'all': [(6, 0.11492264767487843), (4, 0.10495247505605221), (4, 0.1003951895982027), (8, 0.11557347048074007), (5, 0.10746413469314575)]}), (11, {'avg': 0.10536460259131022, 'all': [(4, 0.10481610707938671), (4, 0.10476908273994923), (4, 0.10919794254004955), (5, 0.10422996729612351), (4, 0.10409357212483883)]}), (12, {'avg': 0.10747614396469933, 'all': [(5, 0.10722045302391052), (5, 0.10851164013147355), (4, 0.10748824663460255), (4, 0.10812416858971119), (3, 0.1052962988615036)]}), (13, {'avg': 0.10659977580819811, 'all': [(4, 0.10441873781383038), (4, 0.1095894630998373), (5, 0.10663397312164306), (4, 0.10729373246431351), (4, 0.10505442321300507)]}), (14, {'avg': 0.10679520592093468, 'all': [(4, 0.10656878724694252), (4, 0.10455567948520184), (4, 0.1102436613291502), (4, 0.10537967272102833), (4, 0.1072282288223505)]}), (15, {'avg': 0.10539738833904266, 'all': [(4, 0.10726605355739594), (5, 0.10441612303256989), (4, 0.10744096338748932), (3, 0.10599788775046666), (4, 0.10226135514676571)]}), (16, {'avg': 0.11316211402416229, 'all': [(4, 0.10475560836493969), (4, 0.10675349831581116), (8, 0.12852792907506227), (5, 0.10724380761384963), (4, 0.10464348830282688)]}), (17, {'avg': 0.11322162721468054, 'all': [(8, 0.12858643382787704), (3, 0.10800646245479584), (4, 0.10623797960579395), (4, 0.10111245326697826), (4, 0.10549620911478996)]}), (18, {'avg': 0.10814066976308823, 'all': [(3, 0.1123357539375623), (4, 0.10830849036574364), (4, 0.10751715302467346), (5, 0.10825625509023666), (5, 0.10587259083986282)]}), (19, {'avg': 0.10676903206677664, 'all': [(4, 0.10702221095561981), (4, 0.10640500299632549), (5, 0.10541210323572159), (4, 0.10611467994749546), (4, 0.1092303954064846)]}), (20, {'avg': 0.1138090705499053, 'all': [(4, 0.106519078835845), (3, 0.11087761571009953), (8, 0.12560471426695585), (5, 0.1101672261953354), (4, 0.10425867140293121)]}), (21, {'avg': 0.11670582082409126, 'all': [(3, 0.11294938872257869), (6, 0.12390200917919476), (4, 0.10619667358696461), (8, 0.12438393663614988), (5, 0.10644658654928207)]}), (22, {'avg': 0.10967756164344875, 'all': [(5, 0.11134485900402069), (4, 0.10814605094492435), (4, 0.10677827894687653), (4, 0.1079585887491703), (5, 0.11293007731437683)]}), (23, {'avg': 0.11142008602619172, 'all': [(4, 0.10352680273354053), (4, 0.10830209590494633), (5, 0.10786741077899933), (8, 0.12021146900951862), (4, 0.10928943753242493)]}), (24, {'avg': 0.11429899966432935, 'all': [(4, 0.10971553064882755), (3, 0.11220153172810872), (3, 0.11037739117940266), (6, 0.12352559467156728), (5, 0.11050530672073364)]}), (25, {'avg': 0.11188962820329164, 'all': [(4, 0.11789287813007832), (4, 0.11154107376933098), (4, 0.11140474118292332), (3, 0.11329786479473114), (4, 0.10566364228725433)]}), (26, {'avg': 0.11509850905055091, 'all': [(3, 0.11081381638844807), (5, 0.114631986618042), (3, 0.11205293238162994), (4, 0.11175869777798653), (6, 0.12137895325819652)]}), (27, {'avg': 0.11097855828702449, 'all': [(3, 0.11320003867149353), (4, 0.11110650189220905), (5, 0.11259103566408157), (4, 0.10962883569300175), (4, 0.10851863026618958)]}), (28, {'avg': 0.10995611622929573, 'all': [(4, 0.10992452315986156), (4, 0.11142516136169434), (4, 0.11111703515052795), (3, 0.10946263372898102), (5, 0.10817350894212723)]}), (29, {'avg': 0.11209382861852646, 'all': [(4, 0.10826058872044086), (4, 0.10452659241855145), (4, 0.1059505082666874), (3, 0.11082112540801366), (6, 0.12442604452371597)]}), (30, {'avg': 0.1094043031334877, 'all': [(5, 0.11246217638254166), (4, 0.10714064724743366), (5, 0.10795034617185592), (4, 0.10710090585052967), (5, 0.11145402938127517)]}), (31, {'avg': 0.10971013233065605, 'all': [(4, 0.10590250417590141), (4, 0.10626912862062454), (4, 0.10856992565095425), (4, 0.11568086594343185), (4, 0.1121282372623682)]}), (32, {'avg': 0.11023906923153183, 'all': [(4, 0.10436103492975235), (5, 0.11604155898094178), (5, 0.11275923103094102), (4, 0.10896663926541805), (4, 0.10698621906340122)]}), (33, {'avg': 0.11177316531538964, 'all': [(3, 0.11168389767408371), (4, 0.1111829075962305), (4, 0.10958188958466053), (4, 0.11335264518857002), (5, 0.11278836876153946)]}), (34, {'avg': 0.11731808787832658, 'all': [(5, 0.10760495364665985), (4, 0.11673901602625847), (4, 0.11148609593510628), (6, 0.13119257986545563), (5, 0.11551068276166916)]}), (35, {'avg': 0.11671520061790944, 'all': [(4, 0.10929214954376221), (6, 0.13107435529430708), (3, 0.11325931300719579), (3, 0.11118591328461964), (4, 0.10933840088546276)]}), (36, {'avg': 0.11758293383396588, 'all': [(4, 0.10596751794219017), (5, 0.11109532415866852), (4, 0.10762969404459), (5, 0.11452579945325851), (8, 0.13433272670954466)]}), (37, {'avg': 0.10823217247213636, 'all': [(4, 0.10619607008993626), (4, 0.10553169995546341), (5, 0.11244131475687028), (4, 0.10572096332907677), (4, 0.11021852865815163)]}), (38, {'avg': 0.10787416817176909, 'all': [(4, 0.10755657590925694), (5, 0.10746773779392242), (4, 0.10892934910953045), (4, 0.10947575606405735), (4, 0.10604302957654)]}), (39, {'avg': 0.11457372031041554, 'all': [(4, 0.10974015481770039), (6, 0.126116202523311), (3, 0.11522941042979558), (4, 0.1076554674655199), (4, 0.10852004773914814)]}), (40, {'avg': 0.11902753680944443, 'all': [(3, 0.10910851260026296), (6, 0.12585142875711122), (8, 0.12778820283710957), (4, 0.11060292646288872), (4, 0.10713424533605576)]}), (41, {'avg': 0.1106072345917875, 'all': [(5, 0.108578859269619), (5, 0.11258945167064667), (4, 0.10930248349905014), (4, 0.10840430669486523), (4, 0.11417261138558388)]}), (42, {'avg': 0.11223041514555614, 'all': [(5, 0.11196179687976837), (3, 0.11368899295727412), (5, 0.11451269686222076), (4, 0.1107326801866293), (4, 0.11011713743209839)]}), (43, {'avg': 0.11345447633754123, 'all': [(4, 0.10710025019943714), (6, 0.12024747456113498), (5, 0.11441904902458191), (3, 0.11490111301342647), (4, 0.10732851177453995)]}), (44, {'avg': 0.11080885156989098, 'all': [(4, 0.10869232937693596), (4, 0.10959280095994473), (4, 0.11287390068173409), (4, 0.11459163017570972), (4, 0.10829359665513039)]}), (45, {'avg': 0.11483425784994054, 'all': [(4, 0.1074246447533369), (8, 0.12368703633546829), (5, 0.11411028802394867), (5, 0.11043609976768494), (5, 0.11171963065862656)]}), (46, {'avg': 0.1095697432756424, 'all': [(4, 0.10748543590307236), (4, 0.1076714526861906), (4, 0.1108111422508955), (4, 0.1067847665399313), (5, 0.11399068385362625)]}), (47, {'avg': 0.11331662132094304, 'all': [(8, 0.12325221672654152), (3, 0.10811734199523926), (4, 0.10821997001767159), (5, 0.11073886454105378), (4, 0.10566373728215694)]}), (48, {'avg': 0.11199876564470204, 'all': [(5, 0.11344533562660217), (5, 0.11168768405914306), (4, 0.11577020026743412), (4, 0.10890328884124756), (4, 0.10990344732999802)]}), (49, {'avg': 0.11535628646612167, 'all': [(5, 0.10828034430742264), (4, 0.11052610166370869), (4, 0.10836205258965492), (4, 0.11457863636314869), (8, 0.12607978470623493)]}), (50, {'avg': 0.11870695994450496, 'all': [(6, 0.12773500755429268), (4, 0.1081268060952425), (8, 0.12427166476845741), (4, 0.11488974094390869), (4, 0.10843285173177719)]})]}\n",
            "INFO flwr 2024-02-05 22:20:53,026 | app.py:252 | app_fit: metrics_distributed {}\n",
            "INFO:flwr:app_fit: metrics_distributed {}\n",
            "INFO flwr 2024-02-05 22:20:53,028 | app.py:253 | app_fit: losses_centralized [(0, 8.255605220794678), (1, 7.236951589584351), (2, 10.775766372680664), (3, 7.589574813842773), (4, 7.729309558868408), (5, 7.0978004932403564), (6, 7.450541257858276), (7, 8.997098445892334), (8, 6.9901604652404785), (9, 6.976465940475464), (10, 7.044086933135986), (11, 7.062397241592407), (12, 7.056177377700806), (13, 7.055317401885986), (14, 7.054625988006592), (15, 7.064279079437256), (16, 7.07485556602478), (17, 7.084195137023926), (18, 7.124906063079834), (19, 7.184474945068359), (20, 7.2647364139556885), (21, 7.378005743026733), (22, 7.447445869445801), (23, 7.522339344024658), (24, 7.519196271896362), (25, 7.449842929840088), (26, 7.369282484054565), (27, 7.31310248374939), (28, 7.300127267837524), (29, 7.304819822311401), (30, 7.351237773895264), (31, 7.405157089233398), (32, 7.461976051330566), (33, 7.497720003128052), (34, 7.485979318618774), (35, 7.4138219356536865), (36, 7.357208013534546), (37, 7.330561637878418), (38, 7.3145012855529785), (39, 7.300514221191406), (40, 7.321386337280273), (41, 7.354931354522705), (42, 7.359016180038452), (43, 7.3571343421936035), (44, 7.359975576400757), (45, 7.401403188705444), (46, 7.422321557998657), (47, 7.440547943115234), (48, 7.4406726360321045), (49, 7.450540542602539), (50, 7.46614408493042)]\n",
            "INFO:flwr:app_fit: losses_centralized [(0, 8.255605220794678), (1, 7.236951589584351), (2, 10.775766372680664), (3, 7.589574813842773), (4, 7.729309558868408), (5, 7.0978004932403564), (6, 7.450541257858276), (7, 8.997098445892334), (8, 6.9901604652404785), (9, 6.976465940475464), (10, 7.044086933135986), (11, 7.062397241592407), (12, 7.056177377700806), (13, 7.055317401885986), (14, 7.054625988006592), (15, 7.064279079437256), (16, 7.07485556602478), (17, 7.084195137023926), (18, 7.124906063079834), (19, 7.184474945068359), (20, 7.2647364139556885), (21, 7.378005743026733), (22, 7.447445869445801), (23, 7.522339344024658), (24, 7.519196271896362), (25, 7.449842929840088), (26, 7.369282484054565), (27, 7.31310248374939), (28, 7.300127267837524), (29, 7.304819822311401), (30, 7.351237773895264), (31, 7.405157089233398), (32, 7.461976051330566), (33, 7.497720003128052), (34, 7.485979318618774), (35, 7.4138219356536865), (36, 7.357208013534546), (37, 7.330561637878418), (38, 7.3145012855529785), (39, 7.300514221191406), (40, 7.321386337280273), (41, 7.354931354522705), (42, 7.359016180038452), (43, 7.3571343421936035), (44, 7.359975576400757), (45, 7.401403188705444), (46, 7.422321557998657), (47, 7.440547943115234), (48, 7.4406726360321045), (49, 7.450540542602539), (50, 7.46614408493042)]\n",
            "INFO flwr 2024-02-05 22:20:53,031 | app.py:254 | app_fit: metrics_centralized {'accuracy': [(0, 0.0), (1, 0.078125), (2, 0.15625), (3, 0.109375), (4, 0.109375), (5, 0.109375), (6, 0.15625), (7, 0.15625), (8, 0.109375), (9, 0.15625), (10, 0.125), (11, 0.15625), (12, 0.15625), (13, 0.15625), (14, 0.15625), (15, 0.15625), (16, 0.15625), (17, 0.15625), (18, 0.15625), (19, 0.15625), (20, 0.15625), (21, 0.15625), (22, 0.15625), (23, 0.15625), (24, 0.15625), (25, 0.140625), (26, 0.125), (27, 0.125), (28, 0.125), (29, 0.109375), (30, 0.109375), (31, 0.15625), (32, 0.03125), (33, 0.03125), (34, 0.15625), (35, 0.15625), (36, 0.15625), (37, 0.15625), (38, 0.15625), (39, 0.109375), (40, 0.109375), (41, 0.109375), (42, 0.15625), (43, 0.15625), (44, 0.15625), (45, 0.0), (46, 0.0), (47, 0.0), (48, 0.15625), (49, 0.15625), (50, 0.15625)]}\n",
            "INFO:flwr:app_fit: metrics_centralized {'accuracy': [(0, 0.0), (1, 0.078125), (2, 0.15625), (3, 0.109375), (4, 0.109375), (5, 0.109375), (6, 0.15625), (7, 0.15625), (8, 0.109375), (9, 0.15625), (10, 0.125), (11, 0.15625), (12, 0.15625), (13, 0.15625), (14, 0.15625), (15, 0.15625), (16, 0.15625), (17, 0.15625), (18, 0.15625), (19, 0.15625), (20, 0.15625), (21, 0.15625), (22, 0.15625), (23, 0.15625), (24, 0.15625), (25, 0.140625), (26, 0.125), (27, 0.125), (28, 0.125), (29, 0.109375), (30, 0.109375), (31, 0.15625), (32, 0.03125), (33, 0.03125), (34, 0.15625), (35, 0.15625), (36, 0.15625), (37, 0.15625), (38, 0.15625), (39, 0.109375), (40, 0.109375), (41, 0.109375), (42, 0.15625), (43, 0.15625), (44, 0.15625), (45, 0.0), (46, 0.0), (47, 0.0), (48, 0.15625), (49, 0.15625), (50, 0.15625)]}\n"
          ]
        },
        {
          "output_type": "display_data",
          "data": {
            "text/plain": [
              "<Figure size 640x480 with 1 Axes>"
            ],
            "image/png": "[encoded data removed]"
          },
          "metadata": {}
        }
      ]
    },
    {
      "cell_type": "markdown",
      "source": [
        "We can see that with momentum the cosine similarity trends more towards the gradient and searches in that direction much more quickly for those weights to match that which is successful. This is in contrast to typical SGD which will just look in a more random way. Therefore, we see a more drastic change towards the direction of the ultimately final weights."
      ],
      "metadata": {
        "id": "5raTbkQjXfGe"
      }
    }
  ],
  "metadata": {
    "colab": {
      "provenance": []
    },
    "kernelspec": {
      "display_name": "Python 3",
      "name": "python3"
    },
    "language_info": {
      "codemirror_mode": {
        "name": "ipython",
        "version": 3
      },
      "file_extension": ".py",
      "mimetype": "text/x-python",
      "name": "python",
      "nbconvert_exporter": "python",
      "pygments_lexer": "ipython3",
      "version": "3.10.8"
    },
    "vscode": {
      "interpreter": {
        "hash": "224d0ab12de28608c5a4d7a39646ed9b98595177ad290f2912bfa68781d77d65"
      }
    }
  },
  "nbformat": 4,
  "nbformat_minor": 0
}